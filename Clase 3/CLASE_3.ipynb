{
  "cells": [
    {
      "cell_type": "markdown",
      "metadata": {
        "id": "0ZylNGBQmqsE"
      },
      "source": [
        "# Modelado Estocástico\n",
        "## Clase 3"
      ]
    },
    {
      "cell_type": "code",
      "execution_count": 1,
      "metadata": {
        "id": "6N7hI4TCmqsF"
      },
      "outputs": [],
      "source": [
        "import pandas as pd\n",
        "import numpy as np\n",
        "import matplotlib.pyplot as plt\n",
        "import scipy.stats as stats\n",
        "import statsmodels.api as sm\n",
        "from sklearn.linear_model import LinearRegression\n"
      ]
    },
    {
      "cell_type": "markdown",
      "metadata": {
        "id": "k1rJG2M_mqsG"
      },
      "source": [
        "### Ejercicio 2"
      ]
    },
    {
      "cell_type": "code",
      "execution_count": 2,
      "metadata": {
        "colab": {
          "base_uri": "https://localhost:8080/",
          "height": 206
        },
        "id": "IQlTyNR2mqsG",
        "outputId": "3c9d83e6-885f-4d23-d89f-3ddf059bbe3b"
      },
      "outputs": [
        {
          "data": {
            "text/html": [
              "<div>\n",
              "<style scoped>\n",
              "    .dataframe tbody tr th:only-of-type {\n",
              "        vertical-align: middle;\n",
              "    }\n",
              "\n",
              "    .dataframe tbody tr th {\n",
              "        vertical-align: top;\n",
              "    }\n",
              "\n",
              "    .dataframe thead th {\n",
              "        text-align: right;\n",
              "    }\n",
              "</style>\n",
              "<table border=\"1\" class=\"dataframe\">\n",
              "  <thead>\n",
              "    <tr style=\"text-align: right;\">\n",
              "      <th></th>\n",
              "      <th>Date</th>\n",
              "      <th>IBM</th>\n",
              "      <th>SP500</th>\n",
              "      <th>3mTB</th>\n",
              "    </tr>\n",
              "  </thead>\n",
              "  <tbody>\n",
              "    <tr>\n",
              "      <th>0</th>\n",
              "      <td>2019-05-01</td>\n",
              "      <td>95.365471</td>\n",
              "      <td>2752.060059</td>\n",
              "      <td>2.293</td>\n",
              "    </tr>\n",
              "    <tr>\n",
              "      <th>1</th>\n",
              "      <td>2019-06-01</td>\n",
              "      <td>104.788651</td>\n",
              "      <td>2941.760010</td>\n",
              "      <td>2.035</td>\n",
              "    </tr>\n",
              "    <tr>\n",
              "      <th>2</th>\n",
              "      <td>2019-07-01</td>\n",
              "      <td>112.645882</td>\n",
              "      <td>2980.379883</td>\n",
              "      <td>2.030</td>\n",
              "    </tr>\n",
              "    <tr>\n",
              "      <th>3</th>\n",
              "      <td>2019-08-01</td>\n",
              "      <td>102.987724</td>\n",
              "      <td>2926.459961</td>\n",
              "      <td>1.933</td>\n",
              "    </tr>\n",
              "    <tr>\n",
              "      <th>4</th>\n",
              "      <td>2019-09-01</td>\n",
              "      <td>111.805038</td>\n",
              "      <td>2976.739990</td>\n",
              "      <td>1.770</td>\n",
              "    </tr>\n",
              "  </tbody>\n",
              "</table>\n",
              "</div>"
            ],
            "text/plain": [
              "        Date         IBM        SP500   3mTB\n",
              "0 2019-05-01   95.365471  2752.060059  2.293\n",
              "1 2019-06-01  104.788651  2941.760010  2.035\n",
              "2 2019-07-01  112.645882  2980.379883  2.030\n",
              "3 2019-08-01  102.987724  2926.459961  1.933\n",
              "4 2019-09-01  111.805038  2976.739990  1.770"
            ]
          },
          "execution_count": 2,
          "metadata": {},
          "output_type": "execute_result"
        }
      ],
      "source": [
        "df = pd.read_excel('MIA103_Ejer_3_Datos.xlsx')[['Date','IBM_price','S&P500_index','3mTB (RF) anualizada']]\n",
        "df.columns = ['Date', 'IBM','SP500','3mTB']\n",
        "df.head()"
      ]
    },
    {
      "cell_type": "code",
      "execution_count": 3,
      "metadata": {
        "colab": {
          "base_uri": "https://localhost:8080/",
          "height": 206
        },
        "id": "M8su8dRlmqsH",
        "outputId": "656abaf7-ed17-42a8-8488-57c5551a632f"
      },
      "outputs": [
        {
          "data": {
            "text/html": [
              "<div>\n",
              "<style scoped>\n",
              "    .dataframe tbody tr th:only-of-type {\n",
              "        vertical-align: middle;\n",
              "    }\n",
              "\n",
              "    .dataframe tbody tr th {\n",
              "        vertical-align: top;\n",
              "    }\n",
              "\n",
              "    .dataframe thead th {\n",
              "        text-align: right;\n",
              "    }\n",
              "</style>\n",
              "<table border=\"1\" class=\"dataframe\">\n",
              "  <thead>\n",
              "    <tr style=\"text-align: right;\">\n",
              "      <th></th>\n",
              "      <th>Date</th>\n",
              "      <th>IBM</th>\n",
              "      <th>SP500</th>\n",
              "      <th>3mTB</th>\n",
              "      <th>R_IBM</th>\n",
              "      <th>R_SP</th>\n",
              "      <th>Rf</th>\n",
              "      <th>Ribm-Rf</th>\n",
              "      <th>Rsp-Rf</th>\n",
              "    </tr>\n",
              "  </thead>\n",
              "  <tbody>\n",
              "    <tr>\n",
              "      <th>1</th>\n",
              "      <td>2019-06-01</td>\n",
              "      <td>104.788651</td>\n",
              "      <td>2941.760010</td>\n",
              "      <td>2.035</td>\n",
              "      <td>0.098811</td>\n",
              "      <td>0.068930</td>\n",
              "      <td>0.001680</td>\n",
              "      <td>0.097131</td>\n",
              "      <td>0.067250</td>\n",
              "    </tr>\n",
              "    <tr>\n",
              "      <th>2</th>\n",
              "      <td>2019-07-01</td>\n",
              "      <td>112.645882</td>\n",
              "      <td>2980.379883</td>\n",
              "      <td>2.030</td>\n",
              "      <td>0.074982</td>\n",
              "      <td>0.013128</td>\n",
              "      <td>0.001676</td>\n",
              "      <td>0.073306</td>\n",
              "      <td>0.011452</td>\n",
              "    </tr>\n",
              "    <tr>\n",
              "      <th>3</th>\n",
              "      <td>2019-08-01</td>\n",
              "      <td>102.987724</td>\n",
              "      <td>2926.459961</td>\n",
              "      <td>1.933</td>\n",
              "      <td>-0.085739</td>\n",
              "      <td>-0.018092</td>\n",
              "      <td>0.001597</td>\n",
              "      <td>-0.087336</td>\n",
              "      <td>-0.019688</td>\n",
              "    </tr>\n",
              "    <tr>\n",
              "      <th>4</th>\n",
              "      <td>2019-09-01</td>\n",
              "      <td>111.805038</td>\n",
              "      <td>2976.739990</td>\n",
              "      <td>1.770</td>\n",
              "      <td>0.085615</td>\n",
              "      <td>0.017181</td>\n",
              "      <td>0.001463</td>\n",
              "      <td>0.084152</td>\n",
              "      <td>0.015718</td>\n",
              "    </tr>\n",
              "    <tr>\n",
              "      <th>5</th>\n",
              "      <td>2019-10-01</td>\n",
              "      <td>102.817261</td>\n",
              "      <td>3037.560059</td>\n",
              "      <td>1.498</td>\n",
              "      <td>-0.080388</td>\n",
              "      <td>0.020432</td>\n",
              "      <td>0.001240</td>\n",
              "      <td>-0.081628</td>\n",
              "      <td>0.019192</td>\n",
              "    </tr>\n",
              "  </tbody>\n",
              "</table>\n",
              "</div>"
            ],
            "text/plain": [
              "        Date         IBM        SP500   3mTB     R_IBM      R_SP        Rf  \\\n",
              "1 2019-06-01  104.788651  2941.760010  2.035  0.098811  0.068930  0.001680   \n",
              "2 2019-07-01  112.645882  2980.379883  2.030  0.074982  0.013128  0.001676   \n",
              "3 2019-08-01  102.987724  2926.459961  1.933 -0.085739 -0.018092  0.001597   \n",
              "4 2019-09-01  111.805038  2976.739990  1.770  0.085615  0.017181  0.001463   \n",
              "5 2019-10-01  102.817261  3037.560059  1.498 -0.080388  0.020432  0.001240   \n",
              "\n",
              "    Ribm-Rf    Rsp-Rf  \n",
              "1  0.097131  0.067250  \n",
              "2  0.073306  0.011452  \n",
              "3 -0.087336 -0.019688  \n",
              "4  0.084152  0.015718  \n",
              "5 -0.081628  0.019192  "
            ]
          },
          "execution_count": 3,
          "metadata": {},
          "output_type": "execute_result"
        }
      ],
      "source": [
        "df['R_IBM'] = df['IBM'].pct_change()\n",
        "df['R_SP'] = df['SP500'].pct_change()\n",
        "df['Rf'] = (1+df['3mTB']/100)**(1/12)-1\n",
        "df['Ribm-Rf'] = df['R_IBM']- df['Rf']\n",
        "df['Rsp-Rf'] = df['R_SP'] - df['Rf']\n",
        "df = df.dropna()\n",
        "df.head()"
      ]
    },
    {
      "cell_type": "code",
      "execution_count": null,
      "metadata": {
        "colab": {
          "base_uri": "https://localhost:8080/"
        },
        "id": "i4jNnzqtmqsH",
        "outputId": "4e0f8de0-c452-4770-c74a-03617a7c8934"
      },
      "outputs": [
        {
          "name": "stdout",
          "output_type": "stream",
          "text": [
            "                            OLS Regression Results                            \n",
            "==============================================================================\n",
            "Dep. Variable:                Ribm-Rf   R-squared:                       0.277\n",
            "Model:                            OLS   Adj. R-squared:                  0.264\n",
            "Method:                 Least Squares   F-statistic:                     21.82\n",
            "Date:                Fri, 29 Aug 2025   Prob (F-statistic):           1.87e-05\n",
            "Time:                        17:52:13   Log-Likelihood:                 83.451\n",
            "No. Observations:                  59   AIC:                            -162.9\n",
            "Df Residuals:                      57   BIC:                            -158.7\n",
            "Df Model:                           1                                         \n",
            "Covariance Type:            nonrobust                                         \n",
            "==============================================================================\n",
            "                 coef    std err          t      P>|t|      [0.025      0.975]\n",
            "------------------------------------------------------------------------------\n",
            "const          0.0031      0.008      0.394      0.695      -0.013       0.019\n",
            "Rsp-Rf         0.6976      0.149      4.671      0.000       0.399       0.997\n",
            "==============================================================================\n",
            "Omnibus:                        0.943   Durbin-Watson:                   2.131\n",
            "Prob(Omnibus):                  0.624   Jarque-Bera (JB):                0.691\n",
            "Skew:                          -0.265   Prob(JB):                        0.708\n",
            "Kurtosis:                       2.978   Cond. No.                         19.2\n",
            "==============================================================================\n",
            "\n",
            "Notes:\n",
            "[1] Standard Errors assume that the covariance matrix of the errors is correctly specified.\n"
          ]
        }
      ],
      "source": [
        "X = sm.add_constant(df['Rsp-Rf'])\n",
        "y = df['Ribm-Rf']\n",
        "\n",
        "# Ajustar modelo de regresión lineal\n",
        "modelo = sm.OLS(y, X).fit()\n",
        "\n",
        "# Resumen del modelo\n",
        "print(modelo.summary())"
      ]
    },
    {
      "cell_type": "markdown",
      "metadata": {
        "id": "FgK59kCvmqsH"
      },
      "source": [
        "### Ejercicio 3"
      ]
    },
    {
      "cell_type": "code",
      "execution_count": 5,
      "metadata": {
        "colab": {
          "base_uri": "https://localhost:8080/",
          "height": 206
        },
        "id": "MaMoOlPAmqsI",
        "outputId": "975f5a33-b4e9-4c2f-c655-3b592f178ecc"
      },
      "outputs": [
        {
          "data": {
            "text/html": [
              "<div>\n",
              "<style scoped>\n",
              "    .dataframe tbody tr th:only-of-type {\n",
              "        vertical-align: middle;\n",
              "    }\n",
              "\n",
              "    .dataframe tbody tr th {\n",
              "        vertical-align: top;\n",
              "    }\n",
              "\n",
              "    .dataframe thead th {\n",
              "        text-align: right;\n",
              "    }\n",
              "</style>\n",
              "<table border=\"1\" class=\"dataframe\">\n",
              "  <thead>\n",
              "    <tr style=\"text-align: right;\">\n",
              "      <th></th>\n",
              "      <th>Ganancias</th>\n",
              "      <th>Comp_CEO</th>\n",
              "    </tr>\n",
              "  </thead>\n",
              "  <tbody>\n",
              "    <tr>\n",
              "      <th>0</th>\n",
              "      <td>357.0</td>\n",
              "      <td>0.7</td>\n",
              "    </tr>\n",
              "    <tr>\n",
              "      <th>1</th>\n",
              "      <td>48.0</td>\n",
              "      <td>0.7</td>\n",
              "    </tr>\n",
              "    <tr>\n",
              "      <th>2</th>\n",
              "      <td>932.0</td>\n",
              "      <td>0.8</td>\n",
              "    </tr>\n",
              "    <tr>\n",
              "      <th>3</th>\n",
              "      <td>366.0</td>\n",
              "      <td>0.7</td>\n",
              "    </tr>\n",
              "    <tr>\n",
              "      <th>4</th>\n",
              "      <td>83.0</td>\n",
              "      <td>0.8</td>\n",
              "    </tr>\n",
              "  </tbody>\n",
              "</table>\n",
              "</div>"
            ],
            "text/plain": [
              "   Ganancias  Comp_CEO\n",
              "0      357.0       0.7\n",
              "1       48.0       0.7\n",
              "2      932.0       0.8\n",
              "3      366.0       0.7\n",
              "4       83.0       0.8"
            ]
          },
          "execution_count": 5,
          "metadata": {},
          "output_type": "execute_result"
        }
      ],
      "source": [
        "df3 = pd.read_excel('MIA103_Ejer_3_Datos.xlsx', sheet_name=2)\n",
        "df3.columns=['Ganancias','Comp_CEO']\n",
        "df3.head()"
      ]
    },
    {
      "cell_type": "code",
      "execution_count": 6,
      "metadata": {
        "colab": {
          "base_uri": "https://localhost:8080/"
        },
        "collapsed": true,
        "id": "7NVVnQDGmqsI",
        "outputId": "a8afaa86-b43a-475b-f41c-d30754210f1a"
      },
      "outputs": [
        {
          "name": "stdout",
          "output_type": "stream",
          "text": [
            "                            OLS Regression Results                            \n",
            "==============================================================================\n",
            "Dep. Variable:               Comp_CEO   R-squared:                       0.434\n",
            "Model:                            OLS   Adj. R-squared:                  0.426\n",
            "Method:                 Least Squares   F-statistic:                     52.24\n",
            "Date:                Fri, 29 Aug 2025   Prob (F-statistic):           5.50e-10\n",
            "Time:                        17:52:13   Log-Likelihood:                -73.655\n",
            "No. Observations:                  70   AIC:                             151.3\n",
            "Df Residuals:                      68   BIC:                             155.8\n",
            "Df Model:                           1                                         \n",
            "Covariance Type:            nonrobust                                         \n",
            "==============================================================================\n",
            "                 coef    std err          t      P>|t|      [0.025      0.975]\n",
            "------------------------------------------------------------------------------\n",
            "const          0.6000      0.112      5.342      0.000       0.376       0.824\n",
            "Ganancias      0.0008      0.000      7.228      0.000       0.001       0.001\n",
            "==============================================================================\n",
            "Omnibus:                       21.745   Durbin-Watson:                   2.045\n",
            "Prob(Omnibus):                  0.000   Jarque-Bera (JB):               36.165\n",
            "Skew:                           1.136   Prob(JB):                     1.40e-08\n",
            "Kurtosis:                       5.691   Cond. No.                     1.29e+03\n",
            "==============================================================================\n",
            "\n",
            "Notes:\n",
            "[1] Standard Errors assume that the covariance matrix of the errors is correctly specified.\n",
            "[2] The condition number is large, 1.29e+03. This might indicate that there are\n",
            "strong multicollinearity or other numerical problems.\n"
          ]
        }
      ],
      "source": [
        "X = sm.add_constant(df3['Ganancias'])\n",
        "y = df3['Comp_CEO']\n",
        "\n",
        "modelo = sm.OLS(y, X).fit()\n",
        "print(modelo.summary())"
      ]
    },
    {
      "cell_type": "code",
      "execution_count": 7,
      "metadata": {
        "colab": {
          "base_uri": "https://localhost:8080/",
          "height": 472
        },
        "id": "dV683ciYmqsI",
        "outputId": "7b7427b9-ad20-441a-817e-c89fdf43dba4"
      },
      "outputs": [
        {
          "data": {
            "image/png": "[encoded data removed]",
            "text/plain": [
              "<Figure size 640x480 with 1 Axes>"
            ]
          },
          "metadata": {},
          "output_type": "display_data"
        }
      ],
      "source": [
        "predicts = modelo.predict(X)\n",
        "plt.scatter(df3['Ganancias'], y, label = 'Datos', color='blue')\n",
        "plt.plot(df3['Ganancias'], predicts, color='red', label='Regresión lineal')\n",
        "plt.xlabel('Ganancias en millones')\n",
        "plt.ylabel('Compensación al CEO en millones')\n",
        "plt.title('Regresión Lineal')\n",
        "plt.legend()\n",
        "plt.grid(True)\n",
        "plt.show()"
      ]
    },
    {
      "cell_type": "code",
      "execution_count": 8,
      "metadata": {
        "id": "6tHMuF43mqsI"
      },
      "outputs": [],
      "source": [
        "se_beta = modelo.bse['Ganancias']\n",
        "beta_hat = modelo.params['Ganancias']\n",
        "n = modelo.nobs\n",
        "k = len(modelo.params)\n",
        "df = n - k"
      ]
    },
    {
      "cell_type": "code",
      "execution_count": 9,
      "metadata": {
        "colab": {
          "base_uri": "https://localhost:8080/"
        },
        "id": "HyRAfVCnmqsI",
        "outputId": "04c200d5-ed41-4172-e969-597dbe85be82"
      },
      "outputs": [
        {
          "name": "stdout",
          "output_type": "stream",
          "text": [
            "Estadístico t calculado: 7.2279\n",
            "Valor crítico t para alpha=0.01: ±2.6501\n"
          ]
        }
      ],
      "source": [
        "t_stat = beta_hat / se_beta\n",
        "\n",
        "# Nivel de significancia\n",
        "alpha = 0.01\n",
        "\n",
        "# Valor crítico para test a dos colas\n",
        "t_crit = stats.t.ppf(1 - alpha/2, df)\n",
        "\n",
        "print(f'Estadístico t calculado: {t_stat:.4f}')\n",
        "print(f'Valor crítico t para alpha={alpha}: ±{t_crit:.4f}')"
      ]
    }
  ],
  "metadata": {
    "colab": {
      "provenance": []
    },
    "kernelspec": {
      "display_name": "env-udesa",
      "language": "python",
      "name": "python3"
    },
    "language_info": {
      "codemirror_mode": {
        "name": "ipython",
        "version": 3
      },
      "file_extension": ".py",
      "mimetype": "text/x-python",
      "name": "python",
      "nbconvert_exporter": "python",
      "pygments_lexer": "ipython3",
      "version": "3.13.3"
    }
  },
  "nbformat": 4,
  "nbformat_minor": 0
}
