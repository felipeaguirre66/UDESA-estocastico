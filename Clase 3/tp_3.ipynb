{
 "cells": [
  {
   "cell_type": "markdown",
   "id": "814454c9",
   "metadata": {},
   "source": [
    "# 1)\n",
    "\n",
    "Ambos covarianza y varianza tienen multiplican por (1/n-1) que, al cancelarse entre sí, devuelven exactamente la fórmula para obtener el beta.\n",
    "\n",
    "Intuición útil: al dividir la covarianza entre x e y por la varianza en x, lo que estamos haciendo es:\n",
    "\n",
    "1. Ajustar la relación entre x e y a la escala de x, es decir, estamos normalizando la covarianza para que sea independiente de las unidades de x.\n",
    "2. Escalar la relación en términos de unidades de dispersión de x. Esto te da una medida del cambio esperado en y por cada cambio unitario en x, teniendo en cuenta cómo x se dispersa."
   ]
  },
  {
   "cell_type": "markdown",
   "id": "3e6f3744",
   "metadata": {},
   "source": [
    "# 2)\n",
    "a) por cada cambio en una unidad del prima de riesgo del mercado, aumenta 0.698 unidades la prima de riesgo de IBM. Es decir, IBM va bastante \"atado\" al mercado.\n",
    "\n",
    "b) p<<0, por lo que rechazamos que b1 sea 0.\n",
    "\n",
    "c)\n",
    "Tobs = (beta_obs - beta_null) / se(beta_obs) = (0.698 - 1) / 0.149 = -2.027\n",
    "\n",
    "p(x < -2.027) ~= 0.0236 -> a dos colas, p = 0.0236*2 = 0.0473 < 0.05, rechazo H0 de que beta = 1\n",
    "\n",
    "d)\n",
    "IC95% = beta_obs +- Zalpha/2 * se(beta_obs) = 0.698 + 1.96 * 0.149 = [0.404, 0.99] (en relalidad -> Talpha/2, df)\n",
    "\n",
    "Obs: se usa Z porque N es grande\n",
    "\n",
    "e) No, el IC contiene al 0\n",
    "\n",
    "f) si, en regresion lineal simple:\n",
    "- corr(x, y) = sqrt(R^2), con el signo del beta (+ o -)\n",
    "- corr(y, y_hat) = sqrt(R^2) # en múltiple solo vale esta\n",
    "\n",
    "Para esta consigna usamos la segunda:\n",
    "corr(x, y) = sqrt(R^2) = sqrt(0.2768468) = 0.526"
   ]
  },
  {
   "cell_type": "markdown",
   "id": "b187ef47",
   "metadata": {},
   "source": [
    "Obtener p dado un z"
   ]
  },
  {
   "cell_type": "code",
   "execution_count": 1,
   "id": "7333d4b3",
   "metadata": {},
   "outputs": [
    {
     "name": "stdout",
     "output_type": "stream",
     "text": [
      "P(x < 1) for Normal distribution: 0.8413447460685429\n",
      "P(x < 1) for Student's t-distribution (df=57): 0.8392315323678663\n",
      "P(x < 1) for Chi-Squared distribution (df=5): 0.03743422675270362\n"
     ]
    }
   ],
   "source": [
    "import scipy.stats as stats\n",
    "\n",
    "# Define the observed value\n",
    "z_obs = 1\n",
    "\n",
    "# 1. For Normal Distribution (Standard Normal)\n",
    "p_normal = stats.norm.cdf(z_obs)  # cdf = cumulative distribution function\n",
    "print(f\"P(x < {z_obs}) for Normal distribution: {p_normal}\")\n",
    "\n",
    "# 2. For Student's t-Distribution (with degrees of freedom)\n",
    "df_t = 59 - 2\n",
    "p_t_student = stats.t.cdf(z_obs, df_t)\n",
    "print(f\"P(x < {z_obs}) for Student's t-distribution (df={df_t}): {p_t_student}\")\n",
    "\n",
    "# 3. For Chi-Squared Distribution (with degrees of freedom)\n",
    "df_chi2 = 5  \n",
    "p_chi2 = stats.chi2.cdf(z_obs, df_chi2)\n",
    "print(f\"P(x < {z_obs}) for Chi-Squared distribution (df={df_chi2}): {p_chi2}\")"
   ]
  },
  {
   "cell_type": "markdown",
   "id": "6d0fc80a",
   "metadata": {},
   "source": [
    "obtener z dado un p"
   ]
  },
  {
   "cell_type": "code",
   "execution_count": 2,
   "id": "82765465",
   "metadata": {},
   "outputs": [
    {
     "name": "stdout",
     "output_type": "stream",
     "text": [
      "z for P(x < z) = 0.025 for Normal distribution: -1.9599639845400545\n",
      "z for P(x < z) = 0.025 for Student's t-distribution (df=10): -2.2281388519649385\n",
      "z for P(x < z) = 0.025 for Chi-Squared distribution (df=5): 0.8312116134866626\n"
     ]
    }
   ],
   "source": [
    "import scipy.stats as stats\n",
    "\n",
    "# Define the probability\n",
    "p = 0.025\n",
    "\n",
    "# 1. For Normal Distribution (Standard Normal)\n",
    "z_normal = stats.norm.ppf(p)  # ppf = percent point function (inverse of cdf)\n",
    "print(f\"z for P(x < z) = {p} for Normal distribution: {z_normal}\")\n",
    "\n",
    "# 2. For Student's t-Distribution (with degrees of freedom)\n",
    "df_t = 10  # Example degrees of freedom (adjust as needed)\n",
    "z_t_student = stats.t.ppf(p, df_t)\n",
    "print(f\"z for P(x < z) = {p} for Student's t-distribution (df={df_t}): {z_t_student}\")\n",
    "\n",
    "# 3. For Chi-Squared Distribution (with degrees of freedom)\n",
    "df_chi2 = 5  # Example degrees of freedom (adjust as needed)\n",
    "z_chi2 = stats.chi2.ppf(p, df_chi2)\n",
    "print(f\"z for P(x < z) = {p} for Chi-Squared distribution (df={df_chi2}): {z_chi2}\")"
   ]
  },
  {
   "cell_type": "markdown",
   "id": "6946a857",
   "metadata": {},
   "source": [
    "# 3)\n",
    "b) por cada unidad que aumenta ganancias (millones), aumenta 0.0842 la compensasición al CEO (en $10,000)\n",
    "\n",
    "c) \n",
    "\n",
    "Tobs = beta_obs / se(beta_obs) = 0.0842 / 0.012 = 7.017\n",
    "\n",
    "p(t < Tobs) = p(t < 7.017) < 0.0001 (a dos colas es el doble, igual rechaza)\n",
    "\n",
    "d) el 43.4% de la varianza es explicada"
   ]
  },
  {
   "cell_type": "code",
   "execution_count": 34,
   "id": "d80f187b",
   "metadata": {},
   "outputs": [
    {
     "data": {
      "text/html": [
       "<div>\n",
       "<style scoped>\n",
       "    .dataframe tbody tr th:only-of-type {\n",
       "        vertical-align: middle;\n",
       "    }\n",
       "\n",
       "    .dataframe tbody tr th {\n",
       "        vertical-align: top;\n",
       "    }\n",
       "\n",
       "    .dataframe thead th {\n",
       "        text-align: right;\n",
       "    }\n",
       "</style>\n",
       "<table border=\"1\" class=\"dataframe\">\n",
       "  <thead>\n",
       "    <tr style=\"text-align: right;\">\n",
       "      <th></th>\n",
       "      <th>Ganancias ($millones)</th>\n",
       "      <th>Compensación al CEO ($millones)</th>\n",
       "      <th>Compensación al CEO ($10,000)</th>\n",
       "    </tr>\n",
       "  </thead>\n",
       "  <tbody>\n",
       "    <tr>\n",
       "      <th>0</th>\n",
       "      <td>357.0</td>\n",
       "      <td>0.7</td>\n",
       "      <td>70.0</td>\n",
       "    </tr>\n",
       "    <tr>\n",
       "      <th>1</th>\n",
       "      <td>48.0</td>\n",
       "      <td>0.7</td>\n",
       "      <td>70.0</td>\n",
       "    </tr>\n",
       "    <tr>\n",
       "      <th>2</th>\n",
       "      <td>932.0</td>\n",
       "      <td>0.8</td>\n",
       "      <td>80.0</td>\n",
       "    </tr>\n",
       "    <tr>\n",
       "      <th>3</th>\n",
       "      <td>366.0</td>\n",
       "      <td>0.7</td>\n",
       "      <td>70.0</td>\n",
       "    </tr>\n",
       "    <tr>\n",
       "      <th>4</th>\n",
       "      <td>83.0</td>\n",
       "      <td>0.8</td>\n",
       "      <td>80.0</td>\n",
       "    </tr>\n",
       "  </tbody>\n",
       "</table>\n",
       "</div>"
      ],
      "text/plain": [
       "   Ganancias ($millones)  Compensación al CEO ($millones)  \\\n",
       "0                  357.0                              0.7   \n",
       "1                   48.0                              0.7   \n",
       "2                  932.0                              0.8   \n",
       "3                  366.0                              0.7   \n",
       "4                   83.0                              0.8   \n",
       "\n",
       "   Compensación al CEO ($10,000)  \n",
       "0                           70.0  \n",
       "1                           70.0  \n",
       "2                           80.0  \n",
       "3                           70.0  \n",
       "4                           80.0  "
      ]
     },
     "execution_count": 34,
     "metadata": {},
     "output_type": "execute_result"
    }
   ],
   "source": [
    "import pandas as pd\n",
    "df = pd.read_excel(\"MIA103_Ejer_3_Datos.xlsx\", sheet_name=2)\n",
    "df['Compensación al CEO ($10,000)'] = df['Compensación al CEO ($millones)'] * 100 # Convert to tenths of thousands of dollars\n",
    "df.head()"
   ]
  },
  {
   "cell_type": "code",
   "execution_count": 35,
   "id": "b209b455",
   "metadata": {},
   "outputs": [
    {
     "name": "stdout",
     "output_type": "stream",
     "text": [
      "                                  OLS Regression Results                                 \n",
      "=========================================================================================\n",
      "Dep. Variable:     Compensación al CEO ($10,000)   R-squared:                       0.434\n",
      "Model:                                       OLS   Adj. R-squared:                  0.426\n",
      "Method:                            Least Squares   F-statistic:                     52.24\n",
      "Date:                           Wed, 09 Jul 2025   Prob (F-statistic):           5.50e-10\n",
      "Time:                                   15:35:14   Log-Likelihood:                -396.02\n",
      "No. Observations:                             70   AIC:                             796.0\n",
      "Df Residuals:                                 68   BIC:                             800.5\n",
      "Df Model:                                      1                                         \n",
      "Covariance Type:                       nonrobust                                         \n",
      "=========================================================================================\n",
      "                            coef    std err          t      P>|t|      [0.025      0.975]\n",
      "-----------------------------------------------------------------------------------------\n",
      "const                    59.9965     11.232      5.342      0.000      37.584      82.409\n",
      "Ganancias ($millones)     0.0842      0.012      7.228      0.000       0.061       0.107\n",
      "==============================================================================\n",
      "Omnibus:                       21.745   Durbin-Watson:                   2.045\n",
      "Prob(Omnibus):                  0.000   Jarque-Bera (JB):               36.165\n",
      "Skew:                           1.136   Prob(JB):                     1.40e-08\n",
      "Kurtosis:                       5.691   Cond. No.                     1.29e+03\n",
      "==============================================================================\n",
      "\n",
      "Notes:\n",
      "[1] Standard Errors assume that the covariance matrix of the errors is correctly specified.\n",
      "[2] The condition number is large, 1.29e+03. This might indicate that there are\n",
      "strong multicollinearity or other numerical problems.\n"
     ]
    }
   ],
   "source": [
    "import statsmodels.api as sm\n",
    "\n",
    "X = df[['Ganancias ($millones)']] \n",
    "y = df['Compensación al CEO ($10,000)']\n",
    "\n",
    "X = sm.add_constant(X)\n",
    "\n",
    "model = sm.OLS(y, X).fit()\n",
    "\n",
    "print(model.summary())"
   ]
  }
 ],
 "metadata": {
  "kernelspec": {
   "display_name": "env-udesa",
   "language": "python",
   "name": "python3"
  },
  "language_info": {
   "codemirror_mode": {
    "name": "ipython",
    "version": 3
   },
   "file_extension": ".py",
   "mimetype": "text/x-python",
   "name": "python",
   "nbconvert_exporter": "python",
   "pygments_lexer": "ipython3",
   "version": "3.13.3"
  }
 },
 "nbformat": 4,
 "nbformat_minor": 5
}
