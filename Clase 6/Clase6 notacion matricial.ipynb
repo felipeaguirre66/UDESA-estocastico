{
  "cells": [
    {
      "cell_type": "markdown",
      "metadata": {
        "id": "aasMV9NMH0bQ"
      },
      "source": [
        "# Modelado Estocástico\n",
        "## Clase 6 - Notación Matricial"
      ]
    },
    {
      "cell_type": "code",
      "execution_count": 3,
      "metadata": {
        "id": "P2SKUuScH0bS"
      },
      "outputs": [],
      "source": [
        "import pandas as pd\n",
        "import numpy as np\n",
        "import statsmodels.api as sm\n",
        "import statsmodels.formula.api as smf\n",
        "import matplotlib.pyplot as plt\n",
        "import numpy.linalg as nplin"
      ]
    },
    {
      "cell_type": "code",
      "execution_count": 4,
      "metadata": {
        "colab": {
          "base_uri": "https://localhost:8080/",
          "height": 206
        },
        "id": "vTVyL9AgH0bT",
        "outputId": "1c8c5b8c-b139-4836-eac8-a05018278099"
      },
      "outputs": [
        {
          "data": {
            "text/html": [
              "<div>\n",
              "<style scoped>\n",
              "    .dataframe tbody tr th:only-of-type {\n",
              "        vertical-align: middle;\n",
              "    }\n",
              "\n",
              "    .dataframe tbody tr th {\n",
              "        vertical-align: top;\n",
              "    }\n",
              "\n",
              "    .dataframe thead th {\n",
              "        text-align: right;\n",
              "    }\n",
              "</style>\n",
              "<table border=\"1\" class=\"dataframe\">\n",
              "  <thead>\n",
              "    <tr style=\"text-align: right;\">\n",
              "      <th></th>\n",
              "      <th>Ganancias</th>\n",
              "      <th>Compensacion_CEO</th>\n",
              "    </tr>\n",
              "  </thead>\n",
              "  <tbody>\n",
              "    <tr>\n",
              "      <th>0</th>\n",
              "      <td>357.0</td>\n",
              "      <td>0.7</td>\n",
              "    </tr>\n",
              "    <tr>\n",
              "      <th>1</th>\n",
              "      <td>48.0</td>\n",
              "      <td>0.7</td>\n",
              "    </tr>\n",
              "    <tr>\n",
              "      <th>2</th>\n",
              "      <td>932.0</td>\n",
              "      <td>0.8</td>\n",
              "    </tr>\n",
              "    <tr>\n",
              "      <th>3</th>\n",
              "      <td>366.0</td>\n",
              "      <td>0.7</td>\n",
              "    </tr>\n",
              "    <tr>\n",
              "      <th>4</th>\n",
              "      <td>83.0</td>\n",
              "      <td>0.8</td>\n",
              "    </tr>\n",
              "  </tbody>\n",
              "</table>\n",
              "</div>"
            ],
            "text/plain": [
              "   Ganancias  Compensacion_CEO\n",
              "0      357.0               0.7\n",
              "1       48.0               0.7\n",
              "2      932.0               0.8\n",
              "3      366.0               0.7\n",
              "4       83.0               0.8"
            ]
          },
          "execution_count": 4,
          "metadata": {},
          "output_type": "execute_result"
        }
      ],
      "source": [
        "df = pd.read_excel('ceo.xlsx', sheet_name='Hoja1', usecols='A:B')\n",
        "df.head()"
      ]
    },
    {
      "cell_type": "markdown",
      "metadata": {
        "id": "YUUORk5gH0bU"
      },
      "source": [
        "### Regresión Compensacion_CEO ~ Ganancias (con constante)"
      ]
    },
    {
      "cell_type": "code",
      "execution_count": 5,
      "metadata": {
        "colab": {
          "base_uri": "https://localhost:8080/"
        },
        "id": "oMzHuvgdH0bU",
        "outputId": "d666fd61-f11f-4147-fb70-902085470f03"
      },
      "outputs": [
        {
          "name": "stdout",
          "output_type": "stream",
          "text": [
            "                            OLS Regression Results                            \n",
            "==============================================================================\n",
            "Dep. Variable:       Compensacion_CEO   R-squared:                       0.434\n",
            "Model:                            OLS   Adj. R-squared:                  0.426\n",
            "Method:                 Least Squares   F-statistic:                     52.24\n",
            "Date:                Wed, 20 Aug 2025   Prob (F-statistic):           5.50e-10\n",
            "Time:                        21:18:22   Log-Likelihood:                -73.655\n",
            "No. Observations:                  70   AIC:                             151.3\n",
            "Df Residuals:                      68   BIC:                             155.8\n",
            "Df Model:                           1                                         \n",
            "Covariance Type:            nonrobust                                         \n",
            "==============================================================================\n",
            "                 coef    std err          t      P>|t|      [0.025      0.975]\n",
            "------------------------------------------------------------------------------\n",
            "const          0.6000      0.112      5.342      0.000       0.376       0.824\n",
            "Ganancias      0.0008      0.000      7.228      0.000       0.001       0.001\n",
            "==============================================================================\n",
            "Omnibus:                       21.745   Durbin-Watson:                   2.045\n",
            "Prob(Omnibus):                  0.000   Jarque-Bera (JB):               36.165\n",
            "Skew:                           1.136   Prob(JB):                     1.40e-08\n",
            "Kurtosis:                       5.691   Cond. No.                     1.29e+03\n",
            "==============================================================================\n",
            "\n",
            "Notes:\n",
            "[1] Standard Errors assume that the covariance matrix of the errors is correctly specified.\n",
            "[2] The condition number is large, 1.29e+03. This might indicate that there are\n",
            "strong multicollinearity or other numerical problems.\n"
          ]
        }
      ],
      "source": [
        "X = sm.add_constant(df[\"Ganancias\"])\n",
        "y = df[\"Compensacion_CEO\"]\n",
        "model1 = sm.OLS(y, X).fit()\n",
        "print(model1.summary())"
      ]
    },
    {
      "cell_type": "markdown",
      "metadata": {
        "id": "v9pqGGM0H0bU"
      },
      "source": [
        "### Vamos a realizar las cuentas operando con matrices"
      ]
    },
    {
      "cell_type": "code",
      "execution_count": 6,
      "metadata": {
        "colab": {
          "base_uri": "https://localhost:8080/",
          "height": 206
        },
        "id": "sEFqdNAaH0bV",
        "outputId": "ce6a4d54-17cb-4e28-e7eb-6068743c6f68"
      },
      "outputs": [
        {
          "data": {
            "text/html": [
              "<div>\n",
              "<style scoped>\n",
              "    .dataframe tbody tr th:only-of-type {\n",
              "        vertical-align: middle;\n",
              "    }\n",
              "\n",
              "    .dataframe tbody tr th {\n",
              "        vertical-align: top;\n",
              "    }\n",
              "\n",
              "    .dataframe thead th {\n",
              "        text-align: right;\n",
              "    }\n",
              "</style>\n",
              "<table border=\"1\" class=\"dataframe\">\n",
              "  <thead>\n",
              "    <tr style=\"text-align: right;\">\n",
              "      <th></th>\n",
              "      <th>const</th>\n",
              "      <th>Ganancias</th>\n",
              "    </tr>\n",
              "  </thead>\n",
              "  <tbody>\n",
              "    <tr>\n",
              "      <th>0</th>\n",
              "      <td>1.0</td>\n",
              "      <td>357.0</td>\n",
              "    </tr>\n",
              "    <tr>\n",
              "      <th>1</th>\n",
              "      <td>1.0</td>\n",
              "      <td>48.0</td>\n",
              "    </tr>\n",
              "    <tr>\n",
              "      <th>2</th>\n",
              "      <td>1.0</td>\n",
              "      <td>932.0</td>\n",
              "    </tr>\n",
              "    <tr>\n",
              "      <th>3</th>\n",
              "      <td>1.0</td>\n",
              "      <td>366.0</td>\n",
              "    </tr>\n",
              "    <tr>\n",
              "      <th>4</th>\n",
              "      <td>1.0</td>\n",
              "      <td>83.0</td>\n",
              "    </tr>\n",
              "  </tbody>\n",
              "</table>\n",
              "</div>"
            ],
            "text/plain": [
              "   const  Ganancias\n",
              "0    1.0      357.0\n",
              "1    1.0       48.0\n",
              "2    1.0      932.0\n",
              "3    1.0      366.0\n",
              "4    1.0       83.0"
            ]
          },
          "execution_count": 6,
          "metadata": {},
          "output_type": "execute_result"
        }
      ],
      "source": [
        "X.head()"
      ]
    },
    {
      "cell_type": "code",
      "execution_count": 7,
      "metadata": {
        "colab": {
          "base_uri": "https://localhost:8080/",
          "height": 241
        },
        "id": "o9k9N-EhH0bV",
        "outputId": "47d27812-76c5-4686-9ccb-c16094b129b7"
      },
      "outputs": [
        {
          "data": {
            "text/plain": [
              "0    0.7\n",
              "1    0.7\n",
              "2    0.8\n",
              "3    0.7\n",
              "4    0.8\n",
              "Name: Compensacion_CEO, dtype: float64"
            ]
          },
          "execution_count": 7,
          "metadata": {},
          "output_type": "execute_result"
        }
      ],
      "source": [
        "y.head()"
      ]
    },
    {
      "cell_type": "markdown",
      "metadata": {
        "id": "1gzZ2ovdH0bV"
      },
      "source": [
        "### Matriz transpuesta de X"
      ]
    },
    {
      "cell_type": "code",
      "execution_count": 8,
      "metadata": {
        "colab": {
          "base_uri": "https://localhost:8080/",
          "height": 141
        },
        "id": "eve_YhQEH0bW",
        "outputId": "8cb36f69-434d-4884-e5ca-4f5fa39975d9"
      },
      "outputs": [
        {
          "data": {
            "text/html": [
              "<div>\n",
              "<style scoped>\n",
              "    .dataframe tbody tr th:only-of-type {\n",
              "        vertical-align: middle;\n",
              "    }\n",
              "\n",
              "    .dataframe tbody tr th {\n",
              "        vertical-align: top;\n",
              "    }\n",
              "\n",
              "    .dataframe thead th {\n",
              "        text-align: right;\n",
              "    }\n",
              "</style>\n",
              "<table border=\"1\" class=\"dataframe\">\n",
              "  <thead>\n",
              "    <tr style=\"text-align: right;\">\n",
              "      <th></th>\n",
              "      <th>0</th>\n",
              "      <th>1</th>\n",
              "      <th>2</th>\n",
              "      <th>3</th>\n",
              "      <th>4</th>\n",
              "      <th>5</th>\n",
              "      <th>6</th>\n",
              "      <th>7</th>\n",
              "      <th>8</th>\n",
              "      <th>9</th>\n",
              "      <th>...</th>\n",
              "      <th>60</th>\n",
              "      <th>61</th>\n",
              "      <th>62</th>\n",
              "      <th>63</th>\n",
              "      <th>64</th>\n",
              "      <th>65</th>\n",
              "      <th>66</th>\n",
              "      <th>67</th>\n",
              "      <th>68</th>\n",
              "      <th>69</th>\n",
              "    </tr>\n",
              "  </thead>\n",
              "  <tbody>\n",
              "    <tr>\n",
              "      <th>const</th>\n",
              "      <td>1.0</td>\n",
              "      <td>1.0</td>\n",
              "      <td>1.0</td>\n",
              "      <td>1.0</td>\n",
              "      <td>1.0</td>\n",
              "      <td>1.0</td>\n",
              "      <td>1.0</td>\n",
              "      <td>1.0</td>\n",
              "      <td>1.0</td>\n",
              "      <td>1.0</td>\n",
              "      <td>...</td>\n",
              "      <td>1.0</td>\n",
              "      <td>1.0</td>\n",
              "      <td>1.0</td>\n",
              "      <td>1.0</td>\n",
              "      <td>1.0</td>\n",
              "      <td>1.0</td>\n",
              "      <td>1.0</td>\n",
              "      <td>1.0</td>\n",
              "      <td>1.0</td>\n",
              "      <td>1.0</td>\n",
              "    </tr>\n",
              "    <tr>\n",
              "      <th>Ganancias</th>\n",
              "      <td>357.0</td>\n",
              "      <td>48.0</td>\n",
              "      <td>932.0</td>\n",
              "      <td>366.0</td>\n",
              "      <td>83.0</td>\n",
              "      <td>22.0</td>\n",
              "      <td>67.0</td>\n",
              "      <td>413.0</td>\n",
              "      <td>496.0</td>\n",
              "      <td>458.0</td>\n",
              "      <td>...</td>\n",
              "      <td>2304.0</td>\n",
              "      <td>29.0</td>\n",
              "      <td>2493.0</td>\n",
              "      <td>71.0</td>\n",
              "      <td>185.0</td>\n",
              "      <td>327.0</td>\n",
              "      <td>409.0</td>\n",
              "      <td>117.0</td>\n",
              "      <td>179.0</td>\n",
              "      <td>234.0</td>\n",
              "    </tr>\n",
              "  </tbody>\n",
              "</table>\n",
              "<p>2 rows × 70 columns</p>\n",
              "</div>"
            ],
            "text/plain": [
              "              0     1      2      3     4     5     6      7      8      9   \\\n",
              "const        1.0   1.0    1.0    1.0   1.0   1.0   1.0    1.0    1.0    1.0   \n",
              "Ganancias  357.0  48.0  932.0  366.0  83.0  22.0  67.0  413.0  496.0  458.0   \n",
              "\n",
              "           ...      60    61      62    63     64     65     66     67     68  \\\n",
              "const      ...     1.0   1.0     1.0   1.0    1.0    1.0    1.0    1.0    1.0   \n",
              "Ganancias  ...  2304.0  29.0  2493.0  71.0  185.0  327.0  409.0  117.0  179.0   \n",
              "\n",
              "              69  \n",
              "const        1.0  \n",
              "Ganancias  234.0  \n",
              "\n",
              "[2 rows x 70 columns]"
            ]
          },
          "execution_count": 8,
          "metadata": {},
          "output_type": "execute_result"
        }
      ],
      "source": [
        "X.transpose()"
      ]
    },
    {
      "cell_type": "markdown",
      "metadata": {
        "id": "PE40nJ4PH0bW"
      },
      "source": [
        "Comparamos las dimensiones de X y su matriz transpuesta:"
      ]
    },
    {
      "cell_type": "code",
      "execution_count": 9,
      "metadata": {
        "colab": {
          "base_uri": "https://localhost:8080/"
        },
        "id": "XtSTZDj7H0bW",
        "outputId": "354c4ab8-689b-472c-c64a-154f4c5edea0"
      },
      "outputs": [
        {
          "name": "stdout",
          "output_type": "stream",
          "text": [
            "X = (70, 2) \n",
            "X transpuesta = (2, 70)\n"
          ]
        }
      ],
      "source": [
        "print(f\"X = {X.shape} \\nX transpuesta = {X.transpose().shape}\")"
      ]
    },
    {
      "cell_type": "markdown",
      "metadata": {
        "id": "s-Lp-YraH0bW"
      },
      "source": [
        "### Vamos a calcular los estimadores usando las expresiones de matrices\n",
        "\n",
        "Sabemos que $\\hat{\\beta} = (X'X)^{-1}(X'y)$\n",
        "\n",
        "`np.lininv` calcula la inversa de una matriz y `@` multiplica matrices.\n",
        "\n",
        "Veamos dos formas de escribir lo mismo, se pueden sumar paréntesis si no cambian el sentido de las operaciones."
      ]
    },
    {
      "cell_type": "code",
      "execution_count": 10,
      "metadata": {
        "id": "4M4ITo94H0bW"
      },
      "outputs": [],
      "source": [
        "beta_sombrero = nplin.inv(X.transpose() @ X) @ (X.transpose() @ y)\n",
        "beta_sombrero2 = np.linalg.inv(X.T @ X) @ (X.T @ y)"
      ]
    },
    {
      "cell_type": "markdown",
      "metadata": {
        "id": "VqkmOND0H0bW"
      },
      "source": [
        "Chequeamos que son operaciones equivalentes:"
      ]
    },
    {
      "cell_type": "code",
      "execution_count": 11,
      "metadata": {
        "colab": {
          "base_uri": "https://localhost:8080/"
        },
        "id": "EIuCMt32H0bW",
        "outputId": "802f5a26-c98c-4c87-bcb2-10a0670a8166"
      },
      "outputs": [
        {
          "data": {
            "text/plain": [
              "True"
            ]
          },
          "execution_count": 11,
          "metadata": {},
          "output_type": "execute_result"
        }
      ],
      "source": [
        "np.allclose(beta_sombrero2, beta_sombrero)"
      ]
    },
    {
      "cell_type": "markdown",
      "metadata": {
        "id": "RVSZmyJ4H0bW"
      },
      "source": [
        "### Matrices de Proyeccion"
      ]
    },
    {
      "cell_type": "markdown",
      "metadata": {
        "id": "xgBWftkVH0bW"
      },
      "source": [
        "Notar que:\n",
        "\n",
        "$e = y - \\hat{y}$\n",
        "\n",
        "$\\hat{y} = X @ \\hat{\\beta} = X (X'X)^{-1}(X'y) = P$\n",
        "\n",
        "donde\n",
        "$P = X(X'X)^{-1}X'$\n",
        "\n",
        "La matriz P es una matriz de $nxn$ idempotente que proyecta sobre el espacio generado por las columnas de X.\n",
        "\n",
        "Vemos que P satisface la definición de matriz idempotente, ya que $P @ P = P$"
      ]
    },
    {
      "cell_type": "code",
      "execution_count": 12,
      "metadata": {
        "colab": {
          "base_uri": "https://localhost:8080/",
          "height": 241
        },
        "id": "dHLt1RbqH0bX",
        "outputId": "d79e93ff-012e-47a8-be31-d214773693b1"
      },
      "outputs": [
        {
          "data": {
            "text/plain": [
              "0    0.900676\n",
              "1    0.640397\n",
              "2    1.385014\n",
              "3    0.908257\n",
              "4    0.669878\n",
              "dtype: float64"
            ]
          },
          "execution_count": 12,
          "metadata": {},
          "output_type": "execute_result"
        }
      ],
      "source": [
        "y_sombrero = X @ beta_sombrero\n",
        "y_sombrero.head()"
      ]
    },
    {
      "cell_type": "code",
      "execution_count": 13,
      "metadata": {
        "colab": {
          "base_uri": "https://localhost:8080/",
          "height": 241
        },
        "id": "Yb76Jn36H0bX",
        "outputId": "fa2f19f0-d3f1-491f-f72a-2a5fd2c9caf0"
      },
      "outputs": [
        {
          "data": {
            "text/plain": [
              "0    0.900676\n",
              "1    0.640397\n",
              "2    1.385014\n",
              "3    0.908257\n",
              "4    0.669878\n",
              "dtype: float64"
            ]
          },
          "execution_count": 13,
          "metadata": {},
          "output_type": "execute_result"
        }
      ],
      "source": [
        "model1.fittedvalues.head()"
      ]
    },
    {
      "cell_type": "markdown",
      "metadata": {
        "id": "miNdqK8GH0bX"
      },
      "source": [
        "Como se puede apreciar, tienen los mismos valores"
      ]
    },
    {
      "cell_type": "code",
      "execution_count": 14,
      "metadata": {
        "colab": {
          "base_uri": "https://localhost:8080/"
        },
        "id": "XlVl16FoH0bX",
        "outputId": "19e203ca-4c48-471b-b099-fa6af21aa34d"
      },
      "outputs": [
        {
          "data": {
            "text/plain": [
              "True"
            ]
          },
          "execution_count": 14,
          "metadata": {},
          "output_type": "execute_result"
        }
      ],
      "source": [
        "np.allclose(y_sombrero , model1.fittedvalues)"
      ]
    },
    {
      "cell_type": "code",
      "execution_count": 15,
      "metadata": {
        "colab": {
          "base_uri": "https://localhost:8080/",
          "height": 241
        },
        "id": "HdQRql0xH0bX",
        "outputId": "c377268e-dedb-4358-d45d-3ee3bdde1b0e"
      },
      "outputs": [
        {
          "data": {
            "text/plain": [
              "0   -0.200676\n",
              "1    0.059603\n",
              "2   -0.585014\n",
              "3   -0.208257\n",
              "4    0.130122\n",
              "dtype: float64"
            ]
          },
          "execution_count": 15,
          "metadata": {},
          "output_type": "execute_result"
        }
      ],
      "source": [
        "e = y - y_sombrero\n",
        "e.head()"
      ]
    },
    {
      "cell_type": "code",
      "execution_count": 16,
      "metadata": {
        "colab": {
          "base_uri": "https://localhost:8080/",
          "height": 241
        },
        "id": "BVyUJ7rCH0bX",
        "outputId": "71bf2d0c-53fc-4f93-9adf-b3ed62ab0d10"
      },
      "outputs": [
        {
          "data": {
            "text/plain": [
              "0   -0.200676\n",
              "1    0.059603\n",
              "2   -0.585014\n",
              "3   -0.208257\n",
              "4    0.130122\n",
              "dtype: float64"
            ]
          },
          "execution_count": 16,
          "metadata": {},
          "output_type": "execute_result"
        }
      ],
      "source": [
        "model1.resid.head()"
      ]
    },
    {
      "cell_type": "code",
      "execution_count": 17,
      "metadata": {
        "colab": {
          "base_uri": "https://localhost:8080/"
        },
        "id": "XmITfDxoH0bX",
        "outputId": "3e75bfbd-cea5-4621-aee5-cd3757558ef0"
      },
      "outputs": [
        {
          "data": {
            "text/plain": [
              "True"
            ]
          },
          "execution_count": 17,
          "metadata": {},
          "output_type": "execute_result"
        }
      ],
      "source": [
        "np.allclose(e , model1.resid)"
      ]
    },
    {
      "cell_type": "markdown",
      "metadata": {
        "id": "B_NOrpbOH0bX"
      },
      "source": [
        "X es un dataframe de Pandas, pero queremos operar sus valores como matriz. Para eso hacemos la conversión de sus valores a NumPy:"
      ]
    },
    {
      "cell_type": "code",
      "execution_count": 18,
      "metadata": {
        "id": "jU6s5yBYH0bX"
      },
      "outputs": [],
      "source": [
        "X_np = X.values\n",
        "P = X_np @ np.linalg.inv(X_np.T @ X_np) @ X_np.T"
      ]
    },
    {
      "cell_type": "code",
      "execution_count": 19,
      "metadata": {
        "colab": {
          "base_uri": "https://localhost:8080/",
          "height": 204
        },
        "id": "8FGz8QEvH0bX",
        "outputId": "da3ac549-ec99-4241-f44d-8b8b65a55044"
      },
      "outputs": [
        {
          "data": {
            "text/plain": [
              "pandas.core.frame.DataFrame"
            ]
          },
          "execution_count": 19,
          "metadata": {},
          "output_type": "execute_result"
        }
      ],
      "source": [
        "type(X)"
      ]
    },
    {
      "cell_type": "code",
      "execution_count": 20,
      "metadata": {
        "colab": {
          "base_uri": "https://localhost:8080/"
        },
        "id": "i9UKxCr1H0bX",
        "outputId": "243d2c57-55ad-4f0e-dcc9-263666b34f3d"
      },
      "outputs": [
        {
          "data": {
            "text/plain": [
              "numpy.ndarray"
            ]
          },
          "execution_count": 20,
          "metadata": {},
          "output_type": "execute_result"
        }
      ],
      "source": [
        "type(X_np)"
      ]
    },
    {
      "cell_type": "code",
      "execution_count": 21,
      "metadata": {
        "colab": {
          "base_uri": "https://localhost:8080/"
        },
        "id": "EhMFK47IH0bY",
        "outputId": "793142b7-00c0-41dd-8997-510458b95754"
      },
      "outputs": [
        {
          "data": {
            "text/plain": [
              "True"
            ]
          },
          "execution_count": 21,
          "metadata": {},
          "output_type": "execute_result"
        }
      ],
      "source": [
        "y_sombrero2 = P @ y\n",
        "np.allclose(y_sombrero, y_sombrero2)"
      ]
    },
    {
      "cell_type": "markdown",
      "metadata": {
        "id": "LiiVucTRH0bY"
      },
      "source": [
        "Tenemos otra matriz idempotente:\n",
        "\n",
        "$M = I - P$\n",
        "\n",
        "¿De dónde viene? De los residuos:\n",
        "\n",
        "$e = y - \\hat{y} = y - P @ y = (I-P) @ y = M @ y$\n",
        "\n",
        "Donde la matriz identidad I tiene la misma dimension que P. Para generar la matriz identidad utilizamos `np.eye(n)`.\n",
        "\n",
        "Notar que M es idempotente: $M @ M = M$   \n",
        "($M$ es de $nxn$)\n",
        "\n",
        "$M = I - P = I - X (X'X)^{-1}X'$"
      ]
    },
    {
      "cell_type": "code",
      "execution_count": 22,
      "metadata": {
        "colab": {
          "base_uri": "https://localhost:8080/"
        },
        "id": "DeXsL-dXH0bY",
        "outputId": "e2a82b1d-bd83-4359-efc6-1226b9325786"
      },
      "outputs": [
        {
          "data": {
            "text/plain": [
              "True"
            ]
          },
          "execution_count": 22,
          "metadata": {},
          "output_type": "execute_result"
        }
      ],
      "source": [
        "M = np.eye(P.shape[0]) - P\n",
        "\n",
        "e_2 = M @ y\n",
        "np.allclose(e_2, model1.resid)"
      ]
    },
    {
      "cell_type": "markdown",
      "metadata": {
        "id": "c17c29MzH0bY"
      },
      "source": [
        "### Cálculo del $s^2$ usando matrices:"
      ]
    },
    {
      "cell_type": "markdown",
      "metadata": {
        "id": "F4SMSoc9H0bY"
      },
      "source": [
        "Si recapitulamos los valores del modelo de la librería, veremos que la segunda columna es el desvío estándar del $\\hat{\\beta}$ correspondiente a la pendiente que multiplique la $X$ que corresponda (en regresión múltiple) o del intercepeto (fila \"const\")\n",
        "\n",
        " Estos valores son la raíz de los elementos de la diagonal principal de la matriz\n",
        "\n",
        "$Var(\\hat{\\beta}) =  s^2 @ (X'X)^{-1}$"
      ]
    },
    {
      "cell_type": "code",
      "execution_count": 23,
      "metadata": {
        "colab": {
          "base_uri": "https://localhost:8080/",
          "height": 486
        },
        "id": "-C7ZVNwQH0bY",
        "outputId": "14046b1c-22ae-4a3f-ad11-409f0455d295"
      },
      "outputs": [
        {
          "data": {
            "text/html": [
              "<table class=\"simpletable\">\n",
              "<caption>OLS Regression Results</caption>\n",
              "<tr>\n",
              "  <th>Dep. Variable:</th>    <td>Compensacion_CEO</td> <th>  R-squared:         </th> <td>   0.434</td>\n",
              "</tr>\n",
              "<tr>\n",
              "  <th>Model:</th>                   <td>OLS</td>       <th>  Adj. R-squared:    </th> <td>   0.426</td>\n",
              "</tr>\n",
              "<tr>\n",
              "  <th>Method:</th>             <td>Least Squares</td>  <th>  F-statistic:       </th> <td>   52.24</td>\n",
              "</tr>\n",
              "<tr>\n",
              "  <th>Date:</th>             <td>Wed, 20 Aug 2025</td> <th>  Prob (F-statistic):</th> <td>5.50e-10</td>\n",
              "</tr>\n",
              "<tr>\n",
              "  <th>Time:</th>                 <td>21:18:22</td>     <th>  Log-Likelihood:    </th> <td> -73.655</td>\n",
              "</tr>\n",
              "<tr>\n",
              "  <th>No. Observations:</th>      <td>    70</td>      <th>  AIC:               </th> <td>   151.3</td>\n",
              "</tr>\n",
              "<tr>\n",
              "  <th>Df Residuals:</th>          <td>    68</td>      <th>  BIC:               </th> <td>   155.8</td>\n",
              "</tr>\n",
              "<tr>\n",
              "  <th>Df Model:</th>              <td>     1</td>      <th>                     </th>     <td> </td>   \n",
              "</tr>\n",
              "<tr>\n",
              "  <th>Covariance Type:</th>      <td>nonrobust</td>    <th>                     </th>     <td> </td>   \n",
              "</tr>\n",
              "</table>\n",
              "<table class=\"simpletable\">\n",
              "<tr>\n",
              "      <td></td>         <th>coef</th>     <th>std err</th>      <th>t</th>      <th>P>|t|</th>  <th>[0.025</th>    <th>0.975]</th>  \n",
              "</tr>\n",
              "<tr>\n",
              "  <th>const</th>     <td>    0.6000</td> <td>    0.112</td> <td>    5.342</td> <td> 0.000</td> <td>    0.376</td> <td>    0.824</td>\n",
              "</tr>\n",
              "<tr>\n",
              "  <th>Ganancias</th> <td>    0.0008</td> <td>    0.000</td> <td>    7.228</td> <td> 0.000</td> <td>    0.001</td> <td>    0.001</td>\n",
              "</tr>\n",
              "</table>\n",
              "<table class=\"simpletable\">\n",
              "<tr>\n",
              "  <th>Omnibus:</th>       <td>21.745</td> <th>  Durbin-Watson:     </th> <td>   2.045</td>\n",
              "</tr>\n",
              "<tr>\n",
              "  <th>Prob(Omnibus):</th> <td> 0.000</td> <th>  Jarque-Bera (JB):  </th> <td>  36.165</td>\n",
              "</tr>\n",
              "<tr>\n",
              "  <th>Skew:</th>          <td> 1.136</td> <th>  Prob(JB):          </th> <td>1.40e-08</td>\n",
              "</tr>\n",
              "<tr>\n",
              "  <th>Kurtosis:</th>      <td> 5.691</td> <th>  Cond. No.          </th> <td>1.29e+03</td>\n",
              "</tr>\n",
              "</table><br/><br/>Notes:<br/>[1] Standard Errors assume that the covariance matrix of the errors is correctly specified.<br/>[2] The condition number is large, 1.29e+03. This might indicate that there are<br/>strong multicollinearity or other numerical problems."
            ],
            "text/latex": [
              "\\begin{center}\n",
              "\\begin{tabular}{lclc}\n",
              "\\toprule\n",
              "\\textbf{Dep. Variable:}    & Compensacion\\_CEO & \\textbf{  R-squared:         } &     0.434   \\\\\n",
              "\\textbf{Model:}            &        OLS        & \\textbf{  Adj. R-squared:    } &     0.426   \\\\\n",
              "\\textbf{Method:}           &   Least Squares   & \\textbf{  F-statistic:       } &     52.24   \\\\\n",
              "\\textbf{Date:}             &  Wed, 20 Aug 2025 & \\textbf{  Prob (F-statistic):} &  5.50e-10   \\\\\n",
              "\\textbf{Time:}             &      21:18:22     & \\textbf{  Log-Likelihood:    } &   -73.655   \\\\\n",
              "\\textbf{No. Observations:} &           70      & \\textbf{  AIC:               } &     151.3   \\\\\n",
              "\\textbf{Df Residuals:}     &           68      & \\textbf{  BIC:               } &     155.8   \\\\\n",
              "\\textbf{Df Model:}         &            1      & \\textbf{                     } &             \\\\\n",
              "\\textbf{Covariance Type:}  &     nonrobust     & \\textbf{                     } &             \\\\\n",
              "\\bottomrule\n",
              "\\end{tabular}\n",
              "\\begin{tabular}{lcccccc}\n",
              "                   & \\textbf{coef} & \\textbf{std err} & \\textbf{t} & \\textbf{P$> |$t$|$} & \\textbf{[0.025} & \\textbf{0.975]}  \\\\\n",
              "\\midrule\n",
              "\\textbf{const}     &       0.6000  &        0.112     &     5.342  &         0.000        &        0.376    &        0.824     \\\\\n",
              "\\textbf{Ganancias} &       0.0008  &        0.000     &     7.228  &         0.000        &        0.001    &        0.001     \\\\\n",
              "\\bottomrule\n",
              "\\end{tabular}\n",
              "\\begin{tabular}{lclc}\n",
              "\\textbf{Omnibus:}       & 21.745 & \\textbf{  Durbin-Watson:     } &    2.045  \\\\\n",
              "\\textbf{Prob(Omnibus):} &  0.000 & \\textbf{  Jarque-Bera (JB):  } &   36.165  \\\\\n",
              "\\textbf{Skew:}          &  1.136 & \\textbf{  Prob(JB):          } & 1.40e-08  \\\\\n",
              "\\textbf{Kurtosis:}      &  5.691 & \\textbf{  Cond. No.          } & 1.29e+03  \\\\\n",
              "\\bottomrule\n",
              "\\end{tabular}\n",
              "%\\caption{OLS Regression Results}\n",
              "\\end{center}\n",
              "\n",
              "Notes: \\newline\n",
              " [1] Standard Errors assume that the covariance matrix of the errors is correctly specified. \\newline\n",
              " [2] The condition number is large, 1.29e+03. This might indicate that there are \\newline\n",
              " strong multicollinearity or other numerical problems."
            ],
            "text/plain": [
              "<class 'statsmodels.iolib.summary.Summary'>\n",
              "\"\"\"\n",
              "                            OLS Regression Results                            \n",
              "==============================================================================\n",
              "Dep. Variable:       Compensacion_CEO   R-squared:                       0.434\n",
              "Model:                            OLS   Adj. R-squared:                  0.426\n",
              "Method:                 Least Squares   F-statistic:                     52.24\n",
              "Date:                Wed, 20 Aug 2025   Prob (F-statistic):           5.50e-10\n",
              "Time:                        21:18:22   Log-Likelihood:                -73.655\n",
              "No. Observations:                  70   AIC:                             151.3\n",
              "Df Residuals:                      68   BIC:                             155.8\n",
              "Df Model:                           1                                         \n",
              "Covariance Type:            nonrobust                                         \n",
              "==============================================================================\n",
              "                 coef    std err          t      P>|t|      [0.025      0.975]\n",
              "------------------------------------------------------------------------------\n",
              "const          0.6000      0.112      5.342      0.000       0.376       0.824\n",
              "Ganancias      0.0008      0.000      7.228      0.000       0.001       0.001\n",
              "==============================================================================\n",
              "Omnibus:                       21.745   Durbin-Watson:                   2.045\n",
              "Prob(Omnibus):                  0.000   Jarque-Bera (JB):               36.165\n",
              "Skew:                           1.136   Prob(JB):                     1.40e-08\n",
              "Kurtosis:                       5.691   Cond. No.                     1.29e+03\n",
              "==============================================================================\n",
              "\n",
              "Notes:\n",
              "[1] Standard Errors assume that the covariance matrix of the errors is correctly specified.\n",
              "[2] The condition number is large, 1.29e+03. This might indicate that there are\n",
              "strong multicollinearity or other numerical problems.\n",
              "\"\"\""
            ]
          },
          "execution_count": 23,
          "metadata": {},
          "output_type": "execute_result"
        }
      ],
      "source": [
        "model1.summary()"
      ]
    },
    {
      "cell_type": "code",
      "execution_count": 24,
      "metadata": {
        "colab": {
          "base_uri": "https://localhost:8080/"
        },
        "id": "56cDW1TPH0bY",
        "outputId": "13b9bb52-bbf6-4fe1-e85f-10956209f819"
      },
      "outputs": [
        {
          "name": "stdout",
          "output_type": "stream",
          "text": [
            "[[ 1.26154123e-02 -8.68407339e-06]\n",
            " [-8.68407339e-06  1.35810239e-08]]\n"
          ]
        }
      ],
      "source": [
        "var_beta_sombrero = model1.scale * (np.linalg.inv(X.T @ X))\n",
        "print(var_beta_sombrero)"
      ]
    },
    {
      "cell_type": "markdown",
      "metadata": {
        "id": "lUDjirD6H0bY"
      },
      "source": [
        "Verificamos que la columna `std err` es la raíz cuadrada de los elementos de la diagonal principal"
      ]
    },
    {
      "cell_type": "code",
      "execution_count": 25,
      "metadata": {
        "colab": {
          "base_uri": "https://localhost:8080/"
        },
        "id": "Vi3DEE5JH0bY",
        "outputId": "50470af0-f693-4bcb-ab24-1296334261a1"
      },
      "outputs": [
        {
          "data": {
            "text/plain": [
              "np.float64(0.11231835254287276)"
            ]
          },
          "execution_count": 25,
          "metadata": {},
          "output_type": "execute_result"
        }
      ],
      "source": [
        "var_beta_sombrero[0,0]**0.5"
      ]
    },
    {
      "cell_type": "code",
      "execution_count": 26,
      "metadata": {
        "colab": {
          "base_uri": "https://localhost:8080/"
        },
        "id": "y4uudrL7H0bY",
        "outputId": "cd0bce91-7997-49bd-bf9d-bf40c1c25181"
      },
      "outputs": [
        {
          "data": {
            "text/plain": [
              "np.float64(0.00011653765029467196)"
            ]
          },
          "execution_count": 26,
          "metadata": {},
          "output_type": "execute_result"
        }
      ],
      "source": [
        "var_beta_sombrero[1,1]**0.5"
      ]
    },
    {
      "cell_type": "markdown",
      "metadata": {
        "id": "S4eQPEHtH0bZ"
      },
      "source": [
        "Los valores de la segunda columna del `summary` de `statsmodels` pueden accederse con `bse`, siendo el primer valor el SE del $\\hat{\\alpha}$ y el segundo el SE del $\\hat{\\beta}$"
      ]
    },
    {
      "cell_type": "code",
      "execution_count": 27,
      "metadata": {
        "colab": {
          "base_uri": "https://localhost:8080/",
          "height": 147
        },
        "id": "ep309hwRH0bZ",
        "outputId": "af2cadf7-70bd-47fb-bc0f-38f0098f8577"
      },
      "outputs": [
        {
          "data": {
            "text/plain": [
              "const        0.112318\n",
              "Ganancias    0.000117\n",
              "dtype: float64"
            ]
          },
          "execution_count": 27,
          "metadata": {},
          "output_type": "execute_result"
        }
      ],
      "source": [
        "model1.bse"
      ]
    },
    {
      "cell_type": "markdown",
      "metadata": {
        "id": "iV4nxbLAH0bZ"
      },
      "source": [
        "Podemos calcular y guardar los standard errors con una sola linea:"
      ]
    },
    {
      "cell_type": "code",
      "execution_count": 28,
      "metadata": {
        "colab": {
          "base_uri": "https://localhost:8080/"
        },
        "id": "ag2hoOuoH0bZ",
        "outputId": "26f2cedb-b54d-41f1-a8a4-b774996d3018"
      },
      "outputs": [
        {
          "data": {
            "text/plain": [
              "[np.float64(0.11231835254287276), np.float64(0.00011653765029467196)]"
            ]
          },
          "execution_count": 28,
          "metadata": {},
          "output_type": "execute_result"
        }
      ],
      "source": [
        "se_beta = [ x**0.5 for x in np.diagonal(var_beta_sombrero)]\n",
        "\n",
        "se_beta"
      ]
    },
    {
      "cell_type": "code",
      "execution_count": 29,
      "metadata": {
        "colab": {
          "base_uri": "https://localhost:8080/"
        },
        "id": "Ug0DFyEYH0bZ",
        "outputId": "3125c836-c3a4-48ca-ea5f-38e516ffe426"
      },
      "outputs": [
        {
          "data": {
            "text/plain": [
              "True"
            ]
          },
          "execution_count": 29,
          "metadata": {},
          "output_type": "execute_result"
        }
      ],
      "source": [
        "np.allclose(model1.bse.iloc[1],se_beta[1])"
      ]
    }
  ],
  "metadata": {
    "colab": {
      "provenance": []
    },
    "kernelspec": {
      "display_name": "env-udesa",
      "language": "python",
      "name": "python3"
    },
    "language_info": {
      "codemirror_mode": {
        "name": "ipython",
        "version": 3
      },
      "file_extension": ".py",
      "mimetype": "text/x-python",
      "name": "python",
      "nbconvert_exporter": "python",
      "pygments_lexer": "ipython3",
      "version": "3.13.3"
    }
  },
  "nbformat": 4,
  "nbformat_minor": 0
}
