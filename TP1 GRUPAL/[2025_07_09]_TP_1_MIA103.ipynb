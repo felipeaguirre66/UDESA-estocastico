{
  "cells": [
    {
      "cell_type": "code",
      "execution_count": 1,
      "metadata": {
        "id": "sHPDgzLHwjfz"
      },
      "outputs": [],
      "source": [
        "import pandas as pd\n",
        "import numpy as np\n",
        "import matplotlib.pyplot as plt"
      ]
    },
    {
      "cell_type": "code",
      "execution_count": 2,
      "metadata": {
        "id": "yueAnp423V4o"
      },
      "outputs": [],
      "source": [
        "#Carga de datos.\n",
        "\n",
        "df=pd.read_excel(\"_IBM.xlsx\")\n",
        "df.head()\n",
        "\n",
        "adjprice=df['Adj Price'].values"
      ]
    },
    {
      "cell_type": "code",
      "execution_count": 3,
      "metadata": {
        "colab": {
          "base_uri": "https://localhost:8080/",
          "height": 1000
        },
        "id": "eucAtQCw-3Wf",
        "outputId": "bb29ec8d-b380-4309-9a4e-40316d93952d"
      },
      "outputs": [
        {
          "name": "stdout",
          "output_type": "stream",
          "text": [
            "Estadisticos Diarios:\n",
            "Media: 0.00036603725533589776\n",
            "Percentil 1: -0.03295671045014158\n",
            "Percentil 5: -0.019405703935078584\n",
            "Percentil 97,5: 0.02391758052265477\n",
            "Desvio Standard: 0.01310251520012591\n",
            "Cuartil 1: -0.006083278037394803\n",
            "  \n",
            "Estadisticos Mensuales:\n",
            "Media: 0.0060593747472988966\n",
            "Percentil 1: -0.13066346382934724\n",
            "Percentil 5: -0.09006662017469654\n",
            "Percentil 97,5: 0.11101203954822954\n",
            "Desvio Standard: 0.05710355867886007\n",
            "Cuartil 1: -0.029152885659035913\n",
            "  \n"
          ]
        },
        {
          "data": {
            "image/png": "[encoded data removed]",
            "text/plain": [
              "<Figure size 640x480 with 1 Axes>"
            ]
          },
          "metadata": {},
          "output_type": "display_data"
        }
      ],
      "source": [
        "#Calculo retornos logaritmicos\n",
        "\n",
        "ret_log=np.log(adjprice[1:]/adjprice[:-1])\n",
        "\n",
        "#print(\"Retornos logaritmicos diarios\",ret_log)\n",
        "\n",
        "#Para simular, seleccionamos 1000 ubicaciones aleatorias para cada uno de los 20 dias habiles del mes y ejcutamos la suma por fila.\n",
        "\n",
        "np.random.seed(100)\n",
        "simul_retorno_mensual=np.sum(np.random.choice(ret_log, size=(1000,20), replace=True), axis=1)\n",
        "\n",
        "#print(\"Retornos mensuales simulados:\", simul_retorno_mensual)\n",
        "\n",
        "#Calculo de estadisticos diarios.\n",
        "\n",
        "print(\"Estadisticos Diarios:\")\n",
        "print(\"Media:\", np.mean(ret_log))\n",
        "print(\"Percentil 1:\", np.percentile(ret_log,1))\n",
        "print(\"Percentil 5:\", np.percentile(ret_log,5))\n",
        "print(\"Percentil 97,5:\", np.percentile(ret_log, 97.5))\n",
        "print(\"Desvio Standard:\", np.std(ret_log))\n",
        "print(\"Cuartil 1:\", np.percentile(ret_log,25))\n",
        "\n",
        "print(\"  \")\n",
        "\n",
        "#Calculo de estadisticos mensuales.\n",
        "\n",
        "print(\"Estadisticos Mensuales:\")\n",
        "print(\"Media:\", np.mean(simul_retorno_mensual))\n",
        "print(\"Percentil 1:\", np.percentile(simul_retorno_mensual,1))\n",
        "print(\"Percentil 5:\", np.percentile(simul_retorno_mensual,5))\n",
        "print(\"Percentil 97,5:\", np.percentile(simul_retorno_mensual, 97.5))\n",
        "print(\"Desvio Standard:\", np.std(simul_retorno_mensual))\n",
        "print(\"Cuartil 1:\", np.percentile(simul_retorno_mensual,25))\n",
        "\n",
        "print(\"  \")\n",
        "\n",
        "#Histograma\n",
        "\n",
        "plt.hist(simul_retorno_mensual, bins=100, edgecolor='gray', color='lightblue')\n",
        "plt.xlabel(\"Retornos Log Mensuales\")\n",
        "plt.ylabel(\"Frecuencia\")\n",
        "plt.title(\"Histograma de Retornos Log Mensuales Simulados\")\n",
        "plt.show()\n"
      ]
    },
    {
      "cell_type": "code",
      "execution_count": null,
      "metadata": {},
      "outputs": [
        {
          "data": {
            "text/plain": [
              "0      133.759995\n",
              "1      135.699997\n",
              "2      137.000000\n",
              "3      137.860001\n",
              "4      137.449997\n",
              "          ...    \n",
              "581    171.479996\n",
              "582    170.440002\n",
              "583    168.000000\n",
              "584    165.559998\n",
              "585    165.699997\n",
              "Name: Adj Price, Length: 586, dtype: float64"
            ]
          },
          "execution_count": 8,
          "metadata": {},
          "output_type": "execute_result"
        }
      ],
      "source": [
        "df['Adj Price']"
      ]
    },
    {
      "cell_type": "code",
      "execution_count": null,
      "metadata": {},
      "outputs": [
        {
          "data": {
            "text/plain": [
              "0             NaN\n",
              "1      133.759995\n",
              "2      135.699997\n",
              "3      137.000000\n",
              "4      137.860001\n",
              "          ...    \n",
              "581    175.389999\n",
              "582    171.479996\n",
              "583    170.440002\n",
              "584    168.000000\n",
              "585    165.559998\n",
              "Name: Adj Price, Length: 586, dtype: float64"
            ]
          },
          "execution_count": 10,
          "metadata": {},
          "output_type": "execute_result"
        }
      ],
      "source": [
        "df['Adj Price'].shift()"
      ]
    },
    {
      "cell_type": "code",
      "execution_count": 13,
      "metadata": {},
      "outputs": [
        {
          "data": {
            "text/plain": [
              "0           NaN\n",
              "1      0.014399\n",
              "2      0.009534\n",
              "3      0.006258\n",
              "4     -0.002978\n",
              "         ...   \n",
              "581   -0.022545\n",
              "582   -0.006083\n",
              "583   -0.014419\n",
              "584   -0.014630\n",
              "585    0.000845\n",
              "Name: Adj Price, Length: 586, dtype: float64"
            ]
          },
          "execution_count": 13,
          "metadata": {},
          "output_type": "execute_result"
        }
      ],
      "source": [
        "np.log(df['Adj Price'] / df['Adj Price'].shift())"
      ]
    }
  ],
  "metadata": {
    "colab": {
      "provenance": []
    },
    "kernelspec": {
      "display_name": "env-udesa",
      "language": "python",
      "name": "python3"
    },
    "language_info": {
      "codemirror_mode": {
        "name": "ipython",
        "version": 3
      },
      "file_extension": ".py",
      "mimetype": "text/x-python",
      "name": "python",
      "nbconvert_exporter": "python",
      "pygments_lexer": "ipython3",
      "version": "3.13.3"
    }
  },
  "nbformat": 4,
  "nbformat_minor": 0
}
