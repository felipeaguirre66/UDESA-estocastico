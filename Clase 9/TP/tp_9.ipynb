{
 "cells": [
  {
   "cell_type": "code",
   "execution_count": 1,
   "id": "f03934c1",
   "metadata": {},
   "outputs": [],
   "source": [
    "import pandas as pd\n",
    "import numpy as np\n",
    "import statsmodels.formula.api as smf\n",
    "import statsmodels.api as sm\n",
    "from statsmodels.tsa.api import VAR\n",
    "from arch.unitroot import DFGLS\n",
    "import numpy as np"
   ]
  },
  {
   "cell_type": "code",
   "execution_count": 2,
   "id": "3f246c13",
   "metadata": {},
   "outputs": [
    {
     "data": {
      "text/html": [
       "<div>\n",
       "<style scoped>\n",
       "    .dataframe tbody tr th:only-of-type {\n",
       "        vertical-align: middle;\n",
       "    }\n",
       "\n",
       "    .dataframe tbody tr th {\n",
       "        vertical-align: top;\n",
       "    }\n",
       "\n",
       "    .dataframe thead th {\n",
       "        text-align: right;\n",
       "    }\n",
       "</style>\n",
       "<table border=\"1\" class=\"dataframe\">\n",
       "  <thead>\n",
       "    <tr style=\"text-align: right;\">\n",
       "      <th></th>\n",
       "      <th>inlf</th>\n",
       "      <th>hours</th>\n",
       "      <th>kidslt6</th>\n",
       "      <th>kidsge6</th>\n",
       "      <th>age</th>\n",
       "      <th>educ</th>\n",
       "      <th>wage</th>\n",
       "      <th>repwage</th>\n",
       "      <th>hushrs</th>\n",
       "      <th>husage</th>\n",
       "      <th>...</th>\n",
       "      <th>faminc</th>\n",
       "      <th>mtr</th>\n",
       "      <th>motheduc</th>\n",
       "      <th>fatheduc</th>\n",
       "      <th>unem</th>\n",
       "      <th>city</th>\n",
       "      <th>exper</th>\n",
       "      <th>nwifeinc</th>\n",
       "      <th>lwage</th>\n",
       "      <th>expersq</th>\n",
       "    </tr>\n",
       "  </thead>\n",
       "  <tbody>\n",
       "    <tr>\n",
       "      <th>0</th>\n",
       "      <td>1</td>\n",
       "      <td>1610</td>\n",
       "      <td>1</td>\n",
       "      <td>0</td>\n",
       "      <td>32</td>\n",
       "      <td>12</td>\n",
       "      <td>3.3540</td>\n",
       "      <td>2.65</td>\n",
       "      <td>2708</td>\n",
       "      <td>34</td>\n",
       "      <td>...</td>\n",
       "      <td>16310.0</td>\n",
       "      <td>0.7215</td>\n",
       "      <td>12</td>\n",
       "      <td>7</td>\n",
       "      <td>5.0</td>\n",
       "      <td>0</td>\n",
       "      <td>14</td>\n",
       "      <td>10.910060</td>\n",
       "      <td>1.210154</td>\n",
       "      <td>196</td>\n",
       "    </tr>\n",
       "    <tr>\n",
       "      <th>1</th>\n",
       "      <td>1</td>\n",
       "      <td>1656</td>\n",
       "      <td>0</td>\n",
       "      <td>2</td>\n",
       "      <td>30</td>\n",
       "      <td>12</td>\n",
       "      <td>1.3889</td>\n",
       "      <td>2.65</td>\n",
       "      <td>2310</td>\n",
       "      <td>30</td>\n",
       "      <td>...</td>\n",
       "      <td>21800.0</td>\n",
       "      <td>0.6615</td>\n",
       "      <td>7</td>\n",
       "      <td>7</td>\n",
       "      <td>11.0</td>\n",
       "      <td>1</td>\n",
       "      <td>5</td>\n",
       "      <td>19.499981</td>\n",
       "      <td>0.328512</td>\n",
       "      <td>25</td>\n",
       "    </tr>\n",
       "  </tbody>\n",
       "</table>\n",
       "<p>2 rows × 22 columns</p>\n",
       "</div>"
      ],
      "text/plain": [
       "   inlf  hours  kidslt6  kidsge6  age  educ    wage  repwage  hushrs  husage  \\\n",
       "0     1   1610        1        0   32    12  3.3540     2.65    2708      34   \n",
       "1     1   1656        0        2   30    12  1.3889     2.65    2310      30   \n",
       "\n",
       "   ...   faminc     mtr  motheduc  fatheduc  unem  city  exper   nwifeinc  \\\n",
       "0  ...  16310.0  0.7215        12         7   5.0     0     14  10.910060   \n",
       "1  ...  21800.0  0.6615         7         7  11.0     1      5  19.499981   \n",
       "\n",
       "      lwage  expersq  \n",
       "0  1.210154      196  \n",
       "1  0.328512       25  \n",
       "\n",
       "[2 rows x 22 columns]"
      ]
     },
     "execution_count": 2,
     "metadata": {},
     "output_type": "execute_result"
    }
   ],
   "source": [
    "df = pd.read_stata(\"MROZ.dta\")\n",
    "df.head(2)"
   ]
  },
  {
   "cell_type": "markdown",
   "id": "4ec18d00",
   "metadata": {},
   "source": [
    "#### a)"
   ]
  },
  {
   "cell_type": "code",
   "execution_count": 3,
   "id": "13431408",
   "metadata": {},
   "outputs": [
    {
     "name": "stdout",
     "output_type": "stream",
     "text": [
      "                            OLS Regression Results                            \n",
      "==============================================================================\n",
      "Dep. Variable:                  lwage   R-squared:                       0.158\n",
      "Model:                            OLS   Adj. R-squared:                  0.146\n",
      "Method:                 Least Squares   F-statistic:                     13.19\n",
      "Date:                Thu, 21 Aug 2025   Prob (F-statistic):           1.06e-13\n",
      "Time:                        16:30:35   Log-Likelihood:                -431.24\n",
      "No. Observations:                 428   AIC:                             876.5\n",
      "Df Residuals:                     421   BIC:                             904.9\n",
      "Df Model:                           6                                         \n",
      "Covariance Type:            nonrobust                                         \n",
      "==============================================================================\n",
      "                 coef    std err          t      P>|t|      [0.025      0.975]\n",
      "------------------------------------------------------------------------------\n",
      "Intercept     -0.4209      0.317     -1.328      0.185      -1.044       0.202\n",
      "exper          0.0398      0.013      2.973      0.003       0.013       0.066\n",
      "expersq       -0.0008      0.000     -1.942      0.053      -0.002    9.37e-06\n",
      "educ           0.1078      0.014      7.487      0.000       0.080       0.136\n",
      "age           -0.0015      0.005     -0.277      0.782      -0.012       0.009\n",
      "kidslt6       -0.0607      0.089     -0.684      0.494      -0.235       0.114\n",
      "kidsge6       -0.0146      0.028     -0.523      0.601      -0.069       0.040\n",
      "==============================================================================\n",
      "Omnibus:                       76.463   Durbin-Watson:                   1.963\n",
      "Prob(Omnibus):                  0.000   Jarque-Bera (JB):              301.786\n",
      "Skew:                          -0.732   Prob(JB):                     2.94e-66\n",
      "Kurtosis:                       6.844   Cond. No.                     3.54e+03\n",
      "==============================================================================\n",
      "\n",
      "Notes:\n",
      "[1] Standard Errors assume that the covariance matrix of the errors is correctly specified.\n",
      "[2] The condition number is large, 3.54e+03. This might indicate that there are\n",
      "strong multicollinearity or other numerical problems.\n"
     ]
    }
   ],
   "source": [
    "reg = smf.ols('lwage ~ exper + expersq + educ + age + kidslt6 + kidsge6', data=df).fit()\n",
    "print(reg.summary())"
   ]
  },
  {
   "cell_type": "markdown",
   "id": "d0df246b",
   "metadata": {},
   "source": [
    "#### b)"
   ]
  },
  {
   "cell_type": "code",
   "execution_count": 4,
   "id": "2c3eda25",
   "metadata": {},
   "outputs": [
    {
     "name": "stdout",
     "output_type": "stream",
     "text": [
      "<F test: F=0.2370238595285256, p=0.8705394717167727, df_denom=421, df_num=3>\n"
     ]
    }
   ],
   "source": [
    "print(reg.f_test('age=0 , kidslt6=0,  kidsge6=0'))"
   ]
  },
  {
   "cell_type": "markdown",
   "id": "65ee0ac7",
   "metadata": {},
   "source": [
    "#### C)\n",
    "\n",
    "AIC y BIC dan mas chicos -> mejor modelo"
   ]
  },
  {
   "cell_type": "code",
   "execution_count": 5,
   "id": "b7a44af6",
   "metadata": {},
   "outputs": [
    {
     "name": "stdout",
     "output_type": "stream",
     "text": [
      "                            OLS Regression Results                            \n",
      "==============================================================================\n",
      "Dep. Variable:                  lwage   R-squared:                       0.157\n",
      "Model:                            OLS   Adj. R-squared:                  0.151\n",
      "Method:                 Least Squares   F-statistic:                     26.29\n",
      "Date:                Thu, 21 Aug 2025   Prob (F-statistic):           1.30e-15\n",
      "Time:                        16:30:35   Log-Likelihood:                -431.60\n",
      "No. Observations:                 428   AIC:                             871.2\n",
      "Df Residuals:                     424   BIC:                             887.4\n",
      "Df Model:                           3                                         \n",
      "Covariance Type:            nonrobust                                         \n",
      "==============================================================================\n",
      "                 coef    std err          t      P>|t|      [0.025      0.975]\n",
      "------------------------------------------------------------------------------\n",
      "Intercept     -0.5220      0.199     -2.628      0.009      -0.912      -0.132\n",
      "exper          0.0416      0.013      3.155      0.002       0.016       0.067\n",
      "expersq       -0.0008      0.000     -2.063      0.040      -0.002   -3.82e-05\n",
      "educ           0.1075      0.014      7.598      0.000       0.080       0.135\n",
      "==============================================================================\n",
      "Omnibus:                       77.792   Durbin-Watson:                   1.961\n",
      "Prob(Omnibus):                  0.000   Jarque-Bera (JB):              300.917\n",
      "Skew:                          -0.753   Prob(JB):                     4.54e-66\n",
      "Kurtosis:                       6.822   Cond. No.                     2.21e+03\n",
      "==============================================================================\n",
      "\n",
      "Notes:\n",
      "[1] Standard Errors assume that the covariance matrix of the errors is correctly specified.\n",
      "[2] The condition number is large, 2.21e+03. This might indicate that there are\n",
      "strong multicollinearity or other numerical problems.\n"
     ]
    }
   ],
   "source": [
    "reg = smf.ols('lwage ~ exper + expersq + educ', data=df).fit()\n",
    "print(reg.summary())"
   ]
  },
  {
   "cell_type": "markdown",
   "id": "3292b753",
   "metadata": {},
   "source": [
    "#### d)\n",
    "\n",
    "La derivada parcial del salario en puntos porcentuales respecto de los años de exp es: 0.0416 + 2*-0.0008*exper.\n",
    "\n",
    "Nos piden un cambio de exper=4 a exper=6, así que queda: 0.0416*(6−4) + (−0.0008)*(6²−4²) = 0.0672\n",
    "\n",
    "Es decir, aumenta en un 6.72% seteris paribus.\n",
    "\n",
    "ES DECIR: esto cambia en función del delta de años y del valor absoluto de esos dos valores de años."
   ]
  },
  {
   "cell_type": "code",
   "execution_count": 6,
   "id": "a1b1c7c5",
   "metadata": {},
   "outputs": [
    {
     "name": "stdout",
     "output_type": "stream",
     "text": [
      "Aumento de 4 a 6 años:  0.0672\n",
      "Aumento de 4 a 5 años:  0.0344\n"
     ]
    }
   ],
   "source": [
    "print('Aumento de 4 a 6 años: ', 0.0416*(6-4) + (-0.0008)*(6**2-4**2))\n",
    "print('Aumento de 4 a 5 años: ', 0.0416*(5-4) + (-0.0008)*(5**2-4**2))"
   ]
  },
  {
   "cell_type": "code",
   "execution_count": 7,
   "id": "b27c2fa6",
   "metadata": {},
   "outputs": [
    {
     "name": "stdout",
     "output_type": "stream",
     "text": [
      "Aumento de 14 a 16 años:  0.035199999999999995\n",
      "Aumento de 14 a 15 años:  0.018399999999999996\n"
     ]
    }
   ],
   "source": [
    "# lo mismo, pero en otro lugar de X\n",
    "print('Aumento de 14 a 16 años: ', 0.0416*(16-14) + (-0.0008)*(16**2-14**2))\n",
    "print('Aumento de 14 a 15 años: ', 0.0416*(15-14) + (-0.0008)*(15**2-14**2))"
   ]
  },
  {
   "cell_type": "markdown",
   "id": "cd7163d5",
   "metadata": {},
   "source": [
    "#### e)\n",
    "Por cada año que aumenta educ, la probabilidad de inlf aumenta 3.98%, seteris paribus."
   ]
  },
  {
   "cell_type": "code",
   "execution_count": 8,
   "id": "1d002980",
   "metadata": {},
   "outputs": [
    {
     "name": "stdout",
     "output_type": "stream",
     "text": [
      "                            OLS Regression Results                            \n",
      "==============================================================================\n",
      "Dep. Variable:                   inlf   R-squared:                       0.264\n",
      "Model:                            OLS   Adj. R-squared:                  0.257\n",
      "Method:                 Least Squares   F-statistic:                     38.22\n",
      "Date:                Thu, 21 Aug 2025   Prob (F-statistic):           6.90e-46\n",
      "Time:                        16:30:35   Log-Likelihood:                -423.89\n",
      "No. Observations:                 753   AIC:                             863.8\n",
      "Df Residuals:                     745   BIC:                             900.8\n",
      "Df Model:                           7                                         \n",
      "Covariance Type:            nonrobust                                         \n",
      "==============================================================================\n",
      "                 coef    std err          t      P>|t|      [0.025      0.975]\n",
      "------------------------------------------------------------------------------\n",
      "Intercept      0.5855      0.154      3.798      0.000       0.283       0.888\n",
      "nwifeinc      -0.0034      0.001     -2.351      0.019      -0.006      -0.001\n",
      "educ           0.0380      0.007      5.151      0.000       0.024       0.052\n",
      "exper          0.0395      0.006      6.962      0.000       0.028       0.051\n",
      "expersq       -0.0006      0.000     -3.227      0.001      -0.001      -0.000\n",
      "age           -0.0161      0.002     -6.476      0.000      -0.021      -0.011\n",
      "kidslt6       -0.2618      0.034     -7.814      0.000      -0.328      -0.196\n",
      "kidsge6        0.0130      0.013      0.986      0.324      -0.013       0.039\n",
      "==============================================================================\n",
      "Omnibus:                      169.137   Durbin-Watson:                   0.494\n",
      "Prob(Omnibus):                  0.000   Jarque-Bera (JB):               36.741\n",
      "Skew:                          -0.196   Prob(JB):                     1.05e-08\n",
      "Kurtosis:                       1.991   Cond. No.                     3.06e+03\n",
      "==============================================================================\n",
      "\n",
      "Notes:\n",
      "[1] Standard Errors assume that the covariance matrix of the errors is correctly specified.\n",
      "[2] The condition number is large, 3.06e+03. This might indicate that there are\n",
      "strong multicollinearity or other numerical problems.\n"
     ]
    }
   ],
   "source": [
    "reg = smf.ols('inlf ~ nwifeinc + educ + exper + expersq + age + kidslt6 + kidsge6', data=df).fit()\n",
    "print(reg.summary())"
   ]
  },
  {
   "cell_type": "markdown",
   "id": "354ebc43",
   "metadata": {},
   "source": [
    "### f)"
   ]
  },
  {
   "cell_type": "code",
   "execution_count": 9,
   "id": "130496fa",
   "metadata": {},
   "outputs": [
    {
     "name": "stdout",
     "output_type": "stream",
     "text": [
      "Optimization terminated successfully.\n",
      "         Current function value: 0.532938\n",
      "         Iterations 5\n",
      "                          Probit Regression Results                           \n",
      "==============================================================================\n",
      "Dep. Variable:                   inlf   No. Observations:                  753\n",
      "Model:                         Probit   Df Residuals:                      745\n",
      "Method:                           MLE   Df Model:                            7\n",
      "Date:                Thu, 21 Aug 2025   Pseudo R-squ.:                  0.2206\n",
      "Time:                        16:30:35   Log-Likelihood:                -401.30\n",
      "converged:                       True   LL-Null:                       -514.87\n",
      "Covariance Type:            nonrobust   LLR p-value:                 2.009e-45\n",
      "==============================================================================\n",
      "                 coef    std err          z      P>|z|      [0.025      0.975]\n",
      "------------------------------------------------------------------------------\n",
      "const          0.2701      0.509      0.531      0.595      -0.727       1.267\n",
      "nwifeinc      -0.0120      0.005     -2.484      0.013      -0.022      -0.003\n",
      "educ           0.1309      0.025      5.183      0.000       0.081       0.180\n",
      "exper          0.1233      0.019      6.590      0.000       0.087       0.160\n",
      "expersq       -0.0019      0.001     -3.145      0.002      -0.003      -0.001\n",
      "age           -0.0529      0.008     -6.235      0.000      -0.069      -0.036\n",
      "kidslt6       -0.8683      0.119     -7.326      0.000      -1.101      -0.636\n",
      "kidsge6        0.0360      0.043      0.828      0.408      -0.049       0.121\n",
      "==============================================================================\n"
     ]
    }
   ],
   "source": [
    "y = df['inlf']\n",
    "X = df[['nwifeinc', 'educ', 'exper', 'expersq', 'age', 'kidslt6', 'kidsge6']]\n",
    "X = sm.add_constant(X)\n",
    "\n",
    "probit_mod = sm.Probit(y, X)\n",
    "probit_res = probit_mod.fit()\n",
    "print(probit_res.summary())"
   ]
  },
  {
   "cell_type": "markdown",
   "id": "ba8a44ec",
   "metadata": {},
   "source": [
    "# 2) VAR"
   ]
  },
  {
   "cell_type": "code",
   "execution_count": 10,
   "id": "209f0559",
   "metadata": {},
   "outputs": [],
   "source": [
    "import pandas as pd\n",
    "from statsmodels.tsa.api import VAR\n",
    "from arch.unitroot import DFGLS"
   ]
  },
  {
   "cell_type": "code",
   "execution_count": 11,
   "id": "e0c22de8",
   "metadata": {},
   "outputs": [
    {
     "data": {
      "text/html": [
       "<div>\n",
       "<style scoped>\n",
       "    .dataframe tbody tr th:only-of-type {\n",
       "        vertical-align: middle;\n",
       "    }\n",
       "\n",
       "    .dataframe tbody tr th {\n",
       "        vertical-align: top;\n",
       "    }\n",
       "\n",
       "    .dataframe thead th {\n",
       "        text-align: right;\n",
       "    }\n",
       "</style>\n",
       "<table border=\"1\" class=\"dataframe\">\n",
       "  <thead>\n",
       "    <tr style=\"text-align: right;\">\n",
       "      <th></th>\n",
       "      <th>mmyy</th>\n",
       "      <th>ipc</th>\n",
       "      <th>m</th>\n",
       "      <th>m_en_ars</th>\n",
       "    </tr>\n",
       "  </thead>\n",
       "  <tbody>\n",
       "    <tr>\n",
       "      <th>0</th>\n",
       "      <td>Jan-03</td>\n",
       "      <td>100.00</td>\n",
       "      <td>100.00</td>\n",
       "      <td>29609.92</td>\n",
       "    </tr>\n",
       "    <tr>\n",
       "      <th>1</th>\n",
       "      <td>Feb-03</td>\n",
       "      <td>100.57</td>\n",
       "      <td>99.36</td>\n",
       "      <td>29420.37</td>\n",
       "    </tr>\n",
       "    <tr>\n",
       "      <th>2</th>\n",
       "      <td>Mar-03</td>\n",
       "      <td>101.16</td>\n",
       "      <td>102.63</td>\n",
       "      <td>30388.08</td>\n",
       "    </tr>\n",
       "  </tbody>\n",
       "</table>\n",
       "</div>"
      ],
      "text/plain": [
       "     mmyy     ipc       m  m_en_ars\n",
       "0  Jan-03  100.00  100.00  29609.92\n",
       "1  Feb-03  100.57   99.36  29420.37\n",
       "2  Mar-03  101.16  102.63  30388.08"
      ]
     },
     "execution_count": 11,
     "metadata": {},
     "output_type": "execute_result"
    }
   ],
   "source": [
    "df = pd.read_stata(\"../Precios_y_Dinero_data.dta\")\n",
    "df.head(3)"
   ]
  },
  {
   "cell_type": "markdown",
   "id": "5c897748",
   "metadata": {},
   "source": [
    "Además, vamos a generar un índice asociado al período mensual correspondiente, para eso construímos la columna `period`."
   ]
  },
  {
   "cell_type": "code",
   "execution_count": 12,
   "id": "f44873a9",
   "metadata": {},
   "outputs": [
    {
     "data": {
      "text/html": [
       "<div>\n",
       "<style scoped>\n",
       "    .dataframe tbody tr th:only-of-type {\n",
       "        vertical-align: middle;\n",
       "    }\n",
       "\n",
       "    .dataframe tbody tr th {\n",
       "        vertical-align: top;\n",
       "    }\n",
       "\n",
       "    .dataframe thead th {\n",
       "        text-align: right;\n",
       "    }\n",
       "</style>\n",
       "<table border=\"1\" class=\"dataframe\">\n",
       "  <thead>\n",
       "    <tr style=\"text-align: right;\">\n",
       "      <th></th>\n",
       "      <th>mmyy</th>\n",
       "      <th>ipc</th>\n",
       "      <th>m</th>\n",
       "      <th>m_en_ars</th>\n",
       "    </tr>\n",
       "    <tr>\n",
       "      <th>yearmm</th>\n",
       "      <th></th>\n",
       "      <th></th>\n",
       "      <th></th>\n",
       "      <th></th>\n",
       "    </tr>\n",
       "  </thead>\n",
       "  <tbody>\n",
       "    <tr>\n",
       "      <th>2003-01</th>\n",
       "      <td>Jan-03</td>\n",
       "      <td>100.00</td>\n",
       "      <td>100.00</td>\n",
       "      <td>29609.92</td>\n",
       "    </tr>\n",
       "    <tr>\n",
       "      <th>2003-02</th>\n",
       "      <td>Feb-03</td>\n",
       "      <td>100.57</td>\n",
       "      <td>99.36</td>\n",
       "      <td>29420.37</td>\n",
       "    </tr>\n",
       "    <tr>\n",
       "      <th>2003-03</th>\n",
       "      <td>Mar-03</td>\n",
       "      <td>101.16</td>\n",
       "      <td>102.63</td>\n",
       "      <td>30388.08</td>\n",
       "    </tr>\n",
       "    <tr>\n",
       "      <th>2003-04</th>\n",
       "      <td>Apr-03</td>\n",
       "      <td>101.21</td>\n",
       "      <td>104.26</td>\n",
       "      <td>30870.99</td>\n",
       "    </tr>\n",
       "    <tr>\n",
       "      <th>2003-05</th>\n",
       "      <td>May-03</td>\n",
       "      <td>100.82</td>\n",
       "      <td>111.80</td>\n",
       "      <td>33105.17</td>\n",
       "    </tr>\n",
       "  </tbody>\n",
       "</table>\n",
       "</div>"
      ],
      "text/plain": [
       "           mmyy     ipc       m  m_en_ars\n",
       "yearmm                                   \n",
       "2003-01  Jan-03  100.00  100.00  29609.92\n",
       "2003-02  Feb-03  100.57   99.36  29420.37\n",
       "2003-03  Mar-03  101.16  102.63  30388.08\n",
       "2003-04  Apr-03  101.21  104.26  30870.99\n",
       "2003-05  May-03  100.82  111.80  33105.17"
      ]
     },
     "execution_count": 12,
     "metadata": {},
     "output_type": "execute_result"
    }
   ],
   "source": [
    "inicio = pd.to_datetime(df['mmyy'].iloc[0], format='%b-%y').strftime('%Y-%m')\n",
    "df[\"yearmm\"] = pd.period_range(start=inicio, periods=len(df), freq=\"M\")\n",
    "df = df.set_index(\"yearmm\")\n",
    "df['ipc'] = df['ipc'].astype(float)\n",
    "df['m'] = df['m'].astype(float)\n",
    "df.head()"
   ]
  },
  {
   "cell_type": "markdown",
   "id": "68182dfa",
   "metadata": {},
   "source": [
    "Generamos las variables Inflación y Tasa de Crecimiento de la Base Monetaria"
   ]
  },
  {
   "cell_type": "code",
   "execution_count": 13,
   "id": "b7670645",
   "metadata": {},
   "outputs": [],
   "source": [
    "df[\"infl\"] = df[\"ipc\"] / df[\"ipc\"].shift(1) - 1\n",
    "df[\"crec_m\"] = df[\"m\"] / df[\"m\"].shift(1) - 1\n",
    "df = df[['infl','crec_m']]"
   ]
  },
  {
   "cell_type": "markdown",
   "id": "8bcaea37",
   "metadata": {},
   "source": [
    "#### Chequeo de estacionariedad utilizando la prueba de Dickey-Fuller GLS\n",
    "\n",
    "Debemos corrobar que sean estacionarias. Para eso tenemos diferentes alternativas, acorde con lo visto en clase vamos a utilizar una biblioteca (`arch`) que desarrolla la prueba de Dickey-Fuller GLS (Elliott-Rothenberg-Stock) en línea con el uso del comando `dfgls` de Stata."
   ]
  },
  {
   "cell_type": "markdown",
   "id": "0fabf631",
   "metadata": {},
   "source": [
    "Inflacion: estacionaria"
   ]
  },
  {
   "cell_type": "code",
   "execution_count": 14,
   "id": "792c1d8c",
   "metadata": {},
   "outputs": [
    {
     "data": {
      "text/plain": [
       "<Axes: title={'center': 'Inflación'}, xlabel='yearmm'>"
      ]
     },
     "execution_count": 14,
     "metadata": {},
     "output_type": "execute_result"
    },
    {
     "data": {
      "image/png": "[encoded data removed]",
      "text/plain": [
       "<Figure size 500x250 with 1 Axes>"
      ]
     },
     "metadata": {},
     "output_type": "display_data"
    }
   ],
   "source": [
    "df[\"infl\"].dropna().plot(title=\"Inflación\", figsize=(5, 2.5))"
   ]
  },
  {
   "cell_type": "code",
   "execution_count": 15,
   "id": "bf289bb6",
   "metadata": {},
   "outputs": [
    {
     "name": "stdout",
     "output_type": "stream",
     "text": [
      "Inflación\n",
      "      Dickey-Fuller GLS Results      \n",
      "=====================================\n",
      "Test Statistic                 -3.295\n",
      "P-value                         0.001\n",
      "Lags                                1\n",
      "-------------------------------------\n",
      "\n",
      "Trend: Constant\n",
      "Critical Values: -2.68 (1%), -2.06 (5%), -1.74 (10%)\n",
      "Null Hypothesis: The process contains a unit root.\n",
      "Alternative Hypothesis: The process is weakly stationary.\n"
     ]
    }
   ],
   "source": [
    "test = DFGLS(df[\"infl\"].dropna(), trend=\"c\")\n",
    "print(\"Inflación\")\n",
    "print(test.summary())"
   ]
  },
  {
   "cell_type": "markdown",
   "id": "26eb92ba",
   "metadata": {},
   "source": [
    "Crecimiento de la Base Monetaria: NO estacionaria. Me suena que esto no era grave (caso 2: lambda1<1 y lambda2=1). Pero no me acuerdo si había que hacer algo para correjirlo."
   ]
  },
  {
   "cell_type": "code",
   "execution_count": 16,
   "id": "a44fc3fa",
   "metadata": {},
   "outputs": [
    {
     "data": {
      "text/plain": [
       "<Axes: title={'center': 'Tasa de Crecimiento de la Base Monetaria'}, xlabel='yearmm'>"
      ]
     },
     "execution_count": 16,
     "metadata": {},
     "output_type": "execute_result"
    },
    {
     "data": {
      "image/png": "[encoded data removed]",
      "text/plain": [
       "<Figure size 500x250 with 1 Axes>"
      ]
     },
     "metadata": {},
     "output_type": "display_data"
    }
   ],
   "source": [
    "df[\"crec_m\"].dropna().plot(title=\"Tasa de Crecimiento de la Base Monetaria\", figsize=(5, 2.5))"
   ]
  },
  {
   "cell_type": "code",
   "execution_count": 17,
   "id": "2a7a7646",
   "metadata": {},
   "outputs": [
    {
     "name": "stdout",
     "output_type": "stream",
     "text": [
      "Tasa de Crecimiento de la Base Monetaria\n",
      "      Dickey-Fuller GLS Results      \n",
      "=====================================\n",
      "Test Statistic                 -1.174\n",
      "P-value                         0.227\n",
      "Lags                               14\n",
      "-------------------------------------\n",
      "\n",
      "Trend: Constant\n",
      "Critical Values: -2.68 (1%), -2.06 (5%), -1.75 (10%)\n",
      "Null Hypothesis: The process contains a unit root.\n",
      "Alternative Hypothesis: The process is weakly stationary.\n"
     ]
    }
   ],
   "source": [
    "test = DFGLS(df[\"crec_m\"].dropna(), trend=\"c\")\n",
    "print(\"Tasa de Crecimiento de la Base Monetaria\")\n",
    "print(test.summary())"
   ]
  },
  {
   "cell_type": "markdown",
   "id": "20b0608f",
   "metadata": {},
   "source": [
    "#### Corremos el VAR(2) bivariado"
   ]
  },
  {
   "cell_type": "code",
   "execution_count": 18,
   "id": "758f0372",
   "metadata": {},
   "outputs": [
    {
     "name": "stdout",
     "output_type": "stream",
     "text": [
      "  Summary of Regression Results   \n",
      "==================================\n",
      "Model:                         VAR\n",
      "Method:                        OLS\n",
      "Date:           Thu, 21, Aug, 2025\n",
      "Time:                     16:30:35\n",
      "--------------------------------------------------------------------\n",
      "No. of Equations:         2.00000    BIC:                   -16.6022\n",
      "Nobs:                     182.000    HQIC:                  -16.7069\n",
      "Log likelihood:           1020.33    FPE:                5.16789e-08\n",
      "AIC:                     -16.7782    Det(Omega_mle):     4.89523e-08\n",
      "--------------------------------------------------------------------\n",
      "Results for equation infl\n",
      "============================================================================\n",
      "               coefficient       std. error           t-stat            prob\n",
      "----------------------------------------------------------------------------\n",
      "const             0.004224         0.001340            3.151           0.002\n",
      "L1.infl           0.517731         0.075813            6.829           0.000\n",
      "L1.crec_m         0.020715         0.020682            1.002           0.317\n",
      "L2.infl           0.211112         0.077033            2.741           0.006\n",
      "L2.crec_m        -0.007078         0.020224           -0.350           0.726\n",
      "============================================================================\n",
      "\n",
      "Results for equation crec_m\n",
      "============================================================================\n",
      "               coefficient       std. error           t-stat            prob\n",
      "----------------------------------------------------------------------------\n",
      "const             0.026837         0.004744            5.657           0.000\n",
      "L1.infl          -0.799904         0.268292           -2.981           0.003\n",
      "L1.crec_m         0.156087         0.073191            2.133           0.033\n",
      "L2.infl           0.454584         0.272610            1.668           0.095\n",
      "L2.crec_m        -0.212948         0.071570           -2.975           0.003\n",
      "============================================================================\n",
      "\n",
      "Correlation matrix of residuals\n",
      "              infl    crec_m\n",
      "infl      1.000000  0.083975\n",
      "crec_m    0.083975  1.000000\n",
      "\n",
      "\n",
      "\n"
     ]
    }
   ],
   "source": [
    "model = VAR(df[[\"infl\", \"crec_m\"]].dropna())\n",
    "result_var2 = model.fit(2)\n",
    "print(result_var2.summary())"
   ]
  },
  {
   "cell_type": "code",
   "execution_count": 19,
   "id": "b7ddd833",
   "metadata": {},
   "outputs": [
    {
     "name": "stdout",
     "output_type": "stream",
     "text": [
      "36\n",
      " VAR Order Selection (* highlights the minimums)  \n",
      "==================================================\n",
      "       AIC         BIC         FPE         HQIC   \n",
      "--------------------------------------------------\n",
      "0       -16.28      -16.24   8.495e-08      -16.26\n",
      "1       -16.64     -16.52*   5.939e-08      -16.59\n",
      "2       -16.69      -16.49   5.632e-08     -16.61*\n",
      "3       -16.72      -16.44   5.485e-08      -16.60\n",
      "4       -16.73      -16.36   5.437e-08      -16.58\n",
      "5       -16.71      -16.27   5.525e-08      -16.53\n",
      "6       -16.71      -16.18   5.552e-08      -16.49\n",
      "7       -16.71      -16.10   5.536e-08      -16.46\n",
      "8       -16.69      -16.00   5.653e-08      -16.41\n",
      "9       -16.65      -15.88   5.885e-08      -16.34\n",
      "10      -16.76      -15.91   5.275e-08      -16.42\n",
      "11      -16.76      -15.83   5.286e-08      -16.38\n",
      "12      -17.01      -16.00   4.129e-08      -16.60\n",
      "13      -17.02      -15.93  4.097e-08*      -16.57\n",
      "14      -16.98      -15.81   4.266e-08      -16.50\n",
      "15      -16.98      -15.72   4.281e-08      -16.47\n",
      "16      -16.97      -15.63   4.352e-08      -16.42\n",
      "17      -16.97      -15.55   4.340e-08      -16.39\n",
      "18      -16.95      -15.46   4.429e-08      -16.35\n",
      "19      -16.95      -15.37   4.480e-08      -16.30\n",
      "20      -16.99      -15.33   4.322e-08      -16.31\n",
      "21      -16.96      -15.22   4.442e-08      -16.26\n",
      "22      -16.99      -15.17   4.346e-08      -16.25\n",
      "23      -16.95      -15.05   4.540e-08      -16.18\n",
      "24      -16.98      -15.00   4.428e-08      -16.18\n",
      "25      -16.96      -14.89   4.575e-08      -16.12\n",
      "26      -16.95      -14.80   4.658e-08      -16.08\n",
      "27      -17.05      -14.82   4.256e-08      -16.14\n",
      "28     -17.05*      -14.74   4.272e-08      -16.11\n",
      "29      -17.03      -14.64   4.402e-08      -16.06\n",
      "30      -17.04      -14.57   4.402e-08      -16.04\n",
      "31      -17.01      -14.46   4.590e-08      -15.98\n",
      "32      -16.98      -14.35   4.808e-08      -15.91\n",
      "33      -16.97      -14.25   4.927e-08      -15.86\n",
      "34      -16.93      -14.13   5.206e-08      -15.79\n",
      "35      -16.92      -14.05   5.317e-08      -15.75\n",
      "36      -16.98      -14.02   5.104e-08      -15.78\n",
      "--------------------------------------------------\n"
     ]
    }
   ],
   "source": [
    "# Selection Order Criteria\n",
    "max_lags = len(df[[\"infl\", \"crec_m\"]].dropna())-125\n",
    "max_lags = 36\n",
    "print(max_lags)\n",
    "print(model.select_order(maxlags=max_lags).summary())"
   ]
  },
  {
   "cell_type": "markdown",
   "id": "06eb07e7",
   "metadata": {},
   "source": [
    "#### VAR(n) bivariado"
   ]
  },
  {
   "cell_type": "code",
   "execution_count": 20,
   "id": "90a04086",
   "metadata": {},
   "outputs": [
    {
     "name": "stdout",
     "output_type": "stream",
     "text": [
      "  Summary of Regression Results   \n",
      "==================================\n",
      "Model:                         VAR\n",
      "Method:                        OLS\n",
      "Date:           Thu, 21, Aug, 2025\n",
      "Time:                     16:30:35\n",
      "--------------------------------------------------------------------\n",
      "No. of Equations:         2.00000    BIC:                   -15.9800\n",
      "Nobs:                     171.000    HQIC:                  -16.5695\n",
      "Log likelihood:           1019.84    FPE:                4.27989e-08\n",
      "AIC:                     -16.9721    Det(Omega_mle):     3.19223e-08\n",
      "--------------------------------------------------------------------\n",
      "Results for equation infl\n",
      "=============================================================================\n",
      "                coefficient       std. error           t-stat            prob\n",
      "-----------------------------------------------------------------------------\n",
      "const              0.002922         0.002082            1.403           0.161\n",
      "L1.infl            0.488500         0.085379            5.722           0.000\n",
      "L1.crec_m          0.011412         0.028064            0.407           0.684\n",
      "L2.infl            0.237575         0.095947            2.476           0.013\n",
      "L2.crec_m          0.000655         0.026244            0.025           0.980\n",
      "L3.infl           -0.101643         0.097267           -1.045           0.296\n",
      "L3.crec_m          0.059610         0.026351            2.262           0.024\n",
      "L4.infl           -0.059461         0.098160           -0.606           0.545\n",
      "L4.crec_m          0.051987         0.026362            1.972           0.049\n",
      "L5.infl            0.105373         0.097421            1.082           0.279\n",
      "L5.crec_m         -0.026701         0.026296           -1.015           0.310\n",
      "L6.infl            0.074113         0.099747            0.743           0.457\n",
      "L6.crec_m          0.000350         0.026305            0.013           0.989\n",
      "L7.infl           -0.153737         0.098869           -1.555           0.120\n",
      "L7.crec_m          0.026150         0.025475            1.027           0.305\n",
      "L8.infl            0.063949         0.100378            0.637           0.524\n",
      "L8.crec_m          0.028889         0.025501            1.133           0.257\n",
      "L9.infl            0.179611         0.099373            1.807           0.071\n",
      "L9.crec_m         -0.031455         0.025303           -1.243           0.214\n",
      "L10.infl          -0.052811         0.100388           -0.526           0.599\n",
      "L10.crec_m        -0.020024         0.025575           -0.783           0.434\n",
      "L11.infl          -0.138948         0.099917           -1.391           0.164\n",
      "L11.crec_m        -0.032632         0.025702           -1.270           0.204\n",
      "L12.infl           0.015381         0.098584            0.156           0.876\n",
      "L12.crec_m         0.048805         0.025906            1.884           0.060\n",
      "L13.infl           0.073099         0.088268            0.828           0.408\n",
      "L13.crec_m        -0.017030         0.026714           -0.637           0.524\n",
      "=============================================================================\n",
      "\n",
      "Results for equation crec_m\n",
      "=============================================================================\n",
      "                coefficient       std. error           t-stat            prob\n",
      "-----------------------------------------------------------------------------\n",
      "const              0.009817         0.006068            1.618           0.106\n",
      "L1.infl           -0.500223         0.248807           -2.010           0.044\n",
      "L1.crec_m         -0.083286         0.081782           -1.018           0.308\n",
      "L2.infl           -0.018434         0.279605           -0.066           0.947\n",
      "L2.crec_m         -0.159382         0.076480           -2.084           0.037\n",
      "L3.infl            0.378372         0.283451            1.335           0.182\n",
      "L3.crec_m          0.164674         0.076791            2.144           0.032\n",
      "L4.infl           -0.016300         0.286054           -0.057           0.955\n",
      "L4.crec_m         -0.022909         0.076823           -0.298           0.766\n",
      "L5.infl            0.057334         0.283901            0.202           0.840\n",
      "L5.crec_m          0.079509         0.076631            1.038           0.299\n",
      "L6.infl            0.052663         0.290677            0.181           0.856\n",
      "L6.crec_m          0.111492         0.076658            1.454           0.146\n",
      "L7.infl            0.446109         0.288120            1.548           0.122\n",
      "L7.crec_m          0.127173         0.074238            1.713           0.087\n",
      "L8.infl            0.138945         0.292517            0.475           0.635\n",
      "L8.crec_m         -0.077295         0.074315           -1.040           0.298\n",
      "L9.infl            0.270934         0.289588            0.936           0.349\n",
      "L9.crec_m         -0.157928         0.073736           -2.142           0.032\n",
      "L10.infl          -0.027788         0.292547           -0.095           0.924\n",
      "L10.crec_m        -0.262032         0.074531           -3.516           0.000\n",
      "L11.infl          -0.351804         0.291172           -1.208           0.227\n",
      "L11.crec_m         0.041853         0.074900            0.559           0.576\n",
      "L12.infl           0.367119         0.287290            1.278           0.201\n",
      "L12.crec_m         0.297295         0.075493            3.938           0.000\n",
      "L13.infl          -0.466069         0.257228           -1.812           0.070\n",
      "L13.crec_m         0.106023         0.077850            1.362           0.173\n",
      "=============================================================================\n",
      "\n",
      "Correlation matrix of residuals\n",
      "              infl    crec_m\n",
      "infl      1.000000  0.057323\n",
      "crec_m    0.057323  1.000000\n",
      "\n",
      "\n",
      "\n"
     ]
    }
   ],
   "source": [
    "selected_lag = 13\n",
    "result_var = model.fit(selected_lag)\n",
    "print(result_var.summary())"
   ]
  },
  {
   "cell_type": "markdown",
   "id": "a2989a20",
   "metadata": {},
   "source": [
    "### Estabilidad del VAR (chequeo que no haya raices unitarias)\n",
    "es decir, que todas las raices sean > 1 en valor absoluto"
   ]
  },
  {
   "cell_type": "code",
   "execution_count": 21,
   "id": "a80123f6",
   "metadata": {},
   "outputs": [
    {
     "name": "stdout",
     "output_type": "stream",
     "text": [
      "Raíces del VAR(13):\n"
     ]
    },
    {
     "data": {
      "text/plain": [
       "array([ 2.78943753e+02-0.j        ,  1.27130198e+00+0.41715393j,\n",
       "        1.27130198e+00-0.41715393j, -5.00202805e-01+1.12212981j,\n",
       "       -5.00202805e-01-1.12212981j, -8.12899955e-01-0.83131271j,\n",
       "       -8.12899955e-01+0.83131271j,  8.03758244e-01+0.84014038j,\n",
       "        8.03758244e-01-0.84014038j,  1.14622214e+00-0.j        ,\n",
       "       -1.13280445e+00-0.j        , -1.07886026e+00+0.29282336j,\n",
       "       -1.07886026e+00-0.29282336j,  2.62265041e-01+1.08492116j,\n",
       "        2.62265041e-01-1.08492116j, -9.48832316e-01+0.56242934j,\n",
       "       -9.48832316e-01-0.56242934j,  1.08637644e+00-0.j        ,\n",
       "        9.54046014e-01-0.49194472j,  9.54046014e-01+0.49194472j,\n",
       "       -5.60115322e-02-1.05572896j, -5.60115322e-02+1.05572896j,\n",
       "       -5.15305119e-01+0.91002389j, -5.15305119e-01-0.91002389j,\n",
       "        5.15158966e-01-0.87494769j,  5.15158966e-01+0.87494769j])"
      ]
     },
     "metadata": {},
     "output_type": "display_data"
    },
    {
     "name": "stdout",
     "output_type": "stream",
     "text": [
      "[278.94375331   1.33799332   1.33799332   1.22856752   1.22856752\n",
      "   1.16270682   1.16270682   1.16269651   1.16269651   1.14622214\n",
      "   1.13280445   1.1178931    1.1178931    1.11617063   1.11617063\n",
      "   1.10300024   1.10300024   1.08637644   1.07341204   1.07341204\n",
      "   1.05721376   1.05721376   1.04579293   1.04579293   1.0153434\n",
      "   1.0153434 ]\n",
      "El modelo VAR(13) es estacionario.\n"
     ]
    }
   ],
   "source": [
    "roots = result_var.roots\n",
    "print(f\"Raíces del VAR({selected_lag}):\")\n",
    "display(roots)\n",
    "\n",
    "print(np.abs(result_var.roots))\n",
    "\n",
    "if np.any(np.abs(roots) < 1):\n",
    "    print(f\"El modelo VAR({selected_lag}) NO es estable.\")\n",
    "else:\n",
    "    print(f\"El modelo VAR({selected_lag}) es estacionario.\")"
   ]
  },
  {
   "cell_type": "markdown",
   "id": "e9e1cec4",
   "metadata": {},
   "source": [
    "### Testeo si los residuos estan autocorrelacionados"
   ]
  },
  {
   "cell_type": "code",
   "execution_count": 22,
   "id": "3e000c19",
   "metadata": {},
   "outputs": [
    {
     "name": "stdout",
     "output_type": "stream",
     "text": [
      "<statsmodels.tsa.vector_ar.hypothesis_test_results.WhitenessTestResults object. H_0: residual autocorrelation up to lag 36 is zero: fail to reject at 5% significance level. Test statistic: 105.868, critical value: 115.390>, p-value: 0.153>\n"
     ]
    }
   ],
   "source": [
    "wb = result_var.test_whiteness(nlags=max_lags)\n",
    "print(wb)"
   ]
  },
  {
   "cell_type": "markdown",
   "id": "634b3d3c",
   "metadata": {},
   "source": [
    "### Testeo por Causalidad en Sentido de Granger\n",
    "\n",
    "Con lags=13, hay causalidad en ambas direcciones."
   ]
  },
  {
   "cell_type": "code",
   "execution_count": 23,
   "id": "3e6d8597",
   "metadata": {},
   "outputs": [
    {
     "name": "stdout",
     "output_type": "stream",
     "text": [
      "<statsmodels.tsa.vector_ar.hypothesis_test_results.CausalityTestResults object. H_0: crec_m does not Granger-cause infl: fail to reject at 5% significance level. Test statistic: 1.717, critical value: 1.754>, p-value: 0.057>\n",
      "<statsmodels.tsa.vector_ar.hypothesis_test_results.CausalityTestResults object. H_0: infl does not Granger-cause crec_m: reject at 5% significance level. Test statistic: 1.782, critical value: 1.754>, p-value: 0.045>\n"
     ]
    }
   ],
   "source": [
    "print(result_var.test_causality(\"infl\", [\"crec_m\"], kind=\"f\"))\n",
    "\n",
    "print(result_var.test_causality(\"crec_m\", [\"infl\"], kind=\"f\"))"
   ]
  }
 ],
 "metadata": {
  "kernelspec": {
   "display_name": "env-udesa",
   "language": "python",
   "name": "python3"
  },
  "language_info": {
   "codemirror_mode": {
    "name": "ipython",
    "version": 3
   },
   "file_extension": ".py",
   "mimetype": "text/x-python",
   "name": "python",
   "nbconvert_exporter": "python",
   "pygments_lexer": "ipython3",
   "version": "3.13.3"
  }
 },
 "nbformat": 4,
 "nbformat_minor": 5
}
