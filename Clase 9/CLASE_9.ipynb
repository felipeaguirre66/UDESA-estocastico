{
  "cells": [
    {
      "cell_type": "markdown",
      "id": "be223a2e",
      "metadata": {
        "id": "be223a2e"
      },
      "source": [
        "# Modelado Estocástico\n",
        "## Clase 9 - Modelos VAR (Vector Autoregressions)"
      ]
    },
    {
      "cell_type": "code",
      "execution_count": 1,
      "id": "rrYNkF6qjiBd",
      "metadata": {
        "colab": {
          "base_uri": "https://localhost:8080/"
        },
        "id": "rrYNkF6qjiBd",
        "outputId": "7b562e78-54ec-4c2f-c541-8b1496360362"
      },
      "outputs": [],
      "source": [
        "# !pip install arch"
      ]
    },
    {
      "cell_type": "code",
      "execution_count": 2,
      "id": "c4ca89d0",
      "metadata": {
        "id": "c4ca89d0"
      },
      "outputs": [],
      "source": [
        "import pandas as pd\n",
        "import numpy as np\n",
        "from statsmodels.tsa.api import VAR\n",
        "from arch.unitroot import DFGLS"
      ]
    },
    {
      "cell_type": "markdown",
      "id": "ada4e269",
      "metadata": {
        "id": "ada4e269"
      },
      "source": [
        "Pandas nos permite abrir archvios de tipo `.dta`. para eso podemos utilizar el método `read_stata`. En este caso vamos a utilizar el archivo llamado `Precios_y_Dinero`."
      ]
    },
    {
      "cell_type": "code",
      "execution_count": 3,
      "id": "Q3sggk03oUdq",
      "metadata": {
        "colab": {
          "base_uri": "https://localhost:8080/"
        },
        "id": "Q3sggk03oUdq",
        "outputId": "c067c118-79a8-4d2c-d868-65e16d0ae81f"
      },
      "outputs": [
        {
          "name": "stdout",
          "output_type": "stream",
          "text": [
            "['mmyy', 'ipc', 'm', 'm_en_ars']\n"
          ]
        }
      ],
      "source": [
        "df = pd.read_stata(\"Precios_y_Dinero_data.dta\")\n",
        "print(df.columns.tolist())"
      ]
    },
    {
      "cell_type": "markdown",
      "id": "a96d123f",
      "metadata": {
        "id": "a96d123f"
      },
      "source": [
        "Además, vamos a generar un índice asociado al período mensual correspondiente, para eso construímos la columna `period`."
      ]
    },
    {
      "cell_type": "code",
      "execution_count": 4,
      "id": "93973619",
      "metadata": {
        "colab": {
          "base_uri": "https://localhost:8080/",
          "height": 238
        },
        "id": "93973619",
        "outputId": "a0269efb-14ce-41d9-9e7a-7acd96211499"
      },
      "outputs": [
        {
          "data": {
            "text/html": [
              "<div>\n",
              "<style scoped>\n",
              "    .dataframe tbody tr th:only-of-type {\n",
              "        vertical-align: middle;\n",
              "    }\n",
              "\n",
              "    .dataframe tbody tr th {\n",
              "        vertical-align: top;\n",
              "    }\n",
              "\n",
              "    .dataframe thead th {\n",
              "        text-align: right;\n",
              "    }\n",
              "</style>\n",
              "<table border=\"1\" class=\"dataframe\">\n",
              "  <thead>\n",
              "    <tr style=\"text-align: right;\">\n",
              "      <th></th>\n",
              "      <th>mmyy</th>\n",
              "      <th>ipc</th>\n",
              "      <th>m</th>\n",
              "      <th>m_en_ars</th>\n",
              "    </tr>\n",
              "    <tr>\n",
              "      <th>yearmm</th>\n",
              "      <th></th>\n",
              "      <th></th>\n",
              "      <th></th>\n",
              "      <th></th>\n",
              "    </tr>\n",
              "  </thead>\n",
              "  <tbody>\n",
              "    <tr>\n",
              "      <th>2003-01</th>\n",
              "      <td>Jan-03</td>\n",
              "      <td>100.00</td>\n",
              "      <td>100.00</td>\n",
              "      <td>29609.92</td>\n",
              "    </tr>\n",
              "    <tr>\n",
              "      <th>2003-02</th>\n",
              "      <td>Feb-03</td>\n",
              "      <td>100.57</td>\n",
              "      <td>99.36</td>\n",
              "      <td>29420.37</td>\n",
              "    </tr>\n",
              "    <tr>\n",
              "      <th>2003-03</th>\n",
              "      <td>Mar-03</td>\n",
              "      <td>101.16</td>\n",
              "      <td>102.63</td>\n",
              "      <td>30388.08</td>\n",
              "    </tr>\n",
              "    <tr>\n",
              "      <th>2003-04</th>\n",
              "      <td>Apr-03</td>\n",
              "      <td>101.21</td>\n",
              "      <td>104.26</td>\n",
              "      <td>30870.99</td>\n",
              "    </tr>\n",
              "    <tr>\n",
              "      <th>2003-05</th>\n",
              "      <td>May-03</td>\n",
              "      <td>100.82</td>\n",
              "      <td>111.80</td>\n",
              "      <td>33105.17</td>\n",
              "    </tr>\n",
              "  </tbody>\n",
              "</table>\n",
              "</div>"
            ],
            "text/plain": [
              "           mmyy     ipc       m  m_en_ars\n",
              "yearmm                                   \n",
              "2003-01  Jan-03  100.00  100.00  29609.92\n",
              "2003-02  Feb-03  100.57   99.36  29420.37\n",
              "2003-03  Mar-03  101.16  102.63  30388.08\n",
              "2003-04  Apr-03  101.21  104.26  30870.99\n",
              "2003-05  May-03  100.82  111.80  33105.17"
            ]
          },
          "execution_count": 4,
          "metadata": {},
          "output_type": "execute_result"
        }
      ],
      "source": [
        "inicio = pd.to_datetime(df['mmyy'].iloc[0], format='%b-%y').strftime('%Y-%m')\n",
        "df[\"yearmm\"] = pd.period_range(start=inicio, periods=len(df), freq=\"M\")\n",
        "df = df.set_index(\"yearmm\")\n",
        "df['ipc'] = df['ipc'].astype(float)\n",
        "df['m'] = df['m'].astype(float)\n",
        "df.head()"
      ]
    },
    {
      "cell_type": "markdown",
      "id": "2357e5c2",
      "metadata": {
        "id": "2357e5c2"
      },
      "source": [
        "Generamos las variables Inflación y Tasa de Crecimiento de la Base Monetaria"
      ]
    },
    {
      "cell_type": "code",
      "execution_count": 5,
      "id": "4e194d1b",
      "metadata": {
        "id": "4e194d1b"
      },
      "outputs": [],
      "source": [
        "df[\"infl\"] = df[\"ipc\"] / df[\"ipc\"].shift(1) - 1\n",
        "df[\"crec_m\"] = df[\"m\"] / df[\"m\"].shift(1) - 1\n",
        "df = df[['infl','crec_m']]"
      ]
    },
    {
      "cell_type": "markdown",
      "id": "a9ef21c1",
      "metadata": {
        "id": "a9ef21c1"
      },
      "source": [
        "## Chequeo de estacionariedad utilizando la prueba de Dickey-Fuller GLS\n",
        "\n",
        "Debemos corrobar que sean estacionarias. Para eso tenemos diferentes alternativas, acorde con lo visto en clase vamos a utilizar una biblioteca (`arch`) que desarrolla la prueba de Dickey-Fuller GLS (Elliott-Rothenberg-Stock) en línea con el uso del comando `dfgls` de Stata."
      ]
    },
    {
      "cell_type": "code",
      "execution_count": 6,
      "id": "917a2eec",
      "metadata": {
        "colab": {
          "base_uri": "https://localhost:8080/"
        },
        "id": "917a2eec",
        "outputId": "84fd1963-b202-4727-e3f8-71765be02a20"
      },
      "outputs": [
        {
          "name": "stdout",
          "output_type": "stream",
          "text": [
            "Inflación\n",
            "      Dickey-Fuller GLS Results      \n",
            "=====================================\n",
            "Test Statistic                 -3.295\n",
            "P-value                         0.001\n",
            "Lags                                1\n",
            "-------------------------------------\n",
            "\n",
            "Trend: Constant\n",
            "Critical Values: -2.68 (1%), -2.06 (5%), -1.74 (10%)\n",
            "Null Hypothesis: The process contains a unit root.\n",
            "Alternative Hypothesis: The process is weakly stationary.\n"
          ]
        }
      ],
      "source": [
        "test = DFGLS(df[\"infl\"].dropna(),trend=\"c\")\n",
        "print(\"Inflación\")\n",
        "print(test.summary())"
      ]
    },
    {
      "cell_type": "code",
      "execution_count": 7,
      "id": "2089fefa",
      "metadata": {
        "colab": {
          "base_uri": "https://localhost:8080/"
        },
        "id": "2089fefa",
        "outputId": "096c7286-9579-468c-fdc2-7c702c2e6545"
      },
      "outputs": [
        {
          "name": "stdout",
          "output_type": "stream",
          "text": [
            "Tasa de Crecimiento de la Base Monetaria\n",
            "      Dickey-Fuller GLS Results      \n",
            "=====================================\n",
            "Test Statistic                 -1.174\n",
            "P-value                         0.227\n",
            "Lags                               14\n",
            "-------------------------------------\n",
            "\n",
            "Trend: Constant\n",
            "Critical Values: -2.68 (1%), -2.06 (5%), -1.75 (10%)\n",
            "Null Hypothesis: The process contains a unit root.\n",
            "Alternative Hypothesis: The process is weakly stationary.\n"
          ]
        }
      ],
      "source": [
        "test = DFGLS(df[\"crec_m\"].dropna(),trend=\"c\")\n",
        "print(\"Tasa de Crecimiento de la Base Monetaria\")\n",
        "print(test.summary())"
      ]
    },
    {
      "cell_type": "markdown",
      "id": "0358bf7d",
      "metadata": {
        "id": "0358bf7d"
      },
      "source": [
        "## Corremos el VAR(2) bivariado"
      ]
    },
    {
      "cell_type": "code",
      "execution_count": 8,
      "id": "724a74ad",
      "metadata": {
        "colab": {
          "base_uri": "https://localhost:8080/"
        },
        "id": "724a74ad",
        "outputId": "a27f1302-583d-4207-b376-239b9f4e6ba0"
      },
      "outputs": [
        {
          "name": "stdout",
          "output_type": "stream",
          "text": [
            "  Summary of Regression Results   \n",
            "==================================\n",
            "Model:                         VAR\n",
            "Method:                        OLS\n",
            "Date:           Wed, 20, Aug, 2025\n",
            "Time:                     09:45:49\n",
            "--------------------------------------------------------------------\n",
            "No. of Equations:         2.00000    BIC:                   -16.6022\n",
            "Nobs:                     182.000    HQIC:                  -16.7069\n",
            "Log likelihood:           1020.33    FPE:                5.16789e-08\n",
            "AIC:                     -16.7782    Det(Omega_mle):     4.89523e-08\n",
            "--------------------------------------------------------------------\n",
            "Results for equation infl\n",
            "============================================================================\n",
            "               coefficient       std. error           t-stat            prob\n",
            "----------------------------------------------------------------------------\n",
            "const             0.004224         0.001340            3.151           0.002\n",
            "L1.infl           0.517731         0.075813            6.829           0.000\n",
            "L1.crec_m         0.020715         0.020682            1.002           0.317\n",
            "L2.infl           0.211112         0.077033            2.741           0.006\n",
            "L2.crec_m        -0.007078         0.020224           -0.350           0.726\n",
            "============================================================================\n",
            "\n",
            "Results for equation crec_m\n",
            "============================================================================\n",
            "               coefficient       std. error           t-stat            prob\n",
            "----------------------------------------------------------------------------\n",
            "const             0.026837         0.004744            5.657           0.000\n",
            "L1.infl          -0.799904         0.268292           -2.981           0.003\n",
            "L1.crec_m         0.156087         0.073191            2.133           0.033\n",
            "L2.infl           0.454584         0.272610            1.668           0.095\n",
            "L2.crec_m        -0.212948         0.071570           -2.975           0.003\n",
            "============================================================================\n",
            "\n",
            "Correlation matrix of residuals\n",
            "              infl    crec_m\n",
            "infl      1.000000  0.083975\n",
            "crec_m    0.083975  1.000000\n",
            "\n",
            "\n",
            "\n"
          ]
        }
      ],
      "source": [
        "model = VAR(df[[\"infl\", \"crec_m\"]].dropna())\n",
        "result_var2 = model.fit(2)\n",
        "print(result_var2.summary())"
      ]
    },
    {
      "cell_type": "markdown",
      "id": "4adf5cdb",
      "metadata": {
        "id": "4adf5cdb"
      },
      "source": [
        "### Selection Order Criteria"
      ]
    },
    {
      "cell_type": "code",
      "execution_count": 9,
      "id": "025103a1",
      "metadata": {
        "colab": {
          "base_uri": "https://localhost:8080/"
        },
        "id": "025103a1",
        "outputId": "f91840e5-ac1b-41b2-81fc-c80394a7c7e9"
      },
      "outputs": [
        {
          "name": "stdout",
          "output_type": "stream",
          "text": [
            " VAR Order Selection (* highlights the minimums)  \n",
            "==================================================\n",
            "       AIC         BIC         FPE         HQIC   \n",
            "--------------------------------------------------\n",
            "0       -16.27      -16.24   8.561e-08      -16.26\n",
            "1       -16.73     -16.62*   5.441e-08      -16.68\n",
            "2       -16.79      -16.60   5.127e-08      -16.71\n",
            "3       -16.83      -16.57   4.923e-08     -16.72*\n",
            "4       -16.82      -16.49   4.935e-08      -16.69\n",
            "5       -16.81      -16.40   5.025e-08      -16.64\n",
            "6       -16.82      -16.34   4.960e-08      -16.63\n",
            "7       -16.84      -16.29   4.863e-08      -16.62\n",
            "8       -16.83      -16.20   4.918e-08      -16.57\n",
            "9       -16.81      -16.11   5.025e-08      -16.52\n",
            "10      -16.87      -16.10   4.714e-08      -16.56\n",
            "11      -16.86      -16.01   4.764e-08      -16.52\n",
            "12      -16.98      -16.06   4.232e-08      -16.61\n",
            "13     -16.99*      -15.99  4.225e-08*      -16.58\n",
            "14      -16.95      -15.88   4.377e-08      -16.52\n",
            "--------------------------------------------------\n"
          ]
        }
      ],
      "source": [
        "print(model.select_order().summary())"
      ]
    },
    {
      "cell_type": "markdown",
      "id": "7657d097",
      "metadata": {
        "id": "7657d097"
      },
      "source": [
        "### VAR(8) bivariado"
      ]
    },
    {
      "cell_type": "code",
      "execution_count": 10,
      "id": "8c1aa0a8",
      "metadata": {
        "colab": {
          "base_uri": "https://localhost:8080/"
        },
        "id": "8c1aa0a8",
        "outputId": "2bdbce47-0067-44f7-a968-18a3951503ce"
      },
      "outputs": [
        {
          "name": "stdout",
          "output_type": "stream",
          "text": [
            "  Summary of Regression Results   \n",
            "==================================\n",
            "Model:                         VAR\n",
            "Method:                        OLS\n",
            "Date:           Wed, 20, Aug, 2025\n",
            "Time:                     09:45:49\n",
            "--------------------------------------------------------------------\n",
            "No. of Equations:         2.00000    BIC:                   -16.2262\n",
            "Nobs:                     176.000    HQIC:                  -16.5903\n",
            "Log likelihood:           1016.34    FPE:                4.87039e-08\n",
            "AIC:                     -16.8387    Det(Omega_mle):     4.05018e-08\n",
            "--------------------------------------------------------------------\n",
            "Results for equation infl\n",
            "============================================================================\n",
            "               coefficient       std. error           t-stat            prob\n",
            "----------------------------------------------------------------------------\n",
            "const             0.002599         0.001841            1.411           0.158\n",
            "L1.infl           0.498804         0.080740            6.178           0.000\n",
            "L1.crec_m         0.020150         0.023985            0.840           0.401\n",
            "L2.infl           0.211633         0.092427            2.290           0.022\n",
            "L2.crec_m        -0.015672         0.023358           -0.671           0.502\n",
            "L3.infl          -0.094631         0.093826           -1.009           0.313\n",
            "L3.crec_m         0.048854         0.023386            2.089           0.037\n",
            "L4.infl          -0.015633         0.093737           -0.167           0.868\n",
            "L4.crec_m         0.025179         0.023119            1.089           0.276\n",
            "L5.infl           0.092518         0.093633            0.988           0.323\n",
            "L5.crec_m        -0.032010         0.023086           -1.387           0.166\n",
            "L6.infl           0.038728         0.095377            0.406           0.685\n",
            "L6.crec_m         0.002751         0.023177            0.119           0.906\n",
            "L7.infl          -0.121903         0.092882           -1.312           0.189\n",
            "L7.crec_m         0.025200         0.023266            1.083           0.279\n",
            "L8.infl           0.155183         0.083654            1.855           0.064\n",
            "L8.crec_m         0.004385         0.022798            0.192           0.847\n",
            "============================================================================\n",
            "\n",
            "Results for equation crec_m\n",
            "============================================================================\n",
            "               coefficient       std. error           t-stat            prob\n",
            "----------------------------------------------------------------------------\n",
            "const             0.012008         0.006073            1.977           0.048\n",
            "L1.infl          -0.643278         0.266272           -2.416           0.016\n",
            "L1.crec_m         0.033085         0.079099            0.418           0.676\n",
            "L2.infl          -0.159614         0.304814           -0.524           0.601\n",
            "L2.crec_m        -0.226966         0.077033           -2.946           0.003\n",
            "L3.infl           0.389656         0.309426            1.259           0.208\n",
            "L3.crec_m         0.052853         0.077124            0.685           0.493\n",
            "L4.infl          -0.021205         0.309133           -0.069           0.945\n",
            "L4.crec_m        -0.164462         0.076244           -2.157           0.031\n",
            "L5.infl          -0.050084         0.308789           -0.162           0.871\n",
            "L5.crec_m         0.120015         0.076133            1.576           0.115\n",
            "L6.infl          -0.075735         0.314542           -0.241           0.810\n",
            "L6.crec_m         0.216374         0.076436            2.831           0.005\n",
            "L7.infl           0.440318         0.306312            1.437           0.151\n",
            "L7.crec_m         0.177019         0.076727            2.307           0.021\n",
            "L8.infl           0.407698         0.275881            1.478           0.139\n",
            "L8.crec_m        -0.077399         0.075185           -1.029           0.303\n",
            "============================================================================\n",
            "\n",
            "Correlation matrix of residuals\n",
            "              infl    crec_m\n",
            "infl      1.000000  0.116498\n",
            "crec_m    0.116498  1.000000\n",
            "\n",
            "\n",
            "\n"
          ]
        }
      ],
      "source": [
        "result_var8 = model.fit(8)\n",
        "print(result_var8.summary())"
      ]
    },
    {
      "cell_type": "markdown",
      "id": "41fc1e86",
      "metadata": {
        "id": "41fc1e86"
      },
      "source": [
        "### Estabilidad del VAR (chequeo que no haya raices unitarias)"
      ]
    },
    {
      "cell_type": "code",
      "execution_count": 11,
      "id": "7e1df867",
      "metadata": {
        "colab": {
          "base_uri": "https://localhost:8080/",
          "height": 86
        },
        "id": "7e1df867",
        "outputId": "1ed8fc31-a2fd-472c-e74a-f38e0ff19609"
      },
      "outputs": [
        {
          "name": "stdout",
          "output_type": "stream",
          "text": [
            "Raíces del VAR(2):\n"
          ]
        },
        {
          "data": {
            "text/plain": [
              "array([-4.10053618-0.j        ,  0.30599245+2.11843778j,\n",
              "        0.30599245-2.11843778j,  1.27533308-0.j        ])"
            ]
          },
          "metadata": {},
          "output_type": "display_data"
        },
        {
          "name": "stdout",
          "output_type": "stream",
          "text": [
            "[4.10053618 2.14042286 2.14042286 1.27533308]\n"
          ]
        }
      ],
      "source": [
        "roots = result_var2.roots\n",
        "print(\"Raíces del VAR(2):\")\n",
        "display(roots)\n",
        "print(np.abs(result_var2.roots))"
      ]
    },
    {
      "cell_type": "markdown",
      "id": "13cf2119",
      "metadata": {
        "id": "13cf2119"
      },
      "source": [
        "### Testeo si los residuos estan autocorrelacionados"
      ]
    },
    {
      "cell_type": "markdown",
      "id": "T5oXFf0S-_E-",
      "metadata": {
        "id": "T5oXFf0S-_E-"
      },
      "source": [
        "Este test no es exactamente el de Stata, pero es similar"
      ]
    },
    {
      "cell_type": "code",
      "execution_count": 12,
      "id": "d8mJXKAi-7UZ",
      "metadata": {
        "colab": {
          "base_uri": "https://localhost:8080/"
        },
        "id": "d8mJXKAi-7UZ",
        "outputId": "3325f9d6-de46-47ee-f780-cfd870946f2d"
      },
      "outputs": [
        {
          "name": "stdout",
          "output_type": "stream",
          "text": [
            "<statsmodels.tsa.vector_ar.hypothesis_test_results.WhitenessTestResults object. H_0: residual autocorrelation up to lag 12 is zero: reject at 5% significance level. Test statistic: 89.230, critical value: 55.758>, p-value: 0.000>\n"
          ]
        }
      ],
      "source": [
        "wb = result_var2.test_whiteness(nlags=12)\n",
        "print(wb)"
      ]
    },
    {
      "cell_type": "markdown",
      "id": "wfeNXIjM_IFu",
      "metadata": {
        "id": "wfeNXIjM_IFu"
      },
      "source": [
        "Para visualizar los p-values"
      ]
    },
    {
      "cell_type": "code",
      "execution_count": 13,
      "id": "P7-52Isv_Gux",
      "metadata": {
        "colab": {
          "base_uri": "https://localhost:8080/"
        },
        "id": "P7-52Isv_Gux",
        "outputId": "8fd66181-6411-4d81-c671-4b1a1c62b20a"
      },
      "outputs": [
        {
          "name": "stdout",
          "output_type": "stream",
          "text": [
            "3 0.04920091272004848\n",
            "4 0.09035470520232061\n",
            "5 0.11196457499752265\n",
            "6 0.017345722056598997\n",
            "7 0.025617532171963914\n",
            "8 0.037633996159916284\n",
            "9 0.006060635887250112\n",
            "10 0.002069402489489914\n",
            "11 0.0010173444004396087\n",
            "12 3.4536430816230336e-06\n"
          ]
        }
      ],
      "source": [
        "for h in range(3, 13):\n",
        "    r = result_var2.test_whiteness(nlags=h, adjusted=True)\n",
        "    print(h, r.pvalue)"
      ]
    },
    {
      "cell_type": "markdown",
      "id": "1492639d",
      "metadata": {
        "id": "1492639d"
      },
      "source": [
        "### Testeo por Causalidad en Sentido de Granger"
      ]
    },
    {
      "cell_type": "code",
      "execution_count": 14,
      "id": "0519a9c7",
      "metadata": {
        "colab": {
          "base_uri": "https://localhost:8080/"
        },
        "id": "0519a9c7",
        "outputId": "b80c03cf-a608-44b2-8206-11f46d2620b1"
      },
      "outputs": [
        {
          "name": "stdout",
          "output_type": "stream",
          "text": [
            "<statsmodels.tsa.vector_ar.hypothesis_test_results.CausalityTestResults object. H_0: crec_m does not Granger-cause infl: fail to reject at 5% significance level. Test statistic: 0.532, critical value: 3.021>, p-value: 0.588>\n",
            "<statsmodels.tsa.vector_ar.hypothesis_test_results.CausalityTestResults object. H_0: infl does not Granger-cause crec_m: reject at 5% significance level. Test statistic: 4.556, critical value: 3.021>, p-value: 0.011>\n"
          ]
        }
      ],
      "source": [
        "print(result_var2.test_causality(\"infl\", [\"crec_m\"], kind=\"f\"))\n",
        "\n",
        "print(result_var2.test_causality(\"crec_m\", [\"infl\"], kind=\"f\"))"
      ]
    }
  ],
  "metadata": {
    "colab": {
      "provenance": []
    },
    "kernelspec": {
      "display_name": "env-udesa",
      "language": "python",
      "name": "python3"
    },
    "language_info": {
      "codemirror_mode": {
        "name": "ipython",
        "version": 3
      },
      "file_extension": ".py",
      "mimetype": "text/x-python",
      "name": "python",
      "nbconvert_exporter": "python",
      "pygments_lexer": "ipython3",
      "version": "3.13.3"
    }
  },
  "nbformat": 4,
  "nbformat_minor": 5
}
