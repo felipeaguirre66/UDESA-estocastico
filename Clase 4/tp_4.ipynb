{
 "cells": [
  {
   "cell_type": "markdown",
   "id": "8c710554",
   "metadata": {},
   "source": [
    "# 1)\n",
    "#### a) \n",
    "Por cada auto extra que entra en el garage, el precio de la propiedad aumenta en 4139.8 USD, ceteris paribus.\n",
    "\n",
    "#### b) \n",
    "The F-test of overall significance indicates whether your linear regression model provides a better fit to the data than a model that contains no independent variables (only intercept).\n",
    "\n",
    "H0: B1 = B2 = B3 = ... = 0\n",
    "\n",
    "H1: al menos un B != 0\n",
    "\n",
    "$$\n",
    "F = \\frac{\\text{varianza explicada}}{\\text{varianza residual}}\n",
    "= \\frac{\\mathrm{SSR}/k}{\\mathrm{SSE}/(n - k - 1)}\n",
    "$$\n",
    "\n",
    "\n",
    "\n",
    "Donde:\n",
    "$$\n",
    "\\begin{aligned}\n",
    "\\mathrm{SSR} &= \\sum_{i=1}^n \\bigl(\\hat y_i - \\bar y\\bigr)^2 \n",
    "\\quad\\text{(suma de cuadrados explicada)}\\\\\n",
    "\\mathrm{SSE} &= \\sum_{i=1}^n \\bigl(y_i - \\hat y_i\\bigr)^2 \n",
    "\\quad\\text{(suma de cuadrados residual)}\n",
    "\\end{aligned}\n",
    "$$\n"
   ]
  },
  {
   "cell_type": "markdown",
   "id": "8704f7ec",
   "metadata": {},
   "source": [
    "El de arriba es para el test F global.\n",
    "\n",
    "Para el caso más general del test F, donde comparamos modelos anidados, hacemos:\n",
    "\n",
    "$$\n",
    "F = \\frac{(RRSS - URSS)/q}{URSS/(n - k)}\n",
    "$$\n",
    "\n",
    "Donde:\n",
    "- \\(RRSS\\): suma de cuadrados de residuos del modelo restringido.\n",
    "- \\(URSS\\): suma de cuadrados de residuos del modelo no restringido.\n",
    "- \\(q\\): número de restricciones impuestas (diferencia de parámetros entre modelos).\n",
    "- \\(n\\): tamaño muestral.\n",
    "- \\(k\\): número de parámetros del modelo no restringido, incluyendo el intercepto si lo hay.\n",
    "\n",
    "Grados de libertad: numerador \\(q\\); denominador \\(n - k\\).\n"
   ]
  },
  {
   "cell_type": "markdown",
   "id": "e8d4b6ba",
   "metadata": {},
   "source": [
    "\n",
    "#### c)\n",
    "Si, veo que CUARTOS tiene un p-value bastante grande para ser una variable, al menos intuitivamente, muy importante. Esto se debe a que dicha variable puede explicarse casi completamente por el resto (cuánto puede realmente variar CUARTOS si fijamos baños, m2, sotanos, pisos, etc.?)."
   ]
  },
  {
   "cell_type": "code",
   "execution_count": 1,
   "id": "a8168ecf",
   "metadata": {},
   "outputs": [],
   "source": [
    "import numpy as np"
   ]
  },
  {
   "cell_type": "code",
   "execution_count": 2,
   "id": "1ed4c2a9",
   "metadata": {},
   "outputs": [
    {
     "data": {
      "text/plain": [
       "94697.6476"
      ]
     },
     "execution_count": 2,
     "metadata": {},
     "output_type": "execute_result"
    }
   ],
   "source": [
    "# D) 94,697 USD\n",
    "\n",
    "LOTE = 3.534066\n",
    "CUARTOS = 1909.324 \n",
    "BANOS = 13829.49\n",
    "PISOS = 6492.688\n",
    "ENTRADA = 6722.788\n",
    "REC = 4623.243\n",
    "CALEF = 12995.33\n",
    "NBHD = 9469.961\n",
    "\n",
    "y = -3509.739 + LOTE*5100 + CUARTOS*3 + BANOS*2 + PISOS*2 + ENTRADA*1 + REC*1 + CALEF*1 + NBHD*1\n",
    "y"
   ]
  },
  {
   "cell_type": "markdown",
   "id": "77778f1a",
   "metadata": {},
   "source": [
    "# 2)\n",
    "e) Tener exactamente 3 baños aumenta el precio 29,392.54 USD comparado a tener exactamente un baño.\n",
    "\n",
    "f) IC = [2.83973576, 4.21377024]\n",
    "\n",
    "g) Podría tener sentido desde una perspectiva de negocio (ej, agregar 3 baños es casi tan barato como agregar 2). Estadísticamente, nos sirve porque podríamos combinarlas en una única variable numérica \"baños extra por encima del primer baño\", y nos ahorraríamos un grado de libertad.\n",
    "\n",
    "Me dio significativamente más que el doble."
   ]
  },
  {
   "cell_type": "code",
   "execution_count": 3,
   "id": "d4149d7f",
   "metadata": {},
   "outputs": [
    {
     "data": {
      "text/plain": [
       "[2.83973576, 4.21377024]"
      ]
     },
     "execution_count": 3,
     "metadata": {},
     "output_type": "execute_result"
    }
   ],
   "source": [
    "# F)\n",
    "b_hat = 3.526753\n",
    "se = 0.350519\n",
    "IC = [b_hat - se*1.96, b_hat + se*1.96]\n",
    "IC"
   ]
  },
  {
   "cell_type": "code",
   "execution_count": 4,
   "id": "154eb2ff",
   "metadata": {},
   "outputs": [
    {
     "data": {
      "text/plain": [
       "0.47839846419875975"
      ]
     },
     "execution_count": 4,
     "metadata": {},
     "output_type": "execute_result"
    }
   ],
   "source": [
    "# G) INCORRECTO: estamos comaprando DB3 con un número fijo (b_H0). En verdad, ambas son variables aleatorias, y hay que tener en cuenta la incerteza de ambas y de su combinación.\n",
    "\n",
    "b_H0 = 2*13481.18\n",
    "DB3 = 29392.54\n",
    "n = 545\n",
    "se = 5079.824\n",
    "\n",
    "t_obs = (DB3 - b_H0) / se\n",
    "t_obs # p-value: 0.32 (OJO: df = n - k)"
   ]
  },
  {
   "cell_type": "markdown",
   "id": "283910d3",
   "metadata": {},
   "source": [
    "$$\n",
    "t_{\\mathrm{obs}}\n",
    "= \\frac{\\hat{\\beta}_{DB3} \\;-\\; 2\\,\\hat{\\beta}_{DB2}}\n",
    "{\\sqrt{\\mathrm{Var}(\\hat{\\beta}_{DB3})\n",
    "      + 4\\,\\mathrm{Var}(\\hat{\\beta}_{DB2})\n",
    "      - 4\\,\\mathrm{Cov}(\\hat{\\beta}_{DB3}, \\hat{\\beta}_{DB2})}}\n",
    "$$"
   ]
  },
  {
   "cell_type": "code",
   "execution_count": null,
   "id": "315af09b",
   "metadata": {},
   "outputs": [
    {
     "name": "stdout",
     "output_type": "stream",
     "text": [
      "t_obs = 0.3957\n"
     ]
    }
   ],
   "source": [
    "# G) INCORRECTO: no conocemos nunca covarianza (cov_db2_db3), hay que hacer test F (ver script clase)\n",
    "import numpy as np\n",
    "\n",
    "# Coeficientes y errores estándar extraídos de la tabla\n",
    "b_db2 = 13481.18    # β̂_DB2\n",
    "b_db3 = 29392.54    # β̂_DB3\n",
    "se_db2 = 1726.361   # Std. Error β̂_DB2\n",
    "se_db3 = 5079.824   # Std. Error β̂_DB3\n",
    "cov_db2_db3 = 0     # suponemos covarianza cero\n",
    "\n",
    "# Varianzas de los coeficientes\n",
    "var_db2 = se_db2**2\n",
    "var_db3 = se_db3**2\n",
    "\n",
    "# Combinación lineal L = β_DB3 − 2·β_DB2\n",
    "L_hat = b_db3 - 2*b_db2\n",
    "\n",
    "# Error estándar de L\n",
    "SE_L = np.sqrt(var_db3 + 4*var_db2 - 4*cov_db2_db3)\n",
    "\n",
    "# Estadístico t observado\n",
    "t_obs = L_hat / SE_L\n",
    "\n",
    "print(f\"t_obs = {t_obs:.4f}\")"
   ]
  },
  {
   "cell_type": "code",
   "execution_count": null,
   "id": "65f266a6",
   "metadata": {},
   "outputs": [
    {
     "name": "stdout",
     "output_type": "stream",
     "text": [
      "F = 0.18106, p = 0.670637\n"
     ]
    }
   ],
   "source": [
    "# G)\n",
    "# CORRECTO\n",
    "\n",
    "URSS = 1.26346E+11\n",
    "RRSS = 1.26389E+11\n",
    "q = 1\n",
    "n = 545\n",
    "k = 13\n",
    "\n",
    "F = (RRSS - URSS) / (URSS / (n - k))\n",
    "\n",
    "from scipy.stats import f\n",
    "\n",
    "p_value = f.sf(F, q, n-k)  # cola derecha (siempre se rechaza a derecha)\n",
    "\n",
    "print(f'F = {F:.5f}, p = {p_value:.6f}')"
   ]
  }
 ],
 "metadata": {
  "kernelspec": {
   "display_name": "env-udesa",
   "language": "python",
   "name": "python3"
  },
  "language_info": {
   "codemirror_mode": {
    "name": "ipython",
    "version": 3
   },
   "file_extension": ".py",
   "mimetype": "text/x-python",
   "name": "python",
   "nbconvert_exporter": "python",
   "pygments_lexer": "ipython3",
   "version": "3.13.3"
  }
 },
 "nbformat": 4,
 "nbformat_minor": 5
}
