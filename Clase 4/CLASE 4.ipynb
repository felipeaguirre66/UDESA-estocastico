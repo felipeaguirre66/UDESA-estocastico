{
 "cells": [
  {
   "cell_type": "markdown",
   "metadata": {
    "id": "hSP2df-wyZSj"
   },
   "source": [
    "# Modelado Estocástico\n",
    "## Clase 4 - Análisis detallado de los valores de la Regresión Lineal de statsmodel."
   ]
  },
  {
   "cell_type": "markdown",
   "metadata": {
    "id": "pETN-EDryZSl"
   },
   "source": [
    "Como vimos en clase, para utilizar regresiones lineales podemos importar tanto `statsmodels.api` como `statsmodels.formula.api`.\n",
    "En el Notebook vamos a implementar ambas. Poseen algunas diferencias, la sintaxis de las fórmulas en `statsmodels.api` es matricial, utilizano arrays o DataFrames mientras que en `statsmodel.formula.api` es a través de strings (al estilo de R) y solo con DFs.\n",
    "(Para más información puede consultarse la documentación de statsmodel [https://www.statsmodels.org/stable/api.html])"
   ]
  },
  {
   "cell_type": "code",
   "execution_count": 1,
   "metadata": {
    "id": "FL_PIETDyZSm"
   },
   "outputs": [],
   "source": [
    "import pandas as pd\n",
    "import numpy as np\n",
    "import statsmodels.api as sm\n",
    "import statsmodels.formula.api as smf\n",
    "import matplotlib.pyplot as plt\n",
    "from scipy import stats"
   ]
  },
  {
   "cell_type": "markdown",
   "metadata": {
    "id": "FvemI48myZSm"
   },
   "source": [
    "Carga del archivo `ceo.xlsx` disponible en la carpeta **Bases de Datos** del Campus."
   ]
  },
  {
   "cell_type": "code",
   "execution_count": 2,
   "metadata": {
    "colab": {
     "base_uri": "https://localhost:8080/"
    },
    "executionInfo": {
     "elapsed": 11,
     "status": "ok",
     "timestamp": 1752880125255,
     "user": {
      "displayName": "Daniela Verónica Villani",
      "userId": "00255085889186513064"
     },
     "user_tz": 180
    },
    "id": "9ZuBFXHLyZSn",
    "outputId": "aafef783-99a2-40aa-ff20-7c4292c5c85e"
   },
   "outputs": [
    {
     "name": "stdout",
     "output_type": "stream",
     "text": [
      "   Ganancias  Compensacion_CEO\n",
      "0      357.0               0.7\n",
      "1       48.0               0.7\n",
      "2      932.0               0.8\n",
      "3      366.0               0.7\n",
      "4       83.0               0.8\n"
     ]
    }
   ],
   "source": [
    "df = pd.read_excel('ceo.xlsx')\n",
    "print(df.head())"
   ]
  },
  {
   "cell_type": "markdown",
   "metadata": {
    "id": "cjmpQx03yZSn"
   },
   "source": [
    "- Utilizamos el modelo OLS(_Ordinary Least Squares_) de statsmodel para crear el modelo de regresión lineal. Y analizamos sus valores. Para el primer ejemplo lo vamos a generar utilizando `statsmodel.api` con la sintaxis usual.\n",
    "Incorporamos los interceptos con `add_constant` para agregar la columna de unos a X. Dado que `statsmodel.api` no la estima automáticamente si no se la incluye explícitamente el ajuste resultante puede ser incorrecto."
   ]
  },
  {
   "cell_type": "code",
   "execution_count": 3,
   "metadata": {
    "colab": {
     "base_uri": "https://localhost:8080/",
     "height": 486
    },
    "executionInfo": {
     "elapsed": 65,
     "status": "ok",
     "timestamp": 1752880125345,
     "user": {
      "displayName": "Daniela Verónica Villani",
      "userId": "00255085889186513064"
     },
     "user_tz": 180
    },
    "id": "X38X0lujyZSo",
    "outputId": "f8f33ae8-0865-4ed3-ffae-ae9957c7e0fb"
   },
   "outputs": [
    {
     "data": {
      "text/html": [
       "<table class=\"simpletable\">\n",
       "<caption>OLS Regression Results</caption>\n",
       "<tr>\n",
       "  <th>Dep. Variable:</th>    <td>Compensacion_CEO</td> <th>  R-squared:         </th> <td>   0.434</td>\n",
       "</tr>\n",
       "<tr>\n",
       "  <th>Model:</th>                   <td>OLS</td>       <th>  Adj. R-squared:    </th> <td>   0.426</td>\n",
       "</tr>\n",
       "<tr>\n",
       "  <th>Method:</th>             <td>Least Squares</td>  <th>  F-statistic:       </th> <td>   52.24</td>\n",
       "</tr>\n",
       "<tr>\n",
       "  <th>Date:</th>             <td>Wed, 20 Aug 2025</td> <th>  Prob (F-statistic):</th> <td>5.50e-10</td>\n",
       "</tr>\n",
       "<tr>\n",
       "  <th>Time:</th>                 <td>18:26:46</td>     <th>  Log-Likelihood:    </th> <td> -73.655</td>\n",
       "</tr>\n",
       "<tr>\n",
       "  <th>No. Observations:</th>      <td>    70</td>      <th>  AIC:               </th> <td>   151.3</td>\n",
       "</tr>\n",
       "<tr>\n",
       "  <th>Df Residuals:</th>          <td>    68</td>      <th>  BIC:               </th> <td>   155.8</td>\n",
       "</tr>\n",
       "<tr>\n",
       "  <th>Df Model:</th>              <td>     1</td>      <th>                     </th>     <td> </td>   \n",
       "</tr>\n",
       "<tr>\n",
       "  <th>Covariance Type:</th>      <td>nonrobust</td>    <th>                     </th>     <td> </td>   \n",
       "</tr>\n",
       "</table>\n",
       "<table class=\"simpletable\">\n",
       "<tr>\n",
       "      <td></td>         <th>coef</th>     <th>std err</th>      <th>t</th>      <th>P>|t|</th>  <th>[0.025</th>    <th>0.975]</th>  \n",
       "</tr>\n",
       "<tr>\n",
       "  <th>const</th>     <td>    0.6000</td> <td>    0.112</td> <td>    5.342</td> <td> 0.000</td> <td>    0.376</td> <td>    0.824</td>\n",
       "</tr>\n",
       "<tr>\n",
       "  <th>Ganancias</th> <td>    0.0008</td> <td>    0.000</td> <td>    7.228</td> <td> 0.000</td> <td>    0.001</td> <td>    0.001</td>\n",
       "</tr>\n",
       "</table>\n",
       "<table class=\"simpletable\">\n",
       "<tr>\n",
       "  <th>Omnibus:</th>       <td>21.745</td> <th>  Durbin-Watson:     </th> <td>   2.045</td>\n",
       "</tr>\n",
       "<tr>\n",
       "  <th>Prob(Omnibus):</th> <td> 0.000</td> <th>  Jarque-Bera (JB):  </th> <td>  36.165</td>\n",
       "</tr>\n",
       "<tr>\n",
       "  <th>Skew:</th>          <td> 1.136</td> <th>  Prob(JB):          </th> <td>1.40e-08</td>\n",
       "</tr>\n",
       "<tr>\n",
       "  <th>Kurtosis:</th>      <td> 5.691</td> <th>  Cond. No.          </th> <td>1.29e+03</td>\n",
       "</tr>\n",
       "</table><br/><br/>Notes:<br/>[1] Standard Errors assume that the covariance matrix of the errors is correctly specified.<br/>[2] The condition number is large, 1.29e+03. This might indicate that there are<br/>strong multicollinearity or other numerical problems."
      ],
      "text/latex": [
       "\\begin{center}\n",
       "\\begin{tabular}{lclc}\n",
       "\\toprule\n",
       "\\textbf{Dep. Variable:}    & Compensacion\\_CEO & \\textbf{  R-squared:         } &     0.434   \\\\\n",
       "\\textbf{Model:}            &        OLS        & \\textbf{  Adj. R-squared:    } &     0.426   \\\\\n",
       "\\textbf{Method:}           &   Least Squares   & \\textbf{  F-statistic:       } &     52.24   \\\\\n",
       "\\textbf{Date:}             &  Wed, 20 Aug 2025 & \\textbf{  Prob (F-statistic):} &  5.50e-10   \\\\\n",
       "\\textbf{Time:}             &      18:26:46     & \\textbf{  Log-Likelihood:    } &   -73.655   \\\\\n",
       "\\textbf{No. Observations:} &           70      & \\textbf{  AIC:               } &     151.3   \\\\\n",
       "\\textbf{Df Residuals:}     &           68      & \\textbf{  BIC:               } &     155.8   \\\\\n",
       "\\textbf{Df Model:}         &            1      & \\textbf{                     } &             \\\\\n",
       "\\textbf{Covariance Type:}  &     nonrobust     & \\textbf{                     } &             \\\\\n",
       "\\bottomrule\n",
       "\\end{tabular}\n",
       "\\begin{tabular}{lcccccc}\n",
       "                   & \\textbf{coef} & \\textbf{std err} & \\textbf{t} & \\textbf{P$> |$t$|$} & \\textbf{[0.025} & \\textbf{0.975]}  \\\\\n",
       "\\midrule\n",
       "\\textbf{const}     &       0.6000  &        0.112     &     5.342  &         0.000        &        0.376    &        0.824     \\\\\n",
       "\\textbf{Ganancias} &       0.0008  &        0.000     &     7.228  &         0.000        &        0.001    &        0.001     \\\\\n",
       "\\bottomrule\n",
       "\\end{tabular}\n",
       "\\begin{tabular}{lclc}\n",
       "\\textbf{Omnibus:}       & 21.745 & \\textbf{  Durbin-Watson:     } &    2.045  \\\\\n",
       "\\textbf{Prob(Omnibus):} &  0.000 & \\textbf{  Jarque-Bera (JB):  } &   36.165  \\\\\n",
       "\\textbf{Skew:}          &  1.136 & \\textbf{  Prob(JB):          } & 1.40e-08  \\\\\n",
       "\\textbf{Kurtosis:}      &  5.691 & \\textbf{  Cond. No.          } & 1.29e+03  \\\\\n",
       "\\bottomrule\n",
       "\\end{tabular}\n",
       "%\\caption{OLS Regression Results}\n",
       "\\end{center}\n",
       "\n",
       "Notes: \\newline\n",
       " [1] Standard Errors assume that the covariance matrix of the errors is correctly specified. \\newline\n",
       " [2] The condition number is large, 1.29e+03. This might indicate that there are \\newline\n",
       " strong multicollinearity or other numerical problems."
      ],
      "text/plain": [
       "<class 'statsmodels.iolib.summary.Summary'>\n",
       "\"\"\"\n",
       "                            OLS Regression Results                            \n",
       "==============================================================================\n",
       "Dep. Variable:       Compensacion_CEO   R-squared:                       0.434\n",
       "Model:                            OLS   Adj. R-squared:                  0.426\n",
       "Method:                 Least Squares   F-statistic:                     52.24\n",
       "Date:                Wed, 20 Aug 2025   Prob (F-statistic):           5.50e-10\n",
       "Time:                        18:26:46   Log-Likelihood:                -73.655\n",
       "No. Observations:                  70   AIC:                             151.3\n",
       "Df Residuals:                      68   BIC:                             155.8\n",
       "Df Model:                           1                                         \n",
       "Covariance Type:            nonrobust                                         \n",
       "==============================================================================\n",
       "                 coef    std err          t      P>|t|      [0.025      0.975]\n",
       "------------------------------------------------------------------------------\n",
       "const          0.6000      0.112      5.342      0.000       0.376       0.824\n",
       "Ganancias      0.0008      0.000      7.228      0.000       0.001       0.001\n",
       "==============================================================================\n",
       "Omnibus:                       21.745   Durbin-Watson:                   2.045\n",
       "Prob(Omnibus):                  0.000   Jarque-Bera (JB):               36.165\n",
       "Skew:                           1.136   Prob(JB):                     1.40e-08\n",
       "Kurtosis:                       5.691   Cond. No.                     1.29e+03\n",
       "==============================================================================\n",
       "\n",
       "Notes:\n",
       "[1] Standard Errors assume that the covariance matrix of the errors is correctly specified.\n",
       "[2] The condition number is large, 1.29e+03. This might indicate that there are\n",
       "strong multicollinearity or other numerical problems.\n",
       "\"\"\""
      ]
     },
     "execution_count": 3,
     "metadata": {},
     "output_type": "execute_result"
    }
   ],
   "source": [
    "X = sm.add_constant(df[\"Ganancias\"])\n",
    "y = df[\"Compensacion_CEO\"]\n",
    "modelo1 = sm.OLS(y, X).fit()\n",
    "\n",
    "modelo1.summary()"
   ]
  },
  {
   "cell_type": "markdown",
   "metadata": {
    "id": "a-Fv1Dz-yZSo"
   },
   "source": [
    "- En `statsmodels.formula.api` los datos para correr el modelo se indican con la sintaxis `'Columna_y ~ Columna_X'`, y no es necesario agregar el intercepto de forma explícita."
   ]
  },
  {
   "cell_type": "code",
   "execution_count": 4,
   "metadata": {
    "colab": {
     "base_uri": "https://localhost:8080/",
     "height": 486
    },
    "executionInfo": {
     "elapsed": 36,
     "status": "ok",
     "timestamp": 1752880125407,
     "user": {
      "displayName": "Daniela Verónica Villani",
      "userId": "00255085889186513064"
     },
     "user_tz": 180
    },
    "id": "_1i5iqUxyZSp",
    "outputId": "5d7cbd08-8524-4163-f1e7-b1e6f1963206"
   },
   "outputs": [
    {
     "data": {
      "text/html": [
       "<table class=\"simpletable\">\n",
       "<caption>OLS Regression Results</caption>\n",
       "<tr>\n",
       "  <th>Dep. Variable:</th>    <td>Compensacion_CEO</td> <th>  R-squared:         </th> <td>   0.434</td>\n",
       "</tr>\n",
       "<tr>\n",
       "  <th>Model:</th>                   <td>OLS</td>       <th>  Adj. R-squared:    </th> <td>   0.426</td>\n",
       "</tr>\n",
       "<tr>\n",
       "  <th>Method:</th>             <td>Least Squares</td>  <th>  F-statistic:       </th> <td>   52.24</td>\n",
       "</tr>\n",
       "<tr>\n",
       "  <th>Date:</th>             <td>Wed, 20 Aug 2025</td> <th>  Prob (F-statistic):</th> <td>5.50e-10</td>\n",
       "</tr>\n",
       "<tr>\n",
       "  <th>Time:</th>                 <td>18:26:46</td>     <th>  Log-Likelihood:    </th> <td> -73.655</td>\n",
       "</tr>\n",
       "<tr>\n",
       "  <th>No. Observations:</th>      <td>    70</td>      <th>  AIC:               </th> <td>   151.3</td>\n",
       "</tr>\n",
       "<tr>\n",
       "  <th>Df Residuals:</th>          <td>    68</td>      <th>  BIC:               </th> <td>   155.8</td>\n",
       "</tr>\n",
       "<tr>\n",
       "  <th>Df Model:</th>              <td>     1</td>      <th>                     </th>     <td> </td>   \n",
       "</tr>\n",
       "<tr>\n",
       "  <th>Covariance Type:</th>      <td>nonrobust</td>    <th>                     </th>     <td> </td>   \n",
       "</tr>\n",
       "</table>\n",
       "<table class=\"simpletable\">\n",
       "<tr>\n",
       "      <td></td>         <th>coef</th>     <th>std err</th>      <th>t</th>      <th>P>|t|</th>  <th>[0.025</th>    <th>0.975]</th>  \n",
       "</tr>\n",
       "<tr>\n",
       "  <th>Intercept</th> <td>    0.6000</td> <td>    0.112</td> <td>    5.342</td> <td> 0.000</td> <td>    0.376</td> <td>    0.824</td>\n",
       "</tr>\n",
       "<tr>\n",
       "  <th>Ganancias</th> <td>    0.0008</td> <td>    0.000</td> <td>    7.228</td> <td> 0.000</td> <td>    0.001</td> <td>    0.001</td>\n",
       "</tr>\n",
       "</table>\n",
       "<table class=\"simpletable\">\n",
       "<tr>\n",
       "  <th>Omnibus:</th>       <td>21.745</td> <th>  Durbin-Watson:     </th> <td>   2.045</td>\n",
       "</tr>\n",
       "<tr>\n",
       "  <th>Prob(Omnibus):</th> <td> 0.000</td> <th>  Jarque-Bera (JB):  </th> <td>  36.165</td>\n",
       "</tr>\n",
       "<tr>\n",
       "  <th>Skew:</th>          <td> 1.136</td> <th>  Prob(JB):          </th> <td>1.40e-08</td>\n",
       "</tr>\n",
       "<tr>\n",
       "  <th>Kurtosis:</th>      <td> 5.691</td> <th>  Cond. No.          </th> <td>1.29e+03</td>\n",
       "</tr>\n",
       "</table><br/><br/>Notes:<br/>[1] Standard Errors assume that the covariance matrix of the errors is correctly specified.<br/>[2] The condition number is large, 1.29e+03. This might indicate that there are<br/>strong multicollinearity or other numerical problems."
      ],
      "text/latex": [
       "\\begin{center}\n",
       "\\begin{tabular}{lclc}\n",
       "\\toprule\n",
       "\\textbf{Dep. Variable:}    & Compensacion\\_CEO & \\textbf{  R-squared:         } &     0.434   \\\\\n",
       "\\textbf{Model:}            &        OLS        & \\textbf{  Adj. R-squared:    } &     0.426   \\\\\n",
       "\\textbf{Method:}           &   Least Squares   & \\textbf{  F-statistic:       } &     52.24   \\\\\n",
       "\\textbf{Date:}             &  Wed, 20 Aug 2025 & \\textbf{  Prob (F-statistic):} &  5.50e-10   \\\\\n",
       "\\textbf{Time:}             &      18:26:46     & \\textbf{  Log-Likelihood:    } &   -73.655   \\\\\n",
       "\\textbf{No. Observations:} &           70      & \\textbf{  AIC:               } &     151.3   \\\\\n",
       "\\textbf{Df Residuals:}     &           68      & \\textbf{  BIC:               } &     155.8   \\\\\n",
       "\\textbf{Df Model:}         &            1      & \\textbf{                     } &             \\\\\n",
       "\\textbf{Covariance Type:}  &     nonrobust     & \\textbf{                     } &             \\\\\n",
       "\\bottomrule\n",
       "\\end{tabular}\n",
       "\\begin{tabular}{lcccccc}\n",
       "                   & \\textbf{coef} & \\textbf{std err} & \\textbf{t} & \\textbf{P$> |$t$|$} & \\textbf{[0.025} & \\textbf{0.975]}  \\\\\n",
       "\\midrule\n",
       "\\textbf{Intercept} &       0.6000  &        0.112     &     5.342  &         0.000        &        0.376    &        0.824     \\\\\n",
       "\\textbf{Ganancias} &       0.0008  &        0.000     &     7.228  &         0.000        &        0.001    &        0.001     \\\\\n",
       "\\bottomrule\n",
       "\\end{tabular}\n",
       "\\begin{tabular}{lclc}\n",
       "\\textbf{Omnibus:}       & 21.745 & \\textbf{  Durbin-Watson:     } &    2.045  \\\\\n",
       "\\textbf{Prob(Omnibus):} &  0.000 & \\textbf{  Jarque-Bera (JB):  } &   36.165  \\\\\n",
       "\\textbf{Skew:}          &  1.136 & \\textbf{  Prob(JB):          } & 1.40e-08  \\\\\n",
       "\\textbf{Kurtosis:}      &  5.691 & \\textbf{  Cond. No.          } & 1.29e+03  \\\\\n",
       "\\bottomrule\n",
       "\\end{tabular}\n",
       "%\\caption{OLS Regression Results}\n",
       "\\end{center}\n",
       "\n",
       "Notes: \\newline\n",
       " [1] Standard Errors assume that the covariance matrix of the errors is correctly specified. \\newline\n",
       " [2] The condition number is large, 1.29e+03. This might indicate that there are \\newline\n",
       " strong multicollinearity or other numerical problems."
      ],
      "text/plain": [
       "<class 'statsmodels.iolib.summary.Summary'>\n",
       "\"\"\"\n",
       "                            OLS Regression Results                            \n",
       "==============================================================================\n",
       "Dep. Variable:       Compensacion_CEO   R-squared:                       0.434\n",
       "Model:                            OLS   Adj. R-squared:                  0.426\n",
       "Method:                 Least Squares   F-statistic:                     52.24\n",
       "Date:                Wed, 20 Aug 2025   Prob (F-statistic):           5.50e-10\n",
       "Time:                        18:26:46   Log-Likelihood:                -73.655\n",
       "No. Observations:                  70   AIC:                             151.3\n",
       "Df Residuals:                      68   BIC:                             155.8\n",
       "Df Model:                           1                                         \n",
       "Covariance Type:            nonrobust                                         \n",
       "==============================================================================\n",
       "                 coef    std err          t      P>|t|      [0.025      0.975]\n",
       "------------------------------------------------------------------------------\n",
       "Intercept      0.6000      0.112      5.342      0.000       0.376       0.824\n",
       "Ganancias      0.0008      0.000      7.228      0.000       0.001       0.001\n",
       "==============================================================================\n",
       "Omnibus:                       21.745   Durbin-Watson:                   2.045\n",
       "Prob(Omnibus):                  0.000   Jarque-Bera (JB):               36.165\n",
       "Skew:                           1.136   Prob(JB):                     1.40e-08\n",
       "Kurtosis:                       5.691   Cond. No.                     1.29e+03\n",
       "==============================================================================\n",
       "\n",
       "Notes:\n",
       "[1] Standard Errors assume that the covariance matrix of the errors is correctly specified.\n",
       "[2] The condition number is large, 1.29e+03. This might indicate that there are\n",
       "strong multicollinearity or other numerical problems.\n",
       "\"\"\""
      ]
     },
     "execution_count": 4,
     "metadata": {},
     "output_type": "execute_result"
    }
   ],
   "source": [
    "model = smf.ols('Compensacion_CEO ~ Ganancias', data = df)   # con constante por defecto\n",
    "regresion = model.fit()\n",
    "regresion.summary()"
   ]
  },
  {
   "cell_type": "markdown",
   "metadata": {
    "id": "v93VGLejyZSp"
   },
   "source": [
    "Obviamente, obtuvimos los mismos resultados. De hecho, si observamos las clases de los modelos generados vamos a ver que son las mismas, pudiendo utilizarlos con los mismos métodos más allá de cómo fueron generados."
   ]
  },
  {
   "cell_type": "code",
   "execution_count": 5,
   "metadata": {
    "colab": {
     "base_uri": "https://localhost:8080/",
     "height": 139
    },
    "executionInfo": {
     "elapsed": 34,
     "status": "ok",
     "timestamp": 1752880125443,
     "user": {
      "displayName": "Daniela Verónica Villani",
      "userId": "00255085889186513064"
     },
     "user_tz": 180
    },
    "id": "5aqGKBDRyZSp",
    "outputId": "799d61e2-771b-4ed9-9463-b78c15d6d36b"
   },
   "outputs": [
    {
     "data": {
      "text/plain": [
       "statsmodels.regression.linear_model.RegressionResultsWrapper"
      ]
     },
     "execution_count": 5,
     "metadata": {},
     "output_type": "execute_result"
    }
   ],
   "source": [
    "type(modelo1)"
   ]
  },
  {
   "cell_type": "code",
   "execution_count": 6,
   "metadata": {
    "colab": {
     "base_uri": "https://localhost:8080/",
     "height": 139
    },
    "executionInfo": {
     "elapsed": 95,
     "status": "ok",
     "timestamp": 1752880125540,
     "user": {
      "displayName": "Daniela Verónica Villani",
      "userId": "00255085889186513064"
     },
     "user_tz": 180
    },
    "id": "Lgc0DKYgyZSp",
    "outputId": "cea7ac12-ae5a-43ac-f2d8-b535ade1863b"
   },
   "outputs": [
    {
     "data": {
      "text/plain": [
       "statsmodels.regression.linear_model.RegressionResultsWrapper"
      ]
     },
     "execution_count": 6,
     "metadata": {},
     "output_type": "execute_result"
    }
   ],
   "source": [
    "type(regresion)"
   ]
  },
  {
   "cell_type": "markdown",
   "metadata": {
    "id": "EZ5Vpa8tyZSp"
   },
   "source": [
    "### Los estimadores de la regresión están guardados en la Serie `regresion.params`"
   ]
  },
  {
   "cell_type": "code",
   "execution_count": 7,
   "metadata": {
    "colab": {
     "base_uri": "https://localhost:8080/",
     "height": 147
    },
    "executionInfo": {
     "elapsed": 4,
     "status": "ok",
     "timestamp": 1752880125546,
     "user": {
      "displayName": "Daniela Verónica Villani",
      "userId": "00255085889186513064"
     },
     "user_tz": 180
    },
    "id": "a_ZjXr5jyZSq",
    "outputId": "881ef6c3-8e45-4e86-cd2a-6a05043842b0"
   },
   "outputs": [
    {
     "data": {
      "text/plain": [
       "Intercept    0.599965\n",
       "Ganancias    0.000842\n",
       "dtype: float64"
      ]
     },
     "execution_count": 7,
     "metadata": {},
     "output_type": "execute_result"
    }
   ],
   "source": [
    "regresion.params"
   ]
  },
  {
   "cell_type": "markdown",
   "metadata": {
    "id": "Xz0qB75LyZSq"
   },
   "source": [
    "El intercepto (u ordenada al origen) podrá observarse en `regresion.params['Intercept']` y la pendiente en el parámetro con el nombre de la columna con los datos ingresados en X, en este caso, `Ganancias`."
   ]
  },
  {
   "cell_type": "code",
   "execution_count": 8,
   "metadata": {
    "colab": {
     "base_uri": "https://localhost:8080/"
    },
    "executionInfo": {
     "elapsed": 10,
     "status": "ok",
     "timestamp": 1752880125557,
     "user": {
      "displayName": "Daniela Verónica Villani",
      "userId": "00255085889186513064"
     },
     "user_tz": 180
    },
    "id": "_7MldiVhyZSq",
    "outputId": "6fe94bf5-3332-43a2-b68b-e127d0c76354"
   },
   "outputs": [
    {
     "name": "stdout",
     "output_type": "stream",
     "text": [
      "Intercepto: 0.5999648988232877 \n",
      "Pendiente: 0.000842326848488007\n"
     ]
    }
   ],
   "source": [
    "print(f\"Intercepto: {regresion.params['Intercept']} \\nPendiente: {regresion.params['Ganancias']}\")"
   ]
  },
  {
   "cell_type": "markdown",
   "metadata": {
    "id": "FFZ8kYPpyZSq"
   },
   "source": [
    "### Descomposición de la suma de cuadrados\n",
    "$\n",
    "\\text{RSS} = \\text{TSS} - \\text{ESS}\n",
    "$\n",
    "\n",
    "$\n",
    "\\sum_{i=1}^{n} e_i^2 = \\sum_{i=1}^{n}(y_i - \\bar{y})^2 - \\hat{\\beta}^2 \\sum_{i=1}^{n}(x_i - \\bar{x})^2\n",
    "$\n",
    "\n",
    "donde:\n",
    "\n",
    "- $\\text{RSS}$ = Residual Sum of Squares\n",
    "- $\\text{TSS}$ = Total Sum of Squares\n",
    "- $\\text{ESS}$ = Explained Sum of Squares\n"
   ]
  },
  {
   "cell_type": "code",
   "execution_count": 9,
   "metadata": {
    "colab": {
     "base_uri": "https://localhost:8080/"
    },
    "executionInfo": {
     "elapsed": 6,
     "status": "ok",
     "timestamp": 1752880125565,
     "user": {
      "displayName": "Daniela Verónica Villani",
      "userId": "00255085889186513064"
     },
     "user_tz": 180
    },
    "id": "xeur6ZO5yZSq",
    "outputId": "bbf41465-f33b-4006-f910-e607ff09ad1b"
   },
   "outputs": [
    {
     "name": "stdout",
     "output_type": "stream",
     "text": [
      "TSS: 59.44585714285713 \n",
      "ESS: 25.827970055716044 \n",
      "RSS: 33.617887087141085\n"
     ]
    }
   ],
   "source": [
    "tss = regresion.centered_tss\n",
    "ess = regresion.ess\n",
    "rss = regresion.ssr\n",
    "print(f\"TSS: {tss} \\nESS: {ess} \\nRSS: {rss}\")"
   ]
  },
  {
   "cell_type": "markdown",
   "metadata": {
    "id": "A8fvNXOeyZSr"
   },
   "source": [
    "Podemos validar que la diferencia entre TSS y ESS sea efectivamente la RSS obtenida:"
   ]
  },
  {
   "cell_type": "code",
   "execution_count": 10,
   "metadata": {
    "colab": {
     "base_uri": "https://localhost:8080/"
    },
    "executionInfo": {
     "elapsed": 7,
     "status": "ok",
     "timestamp": 1752880125573,
     "user": {
      "displayName": "Daniela Verónica Villani",
      "userId": "00255085889186513064"
     },
     "user_tz": 180
    },
    "id": "ueABtwsUyZSr",
    "outputId": "ff209bde-5bfa-49e2-bda3-3628902a2d4e"
   },
   "outputs": [
    {
     "data": {
      "text/plain": [
       "np.float64(33.617887087141085)"
      ]
     },
     "execution_count": 10,
     "metadata": {},
     "output_type": "execute_result"
    }
   ],
   "source": [
    "tss-ess"
   ]
  },
  {
   "cell_type": "markdown",
   "metadata": {
    "id": "bJ102NvkyZSr"
   },
   "source": [
    "### $R^2$\n",
    "A continuación vamos a ver cómo obtener el $R^2$ (R cuadrado) de diferentes formas:\n",
    "\n",
    "El que guarda el modelo:"
   ]
  },
  {
   "cell_type": "code",
   "execution_count": 11,
   "metadata": {
    "colab": {
     "base_uri": "https://localhost:8080/"
    },
    "executionInfo": {
     "elapsed": 6,
     "status": "ok",
     "timestamp": 1752880125580,
     "user": {
      "displayName": "Daniela Verónica Villani",
      "userId": "00255085889186513064"
     },
     "user_tz": 180
    },
    "id": "ga5zDaH5yZSr",
    "outputId": "ade1e7cf-bf97-4798-8afe-f7e2eb89eaec"
   },
   "outputs": [
    {
     "data": {
      "text/plain": [
       "np.float64(0.4344788904910166)"
      ]
     },
     "execution_count": 11,
     "metadata": {},
     "output_type": "execute_result"
    }
   ],
   "source": [
    "regresion.rsquared"
   ]
  },
  {
   "cell_type": "markdown",
   "metadata": {
    "id": "kvwZUh9-yZSr"
   },
   "source": [
    "Por definición:"
   ]
  },
  {
   "cell_type": "code",
   "execution_count": 12,
   "metadata": {
    "colab": {
     "base_uri": "https://localhost:8080/"
    },
    "executionInfo": {
     "elapsed": 7,
     "status": "ok",
     "timestamp": 1752880125588,
     "user": {
      "displayName": "Daniela Verónica Villani",
      "userId": "00255085889186513064"
     },
     "user_tz": 180
    },
    "id": "Qk6wc77PyZSr",
    "outputId": "7dbcb22a-a443-4917-de54-4795b45ba7a5"
   },
   "outputs": [
    {
     "data": {
      "text/plain": [
       "np.float64(0.4344788904910167)"
      ]
     },
     "execution_count": 12,
     "metadata": {},
     "output_type": "execute_result"
    }
   ],
   "source": [
    "ess/tss"
   ]
  },
  {
   "cell_type": "markdown",
   "metadata": {
    "id": "AI3UvpsNyZSr"
   },
   "source": [
    "Utilizando  $ESS = TSS - RSS$"
   ]
  },
  {
   "cell_type": "code",
   "execution_count": 13,
   "metadata": {
    "colab": {
     "base_uri": "https://localhost:8080/"
    },
    "executionInfo": {
     "elapsed": 6,
     "status": "ok",
     "timestamp": 1752880125595,
     "user": {
      "displayName": "Daniela Verónica Villani",
      "userId": "00255085889186513064"
     },
     "user_tz": 180
    },
    "id": "S2pb3X_XyZSr",
    "outputId": "38b39836-1358-4bc2-967e-2ec98aecb21a"
   },
   "outputs": [
    {
     "data": {
      "text/plain": [
       "np.float64(0.4344788904910166)"
      ]
     },
     "execution_count": 13,
     "metadata": {},
     "output_type": "execute_result"
    }
   ],
   "source": [
    "1 - rss / tss"
   ]
  },
  {
   "cell_type": "markdown",
   "metadata": {
    "id": "Ps6vJVpTyZSr"
   },
   "source": [
    "Utilizando la correlación real entre `y` y `y_hat`\n",
    "\n",
    "Recordemos que $\\hat{y}$  (`y_hat`) es el valor predicho de $y$. Podemos utilizar `.fittedvalues` para obtenerlo"
   ]
  },
  {
   "cell_type": "code",
   "execution_count": 14,
   "metadata": {
    "colab": {
     "base_uri": "https://localhost:8080/",
     "height": 241
    },
    "executionInfo": {
     "elapsed": 50,
     "status": "ok",
     "timestamp": 1752880125646,
     "user": {
      "displayName": "Daniela Verónica Villani",
      "userId": "00255085889186513064"
     },
     "user_tz": 180
    },
    "id": "0oFjUAtayZSr",
    "outputId": "a66daa60-b601-4ada-c44c-acd395732c53"
   },
   "outputs": [
    {
     "data": {
      "text/plain": [
       "0    0.900676\n",
       "1    0.640397\n",
       "2    1.385014\n",
       "3    0.908257\n",
       "4    0.669878\n",
       "dtype: float64"
      ]
     },
     "execution_count": 14,
     "metadata": {},
     "output_type": "execute_result"
    }
   ],
   "source": [
    "y_hat = regresion.fittedvalues\n",
    "y_hat.head()"
   ]
  },
  {
   "cell_type": "markdown",
   "metadata": {
    "id": "moLD09kByZSs"
   },
   "source": [
    "Cuadrado de la correlación real entre `y` y `y_hat`:"
   ]
  },
  {
   "cell_type": "code",
   "execution_count": 15,
   "metadata": {
    "colab": {
     "base_uri": "https://localhost:8080/"
    },
    "executionInfo": {
     "elapsed": 19,
     "status": "ok",
     "timestamp": 1752880125647,
     "user": {
      "displayName": "Daniela Verónica Villani",
      "userId": "00255085889186513064"
     },
     "user_tz": 180
    },
    "id": "-LpQpHfiyZSs",
    "outputId": "5a9566f4-b222-4f7b-9ee4-9ebdc76587d5"
   },
   "outputs": [
    {
     "data": {
      "text/plain": [
       "np.float64(0.43447889049101673)"
      ]
     },
     "execution_count": 15,
     "metadata": {},
     "output_type": "execute_result"
    }
   ],
   "source": [
    "correlacion = np.corrcoef(y, y_hat)[0, 1]\n",
    "correlacion ** 2"
   ]
  },
  {
   "cell_type": "markdown",
   "metadata": {
    "id": "oCycPIWayZSs"
   },
   "source": [
    "### Estimador $s^2$ del parámetro $\\sigma^2$"
   ]
  },
  {
   "cell_type": "code",
   "execution_count": 16,
   "metadata": {
    "colab": {
     "base_uri": "https://localhost:8080/"
    },
    "executionInfo": {
     "elapsed": 32,
     "status": "ok",
     "timestamp": 1752880125670,
     "user": {
      "displayName": "Daniela Verónica Villani",
      "userId": "00255085889186513064"
     },
     "user_tz": 180
    },
    "id": "AlWMEeVAyZSs",
    "outputId": "124555cf-b4f1-4a74-beb3-8dcf8a166702"
   },
   "outputs": [
    {
     "data": {
      "text/plain": [
       "np.float64(0.4943806924579571)"
      ]
     },
     "execution_count": 16,
     "metadata": {},
     "output_type": "execute_result"
    }
   ],
   "source": [
    "regresion.scale"
   ]
  },
  {
   "cell_type": "markdown",
   "metadata": {
    "id": "P5zN2DhYyZSs"
   },
   "source": [
    "Calculado como   $s^2 = RSS / (n - k)$:"
   ]
  },
  {
   "cell_type": "code",
   "execution_count": 17,
   "metadata": {
    "colab": {
     "base_uri": "https://localhost:8080/"
    },
    "executionInfo": {
     "elapsed": 23,
     "status": "ok",
     "timestamp": 1752880125672,
     "user": {
      "displayName": "Daniela Verónica Villani",
      "userId": "00255085889186513064"
     },
     "user_tz": 180
    },
    "id": "hhNvY8c0yZSs",
    "outputId": "cb716d13-7a68-472c-b46b-389d031b8f62"
   },
   "outputs": [
    {
     "data": {
      "text/plain": [
       "np.float64(0.4943806924579571)"
      ]
     },
     "execution_count": 17,
     "metadata": {},
     "output_type": "execute_result"
    }
   ],
   "source": [
    "rss/regresion.df_resid"
   ]
  },
  {
   "cell_type": "markdown",
   "metadata": {
    "id": "rrtrRqsFyZSs"
   },
   "source": [
    "Cuya raíz cuadrada es el desvío estándar $\\sigma$:\n"
   ]
  },
  {
   "cell_type": "code",
   "execution_count": 18,
   "metadata": {
    "colab": {
     "base_uri": "https://localhost:8080/"
    },
    "executionInfo": {
     "elapsed": 12,
     "status": "ok",
     "timestamp": 1752880125673,
     "user": {
      "displayName": "Daniela Verónica Villani",
      "userId": "00255085889186513064"
     },
     "user_tz": 180
    },
    "id": "Q_oVAnKNyZSs",
    "outputId": "05ea34f7-5e6e-44f6-9aab-e05600aea847"
   },
   "outputs": [
    {
     "data": {
      "text/plain": [
       "np.float64(0.7031221035196925)"
      ]
     },
     "execution_count": 18,
     "metadata": {},
     "output_type": "execute_result"
    }
   ],
   "source": [
    "np.sqrt(regresion.scale)"
   ]
  },
  {
   "cell_type": "markdown",
   "metadata": {
    "id": "FaDHI_FZyZSs"
   },
   "source": [
    "### Residuos"
   ]
  },
  {
   "cell_type": "code",
   "execution_count": 19,
   "metadata": {
    "colab": {
     "base_uri": "https://localhost:8080/",
     "height": 458
    },
    "executionInfo": {
     "elapsed": 3,
     "status": "ok",
     "timestamp": 1752880125675,
     "user": {
      "displayName": "Daniela Verónica Villani",
      "userId": "00255085889186513064"
     },
     "user_tz": 180
    },
    "id": "8KEc-CTuyZSs",
    "outputId": "e64d43b8-373f-42c6-9a62-352040c23f3f"
   },
   "outputs": [
    {
     "data": {
      "text/plain": [
       "0    -0.200676\n",
       "1     0.059603\n",
       "2    -0.585014\n",
       "3    -0.208257\n",
       "4     0.130122\n",
       "        ...   \n",
       "65   -0.275406\n",
       "66    0.755523\n",
       "67    1.701483\n",
       "68   -0.350741\n",
       "69    0.402931\n",
       "Length: 70, dtype: float64"
      ]
     },
     "execution_count": 19,
     "metadata": {},
     "output_type": "execute_result"
    }
   ],
   "source": [
    "regresion.resid"
   ]
  },
  {
   "cell_type": "markdown",
   "metadata": {
    "id": "RrkTgClhyZSw"
   },
   "source": [
    "O, manualmente:"
   ]
  },
  {
   "cell_type": "code",
   "execution_count": 20,
   "metadata": {
    "colab": {
     "base_uri": "https://localhost:8080/",
     "height": 458
    },
    "executionInfo": {
     "elapsed": 3,
     "status": "ok",
     "timestamp": 1752880125679,
     "user": {
      "displayName": "Daniela Verónica Villani",
      "userId": "00255085889186513064"
     },
     "user_tz": 180
    },
    "id": "ep7EQD00yZSw",
    "outputId": "0a194e60-240e-44a2-fb44-6619daabcd04"
   },
   "outputs": [
    {
     "data": {
      "text/plain": [
       "0    -0.200676\n",
       "1     0.059603\n",
       "2    -0.585014\n",
       "3    -0.208257\n",
       "4     0.130122\n",
       "        ...   \n",
       "65   -0.275406\n",
       "66    0.755523\n",
       "67    1.701483\n",
       "68   -0.350741\n",
       "69    0.402931\n",
       "Length: 70, dtype: float64"
      ]
     },
     "execution_count": 20,
     "metadata": {},
     "output_type": "execute_result"
    }
   ],
   "source": [
    "y - y_hat"
   ]
  },
  {
   "cell_type": "markdown",
   "metadata": {
    "id": "yzy5sRxjyZSw"
   },
   "source": [
    "### Verificamos que se cumplen las CPO del problema de MCO (OLS):\n",
    "\n",
    "CPO: los residuos 𝑢 = 𝑦 − 𝑋𝛽^ son ortogonales (no correlacionados) con cada regresor en 𝑋\n",
    "\n",
    "Condiciones segundo orden (CSO): involucra la segunda derivada de la función objetivo (la suma de cuadrados de los residuos), para asegurarse de que el punto encontrado es un mínimo y no un máximo o un punto de inflexión.\n",
    "\n",
    "a. La suma de los residuos es cero (y consecuentemente, tambien su media):"
   ]
  },
  {
   "cell_type": "code",
   "execution_count": 21,
   "metadata": {
    "colab": {
     "base_uri": "https://localhost:8080/"
    },
    "executionInfo": {
     "elapsed": 52,
     "status": "ok",
     "timestamp": 1752880125732,
     "user": {
      "displayName": "Daniela Verónica Villani",
      "userId": "00255085889186513064"
     },
     "user_tz": 180
    },
    "id": "hAJg2uAjyZSx",
    "outputId": "5bfa4da8-a669-4fdb-db3b-c545aa6d9845"
   },
   "outputs": [
    {
     "data": {
      "text/plain": [
       "np.float64(-1.7763568394002505e-15)"
      ]
     },
     "execution_count": 21,
     "metadata": {},
     "output_type": "execute_result"
    }
   ],
   "source": [
    "regresion.resid.sum()"
   ]
  },
  {
   "cell_type": "code",
   "execution_count": 22,
   "metadata": {
    "colab": {
     "base_uri": "https://localhost:8080/"
    },
    "executionInfo": {
     "elapsed": 7,
     "status": "ok",
     "timestamp": 1752880125740,
     "user": {
      "displayName": "Daniela Verónica Villani",
      "userId": "00255085889186513064"
     },
     "user_tz": 180
    },
    "id": "Yla092cQyZSx",
    "outputId": "45cf786b-41e4-485c-ff61-f0ce72141ce0"
   },
   "outputs": [
    {
     "data": {
      "text/plain": [
       "np.float64(-2.5376526277146434e-17)"
      ]
     },
     "execution_count": 22,
     "metadata": {},
     "output_type": "execute_result"
    }
   ],
   "source": [
    "regresion.resid.mean()"
   ]
  },
  {
   "cell_type": "markdown",
   "metadata": {
    "id": "TXTPfJy3yZSx"
   },
   "source": [
    "b. Los residuos no estan correlacionados con X ('Ganancias').\n",
    "\n",
    "  Obtengo nombres, valores y armo el DF dfX, incluyendo los residuos."
   ]
  },
  {
   "cell_type": "code",
   "execution_count": 23,
   "metadata": {
    "colab": {
     "base_uri": "https://localhost:8080/"
    },
    "executionInfo": {
     "elapsed": 6,
     "status": "ok",
     "timestamp": 1752880125747,
     "user": {
      "displayName": "Daniela Verónica Villani",
      "userId": "00255085889186513064"
     },
     "user_tz": 180
    },
    "id": "YEBetWgsyZSx",
    "outputId": "1ff8c183-eb5e-4c71-a4ab-b865c654dfba"
   },
   "outputs": [
    {
     "data": {
      "text/plain": [
       "['Intercept', 'Ganancias']"
      ]
     },
     "execution_count": 23,
     "metadata": {},
     "output_type": "execute_result"
    }
   ],
   "source": [
    "col_names = regresion.model.exog_names\n",
    "col_names"
   ]
  },
  {
   "cell_type": "code",
   "execution_count": 24,
   "metadata": {
    "colab": {
     "base_uri": "https://localhost:8080/"
    },
    "executionInfo": {
     "elapsed": 6,
     "status": "ok",
     "timestamp": 1752880125754,
     "user": {
      "displayName": "Daniela Verónica Villani",
      "userId": "00255085889186513064"
     },
     "user_tz": 180
    },
    "id": "ong3Mfe5yZSx",
    "outputId": "1f2e380f-e895-4fde-a325-816ccec8b579"
   },
   "outputs": [
    {
     "data": {
      "text/plain": [
       "array([[  1., 357.],\n",
       "       [  1.,  48.],\n",
       "       [  1., 932.],\n",
       "       [  1., 366.],\n",
       "       [  1.,  83.],\n",
       "       [  1.,  22.],\n",
       "       [  1.,  67.],\n",
       "       [  1., 413.],\n",
       "       [  1., 496.],\n",
       "       [  1., 458.]])"
      ]
     },
     "execution_count": 24,
     "metadata": {},
     "output_type": "execute_result"
    }
   ],
   "source": [
    "values = regresion.model.exog\n",
    "values[:10]"
   ]
  },
  {
   "cell_type": "code",
   "execution_count": 25,
   "metadata": {
    "colab": {
     "base_uri": "https://localhost:8080/",
     "height": 424
    },
    "executionInfo": {
     "elapsed": 4,
     "status": "ok",
     "timestamp": 1752880125759,
     "user": {
      "displayName": "Daniela Verónica Villani",
      "userId": "00255085889186513064"
     },
     "user_tz": 180
    },
    "id": "HAQ-NgDSyZSx",
    "outputId": "6e31f15f-3a83-42bf-c493-e8a165f1527b"
   },
   "outputs": [
    {
     "data": {
      "text/html": [
       "<div>\n",
       "<style scoped>\n",
       "    .dataframe tbody tr th:only-of-type {\n",
       "        vertical-align: middle;\n",
       "    }\n",
       "\n",
       "    .dataframe tbody tr th {\n",
       "        vertical-align: top;\n",
       "    }\n",
       "\n",
       "    .dataframe thead th {\n",
       "        text-align: right;\n",
       "    }\n",
       "</style>\n",
       "<table border=\"1\" class=\"dataframe\">\n",
       "  <thead>\n",
       "    <tr style=\"text-align: right;\">\n",
       "      <th></th>\n",
       "      <th>Intercept</th>\n",
       "      <th>Ganancias</th>\n",
       "      <th>res</th>\n",
       "    </tr>\n",
       "  </thead>\n",
       "  <tbody>\n",
       "    <tr>\n",
       "      <th>0</th>\n",
       "      <td>1.0</td>\n",
       "      <td>357.0</td>\n",
       "      <td>-0.200676</td>\n",
       "    </tr>\n",
       "    <tr>\n",
       "      <th>1</th>\n",
       "      <td>1.0</td>\n",
       "      <td>48.0</td>\n",
       "      <td>0.059603</td>\n",
       "    </tr>\n",
       "    <tr>\n",
       "      <th>2</th>\n",
       "      <td>1.0</td>\n",
       "      <td>932.0</td>\n",
       "      <td>-0.585014</td>\n",
       "    </tr>\n",
       "    <tr>\n",
       "      <th>3</th>\n",
       "      <td>1.0</td>\n",
       "      <td>366.0</td>\n",
       "      <td>-0.208257</td>\n",
       "    </tr>\n",
       "    <tr>\n",
       "      <th>4</th>\n",
       "      <td>1.0</td>\n",
       "      <td>83.0</td>\n",
       "      <td>0.130122</td>\n",
       "    </tr>\n",
       "    <tr>\n",
       "      <th>...</th>\n",
       "      <td>...</td>\n",
       "      <td>...</td>\n",
       "      <td>...</td>\n",
       "    </tr>\n",
       "    <tr>\n",
       "      <th>65</th>\n",
       "      <td>1.0</td>\n",
       "      <td>327.0</td>\n",
       "      <td>-0.275406</td>\n",
       "    </tr>\n",
       "    <tr>\n",
       "      <th>66</th>\n",
       "      <td>1.0</td>\n",
       "      <td>409.0</td>\n",
       "      <td>0.755523</td>\n",
       "    </tr>\n",
       "    <tr>\n",
       "      <th>67</th>\n",
       "      <td>1.0</td>\n",
       "      <td>117.0</td>\n",
       "      <td>1.701483</td>\n",
       "    </tr>\n",
       "    <tr>\n",
       "      <th>68</th>\n",
       "      <td>1.0</td>\n",
       "      <td>179.0</td>\n",
       "      <td>-0.350741</td>\n",
       "    </tr>\n",
       "    <tr>\n",
       "      <th>69</th>\n",
       "      <td>1.0</td>\n",
       "      <td>234.0</td>\n",
       "      <td>0.402931</td>\n",
       "    </tr>\n",
       "  </tbody>\n",
       "</table>\n",
       "<p>70 rows × 3 columns</p>\n",
       "</div>"
      ],
      "text/plain": [
       "    Intercept  Ganancias       res\n",
       "0         1.0      357.0 -0.200676\n",
       "1         1.0       48.0  0.059603\n",
       "2         1.0      932.0 -0.585014\n",
       "3         1.0      366.0 -0.208257\n",
       "4         1.0       83.0  0.130122\n",
       "..        ...        ...       ...\n",
       "65        1.0      327.0 -0.275406\n",
       "66        1.0      409.0  0.755523\n",
       "67        1.0      117.0  1.701483\n",
       "68        1.0      179.0 -0.350741\n",
       "69        1.0      234.0  0.402931\n",
       "\n",
       "[70 rows x 3 columns]"
      ]
     },
     "execution_count": 25,
     "metadata": {},
     "output_type": "execute_result"
    }
   ],
   "source": [
    "dfX = pd.DataFrame(regresion.model.exog, columns=col_names)\n",
    "dfX['res'] = regresion.resid\n",
    "dfX"
   ]
  },
  {
   "cell_type": "markdown",
   "metadata": {
    "id": "rMWXU2LmyZSx"
   },
   "source": [
    "### Covarianza entre N y los residuos, debe dar 0. (En este caso su orden de magnitud es $10^{-14}$, una aproximación más que razonable a 0)"
   ]
  },
  {
   "cell_type": "code",
   "execution_count": 26,
   "metadata": {
    "colab": {
     "base_uri": "https://localhost:8080/"
    },
    "executionInfo": {
     "elapsed": 70,
     "status": "ok",
     "timestamp": 1752880125831,
     "user": {
      "displayName": "Daniela Verónica Villani",
      "userId": "00255085889186513064"
     },
     "user_tz": 180
    },
    "id": "9hbx5uP2yZSx",
    "outputId": "1ec2d46e-b3a5-4c2c-e07f-5f9c546502c1"
   },
   "outputs": [
    {
     "data": {
      "text/plain": [
       "np.float64(-3.295270658597566e-13)"
      ]
     },
     "execution_count": 26,
     "metadata": {},
     "output_type": "execute_result"
    }
   ],
   "source": [
    "dfX.cov().loc['Ganancias', 'res']"
   ]
  },
  {
   "cell_type": "markdown",
   "metadata": {
    "id": "_1nWcjXgyZSx"
   },
   "source": [
    "- Graficamos Residuos vs Ganancias:"
   ]
  },
  {
   "cell_type": "code",
   "execution_count": 27,
   "metadata": {
    "colab": {
     "base_uri": "https://localhost:8080/",
     "height": 472
    },
    "executionInfo": {
     "elapsed": 98,
     "status": "ok",
     "timestamp": 1752880125919,
     "user": {
      "displayName": "Daniela Verónica Villani",
      "userId": "00255085889186513064"
     },
     "user_tz": 180
    },
    "id": "xpMQRXOAyZSx",
    "outputId": "9e198108-6948-4cce-d534-c0264b4b69e5"
   },
   "outputs": [
    {
     "data": {
      "image/png": "[encoded data removed]",
      "text/plain": [
       "<Figure size 640x480 with 1 Axes>"
      ]
     },
     "metadata": {},
     "output_type": "display_data"
    }
   ],
   "source": [
    "plt.scatter(df[\"Ganancias\"], regresion.resid)\n",
    "plt.axhline(0, color='gray', linestyle='--')\n",
    "plt.xlabel(\"Ganancias\")\n",
    "plt.ylabel(\"Residuos\")\n",
    "plt.title(\"Residuos vs. Ganancias\")\n",
    "plt.show()"
   ]
  },
  {
   "cell_type": "markdown",
   "metadata": {},
   "source": [
    "- Graficamos Residuos vs Predichos:\n",
    "\n",
    "Podemos usarlo para evaluar supuestos de Gauss Markov:\n",
    "\n",
    "1. Hay una relación lineal entre X e Y: si no se cumple, veríamos una curva o estructura no aleatoria.\n",
    "2. Homoscedasticidad e Independencia:\n",
    "\n",
    "a) Homoscedasticidad: si se cumple, veríamos dispersión constante de residuos a lo largo de todos los valores ajustados (sin patrones). Si no se cumple, veríamos un embudo.\n",
    "\n",
    "b) Independencia: si se cumple, veríamos que estan aleatoriamente dispersos alrededor de cero sin mostrar estructuras claras. Si vemos indicios de autocorrelación, no se cumple.\n",
    "\n",
    "3. Normalidad: 𝑢𝑖~𝑁(0,𝜎2) , 𝑖.𝑖.𝑑"
   ]
  },
  {
   "cell_type": "code",
   "execution_count": 68,
   "metadata": {},
   "outputs": [
    {
     "data": {
      "image/png": "[encoded data removed]",
      "text/plain": [
       "<Figure size 640x480 with 1 Axes>"
      ]
     },
     "metadata": {},
     "output_type": "display_data"
    }
   ],
   "source": [
    "plt.scatter(regresion.fittedvalues, regresion.resid)\n",
    "plt.axhline(0, color='gray', linestyle='--')\n",
    "plt.ylabel(\"Residuos\")\n",
    "plt.xlabel(\"Predicciones\")\n",
    "plt.title(\"Residuos vs. Predicciones\")\n",
    "plt.show()"
   ]
  },
  {
   "cell_type": "code",
   "execution_count": 57,
   "metadata": {},
   "outputs": [
    {
     "name": "stdout",
     "output_type": "stream",
     "text": [
      "LM p-value (el estadístico): 17.129369805540854     F p-value: 0.00019072367546096725\n"
     ]
    }
   ],
   "source": [
    "# Test de heterocedasticidad de White. \n",
    "# H0 = homoscedasticidad\n",
    "import statsmodels.stats.api as sms\n",
    "white_test = sms.het_white(regresion.resid, regresion.model.exog)\n",
    "print(f\"LM p-value (el estadístico): {white_test[0]}     F p-value: {white_test[1]}\")"
   ]
  },
  {
   "cell_type": "code",
   "execution_count": 59,
   "metadata": {},
   "outputs": [
    {
     "name": "stdout",
     "output_type": "stream",
     "text": [
      "Estadístico de Durbin-Watson: 2.0454472128485266\n"
     ]
    }
   ],
   "source": [
    "# test de independencia de Durbin-Watson\n",
    "# Un valor cerca de 2 indica que no hay autocorrelación.\n",
    "# Un valor < 2 sugiere autocorrelación positiva.\n",
    "# Un valor > 2 sugiere autocorrelación negativa.\n",
    "\n",
    "from statsmodels.stats.stattools import durbin_watson\n",
    "dw_stat = durbin_watson(regresion.resid)\n",
    "print(f\"Estadístico de Durbin-Watson: {dw_stat}\")"
   ]
  },
  {
   "cell_type": "code",
   "execution_count": 71,
   "metadata": {},
   "outputs": [
    {
     "data": {
      "image/png": "[encoded data removed]",
      "text/plain": [
       "<Figure size 640x480 with 1 Axes>"
      ]
     },
     "metadata": {},
     "output_type": "display_data"
    }
   ],
   "source": [
    "# Gráfico de autocorrelación de los residuos\n",
    "\n",
    "from statsmodels.graphics.tsaplots import plot_acf\n",
    "plot_acf(regresion.resid)\n",
    "plt.show()"
   ]
  },
  {
   "cell_type": "code",
   "execution_count": 62,
   "metadata": {},
   "outputs": [
    {
     "name": "stdout",
     "output_type": "stream",
     "text": [
      "Estadístico de Jarque-Bera: 36.16531676118529\n",
      "P-valor: 1.402171860328399e-08\n"
     ]
    }
   ],
   "source": [
    "# Prueba de normalidad de los residuos de Jarque-Bera (incluye todos los anteriores, excepto Durbin-Watson)\n",
    "# H0: Los residuos siguen una distribución normal.\n",
    "\n",
    "jb_stat, jb_pvalue = stats.jarque_bera(regresion.resid)\n",
    "print(f\"Estadístico de Jarque-Bera: {jb_stat}\")\n",
    "print(f\"P-valor: {jb_pvalue}\")"
   ]
  },
  {
   "cell_type": "code",
   "execution_count": 69,
   "metadata": {},
   "outputs": [
    {
     "name": "stdout",
     "output_type": "stream",
     "text": [
      "Estadístico de Shapiro-Wilk: 0.93111985879988\n",
      "P-valor: 0.0008412013914032075\n"
     ]
    }
   ],
   "source": [
    "# Shapiro-Wilk - otra de normalidad de los residuos\n",
    "\n",
    "from scipy.stats import shapiro\n",
    "shapiro_stat, shapiro_pvalue = shapiro(regresion.resid)\n",
    "print(f\"Estadístico de Shapiro-Wilk: {shapiro_stat}\")\n",
    "print(f\"P-valor: {shapiro_pvalue}\")"
   ]
  },
  {
   "cell_type": "markdown",
   "metadata": {
    "id": "8QfZzJQVyZSy"
   },
   "source": [
    " - Graficamos la recta estimada:"
   ]
  },
  {
   "cell_type": "code",
   "execution_count": 28,
   "metadata": {
    "colab": {
     "base_uri": "https://localhost:8080/",
     "height": 472
    },
    "executionInfo": {
     "elapsed": 185,
     "status": "ok",
     "timestamp": 1752880126102,
     "user": {
      "displayName": "Daniela Verónica Villani",
      "userId": "00255085889186513064"
     },
     "user_tz": 180
    },
    "id": "bUXat-EpyZSy",
    "outputId": "91532515-72e4-483e-91d1-67c1bc7d30d1"
   },
   "outputs": [
    {
     "data": {
      "image/png": "[encoded data removed]",
      "text/plain": [
       "<Figure size 640x480 with 1 Axes>"
      ]
     },
     "metadata": {},
     "output_type": "display_data"
    }
   ],
   "source": [
    "predicts = regresion.predict(X)\n",
    "plt.scatter(df['Ganancias'], y, label = 'Datos', color='blue')\n",
    "plt.plot(df['Ganancias'], predicts, color='red', label='Regresión lineal')\n",
    "plt.xlabel('Ganancias en millones')\n",
    "plt.ylabel('Compensación al CEO en millones')\n",
    "plt.title('Regresión Lineal')\n",
    "plt.legend()\n",
    "plt.grid(True)\n",
    "plt.show()"
   ]
  },
  {
   "cell_type": "markdown",
   "metadata": {
    "id": "JnHMIZ6-yZSy"
   },
   "source": [
    "### Valor predicho de `Comp_CEO` para un valor de Ganancias particular, por ejemplo, para 500 millones de ganancias:\n",
    "\n",
    "Utilizando el desarrollo \"manual\":"
   ]
  },
  {
   "cell_type": "code",
   "execution_count": 29,
   "metadata": {
    "colab": {
     "base_uri": "https://localhost:8080/"
    },
    "executionInfo": {
     "elapsed": 8,
     "status": "ok",
     "timestamp": 1752880126111,
     "user": {
      "displayName": "Daniela Verónica Villani",
      "userId": "00255085889186513064"
     },
     "user_tz": 180
    },
    "id": "zpE879WByZSy",
    "outputId": "fa48a29a-7f8d-4e79-b492-dcbd4dcbf729"
   },
   "outputs": [
    {
     "data": {
      "text/plain": [
       "np.float64(1.0211283230672912)"
      ]
     },
     "execution_count": 29,
     "metadata": {},
     "output_type": "execute_result"
    }
   ],
   "source": [
    "intercepto = regresion.params['Intercept']\n",
    "pendiente = regresion.params['Ganancias']\n",
    "Ganancias_valor = 500\n",
    "\n",
    "y_hat_500 = intercepto + pendiente * Ganancias_valor\n",
    "y_hat_500"
   ]
  },
  {
   "cell_type": "markdown",
   "metadata": {
    "id": "uMVqzkJDyZSy"
   },
   "source": [
    "Utilizando el predictor:"
   ]
  },
  {
   "cell_type": "code",
   "execution_count": 30,
   "metadata": {
    "colab": {
     "base_uri": "https://localhost:8080/",
     "height": 115
    },
    "executionInfo": {
     "elapsed": 5,
     "status": "ok",
     "timestamp": 1752880126128,
     "user": {
      "displayName": "Daniela Verónica Villani",
      "userId": "00255085889186513064"
     },
     "user_tz": 180
    },
    "id": "YFfTc0JoyZSy",
    "outputId": "982d56b6-abd8-4782-d405-cc4aa90b2d22"
   },
   "outputs": [
    {
     "data": {
      "text/plain": [
       "0    1.021128\n",
       "dtype: float64"
      ]
     },
     "execution_count": 30,
     "metadata": {},
     "output_type": "execute_result"
    }
   ],
   "source": [
    "nuevo_Ganancias = pd.DataFrame({'Ganancias':[500]})\n",
    "y_hat2 = regresion.predict(nuevo_Ganancias)\n",
    "y_hat2"
   ]
  },
  {
   "cell_type": "markdown",
   "metadata": {
    "id": "xCvwpY5lyZSy"
   },
   "source": [
    "Utilizando el vector de coeficientes estimados:"
   ]
  },
  {
   "cell_type": "code",
   "execution_count": 31,
   "metadata": {
    "colab": {
     "base_uri": "https://localhost:8080/"
    },
    "executionInfo": {
     "elapsed": 9,
     "status": "ok",
     "timestamp": 1752880126138,
     "user": {
      "displayName": "Daniela Verónica Villani",
      "userId": "00255085889186513064"
     },
     "user_tz": 180
    },
    "id": "sQdYxOPIyZSy",
    "outputId": "469831a4-170e-4af7-a3d4-65f08bd9ce60"
   },
   "outputs": [
    {
     "data": {
      "text/plain": [
       "np.float64(1.0211283230672912)"
      ]
     },
     "execution_count": 31,
     "metadata": {},
     "output_type": "execute_result"
    }
   ],
   "source": [
    "beta = regresion.params\n",
    "\n",
    "nuevo_punto = [1, 500]\n",
    "np.dot(nuevo_punto, beta)"
   ]
  },
  {
   "cell_type": "markdown",
   "metadata": {
    "id": "yUizUSdRyZSy"
   },
   "source": [
    "### Matriz de varianzas y Covarianzas de los beta_sombrero\n",
    "Statsmodels guarda las varianzas y covarianzas de los estimadores"
   ]
  },
  {
   "cell_type": "code",
   "execution_count": 32,
   "metadata": {
    "colab": {
     "base_uri": "https://localhost:8080/",
     "height": 112
    },
    "executionInfo": {
     "elapsed": 14,
     "status": "ok",
     "timestamp": 1752880126182,
     "user": {
      "displayName": "Daniela Verónica Villani",
      "userId": "00255085889186513064"
     },
     "user_tz": 180
    },
    "id": "x11Md-wDyZSy",
    "outputId": "e60c39a5-1b93-473d-a89a-d2073e2b2edf"
   },
   "outputs": [
    {
     "data": {
      "text/html": [
       "<div>\n",
       "<style scoped>\n",
       "    .dataframe tbody tr th:only-of-type {\n",
       "        vertical-align: middle;\n",
       "    }\n",
       "\n",
       "    .dataframe tbody tr th {\n",
       "        vertical-align: top;\n",
       "    }\n",
       "\n",
       "    .dataframe thead th {\n",
       "        text-align: right;\n",
       "    }\n",
       "</style>\n",
       "<table border=\"1\" class=\"dataframe\">\n",
       "  <thead>\n",
       "    <tr style=\"text-align: right;\">\n",
       "      <th></th>\n",
       "      <th>Intercept</th>\n",
       "      <th>Ganancias</th>\n",
       "    </tr>\n",
       "  </thead>\n",
       "  <tbody>\n",
       "    <tr>\n",
       "      <th>Intercept</th>\n",
       "      <td>0.012615</td>\n",
       "      <td>-8.684073e-06</td>\n",
       "    </tr>\n",
       "    <tr>\n",
       "      <th>Ganancias</th>\n",
       "      <td>-0.000009</td>\n",
       "      <td>1.358102e-08</td>\n",
       "    </tr>\n",
       "  </tbody>\n",
       "</table>\n",
       "</div>"
      ],
      "text/plain": [
       "           Intercept     Ganancias\n",
       "Intercept   0.012615 -8.684073e-06\n",
       "Ganancias  -0.000009  1.358102e-08"
      ]
     },
     "execution_count": 32,
     "metadata": {},
     "output_type": "execute_result"
    }
   ],
   "source": [
    "regresion.cov_params()"
   ]
  },
  {
   "cell_type": "markdown",
   "metadata": {
    "id": "onJusEAXyZSy"
   },
   "source": [
    "Notar que en `regresion.summary` vemos los Std Err en la segunda columna, que es la raiz de la varianza ($\\sqrt{0.012615}=0.112$)"
   ]
  },
  {
   "cell_type": "code",
   "execution_count": 33,
   "metadata": {
    "colab": {
     "base_uri": "https://localhost:8080/",
     "height": 486
    },
    "executionInfo": {
     "elapsed": 40,
     "status": "ok",
     "timestamp": 1752880126223,
     "user": {
      "displayName": "Daniela Verónica Villani",
      "userId": "00255085889186513064"
     },
     "user_tz": 180
    },
    "id": "KECz2m4OyZSz",
    "outputId": "c21d20fa-b659-4043-f53a-2b4b90cae38c"
   },
   "outputs": [
    {
     "data": {
      "text/html": [
       "<table class=\"simpletable\">\n",
       "<caption>OLS Regression Results</caption>\n",
       "<tr>\n",
       "  <th>Dep. Variable:</th>    <td>Compensacion_CEO</td> <th>  R-squared:         </th> <td>   0.434</td>\n",
       "</tr>\n",
       "<tr>\n",
       "  <th>Model:</th>                   <td>OLS</td>       <th>  Adj. R-squared:    </th> <td>   0.426</td>\n",
       "</tr>\n",
       "<tr>\n",
       "  <th>Method:</th>             <td>Least Squares</td>  <th>  F-statistic:       </th> <td>   52.24</td>\n",
       "</tr>\n",
       "<tr>\n",
       "  <th>Date:</th>             <td>Wed, 20 Aug 2025</td> <th>  Prob (F-statistic):</th> <td>5.50e-10</td>\n",
       "</tr>\n",
       "<tr>\n",
       "  <th>Time:</th>                 <td>18:26:46</td>     <th>  Log-Likelihood:    </th> <td> -73.655</td>\n",
       "</tr>\n",
       "<tr>\n",
       "  <th>No. Observations:</th>      <td>    70</td>      <th>  AIC:               </th> <td>   151.3</td>\n",
       "</tr>\n",
       "<tr>\n",
       "  <th>Df Residuals:</th>          <td>    68</td>      <th>  BIC:               </th> <td>   155.8</td>\n",
       "</tr>\n",
       "<tr>\n",
       "  <th>Df Model:</th>              <td>     1</td>      <th>                     </th>     <td> </td>   \n",
       "</tr>\n",
       "<tr>\n",
       "  <th>Covariance Type:</th>      <td>nonrobust</td>    <th>                     </th>     <td> </td>   \n",
       "</tr>\n",
       "</table>\n",
       "<table class=\"simpletable\">\n",
       "<tr>\n",
       "      <td></td>         <th>coef</th>     <th>std err</th>      <th>t</th>      <th>P>|t|</th>  <th>[0.025</th>    <th>0.975]</th>  \n",
       "</tr>\n",
       "<tr>\n",
       "  <th>Intercept</th> <td>    0.6000</td> <td>    0.112</td> <td>    5.342</td> <td> 0.000</td> <td>    0.376</td> <td>    0.824</td>\n",
       "</tr>\n",
       "<tr>\n",
       "  <th>Ganancias</th> <td>    0.0008</td> <td>    0.000</td> <td>    7.228</td> <td> 0.000</td> <td>    0.001</td> <td>    0.001</td>\n",
       "</tr>\n",
       "</table>\n",
       "<table class=\"simpletable\">\n",
       "<tr>\n",
       "  <th>Omnibus:</th>       <td>21.745</td> <th>  Durbin-Watson:     </th> <td>   2.045</td>\n",
       "</tr>\n",
       "<tr>\n",
       "  <th>Prob(Omnibus):</th> <td> 0.000</td> <th>  Jarque-Bera (JB):  </th> <td>  36.165</td>\n",
       "</tr>\n",
       "<tr>\n",
       "  <th>Skew:</th>          <td> 1.136</td> <th>  Prob(JB):          </th> <td>1.40e-08</td>\n",
       "</tr>\n",
       "<tr>\n",
       "  <th>Kurtosis:</th>      <td> 5.691</td> <th>  Cond. No.          </th> <td>1.29e+03</td>\n",
       "</tr>\n",
       "</table><br/><br/>Notes:<br/>[1] Standard Errors assume that the covariance matrix of the errors is correctly specified.<br/>[2] The condition number is large, 1.29e+03. This might indicate that there are<br/>strong multicollinearity or other numerical problems."
      ],
      "text/latex": [
       "\\begin{center}\n",
       "\\begin{tabular}{lclc}\n",
       "\\toprule\n",
       "\\textbf{Dep. Variable:}    & Compensacion\\_CEO & \\textbf{  R-squared:         } &     0.434   \\\\\n",
       "\\textbf{Model:}            &        OLS        & \\textbf{  Adj. R-squared:    } &     0.426   \\\\\n",
       "\\textbf{Method:}           &   Least Squares   & \\textbf{  F-statistic:       } &     52.24   \\\\\n",
       "\\textbf{Date:}             &  Wed, 20 Aug 2025 & \\textbf{  Prob (F-statistic):} &  5.50e-10   \\\\\n",
       "\\textbf{Time:}             &      18:26:46     & \\textbf{  Log-Likelihood:    } &   -73.655   \\\\\n",
       "\\textbf{No. Observations:} &           70      & \\textbf{  AIC:               } &     151.3   \\\\\n",
       "\\textbf{Df Residuals:}     &           68      & \\textbf{  BIC:               } &     155.8   \\\\\n",
       "\\textbf{Df Model:}         &            1      & \\textbf{                     } &             \\\\\n",
       "\\textbf{Covariance Type:}  &     nonrobust     & \\textbf{                     } &             \\\\\n",
       "\\bottomrule\n",
       "\\end{tabular}\n",
       "\\begin{tabular}{lcccccc}\n",
       "                   & \\textbf{coef} & \\textbf{std err} & \\textbf{t} & \\textbf{P$> |$t$|$} & \\textbf{[0.025} & \\textbf{0.975]}  \\\\\n",
       "\\midrule\n",
       "\\textbf{Intercept} &       0.6000  &        0.112     &     5.342  &         0.000        &        0.376    &        0.824     \\\\\n",
       "\\textbf{Ganancias} &       0.0008  &        0.000     &     7.228  &         0.000        &        0.001    &        0.001     \\\\\n",
       "\\bottomrule\n",
       "\\end{tabular}\n",
       "\\begin{tabular}{lclc}\n",
       "\\textbf{Omnibus:}       & 21.745 & \\textbf{  Durbin-Watson:     } &    2.045  \\\\\n",
       "\\textbf{Prob(Omnibus):} &  0.000 & \\textbf{  Jarque-Bera (JB):  } &   36.165  \\\\\n",
       "\\textbf{Skew:}          &  1.136 & \\textbf{  Prob(JB):          } & 1.40e-08  \\\\\n",
       "\\textbf{Kurtosis:}      &  5.691 & \\textbf{  Cond. No.          } & 1.29e+03  \\\\\n",
       "\\bottomrule\n",
       "\\end{tabular}\n",
       "%\\caption{OLS Regression Results}\n",
       "\\end{center}\n",
       "\n",
       "Notes: \\newline\n",
       " [1] Standard Errors assume that the covariance matrix of the errors is correctly specified. \\newline\n",
       " [2] The condition number is large, 1.29e+03. This might indicate that there are \\newline\n",
       " strong multicollinearity or other numerical problems."
      ],
      "text/plain": [
       "<class 'statsmodels.iolib.summary.Summary'>\n",
       "\"\"\"\n",
       "                            OLS Regression Results                            \n",
       "==============================================================================\n",
       "Dep. Variable:       Compensacion_CEO   R-squared:                       0.434\n",
       "Model:                            OLS   Adj. R-squared:                  0.426\n",
       "Method:                 Least Squares   F-statistic:                     52.24\n",
       "Date:                Wed, 20 Aug 2025   Prob (F-statistic):           5.50e-10\n",
       "Time:                        18:26:46   Log-Likelihood:                -73.655\n",
       "No. Observations:                  70   AIC:                             151.3\n",
       "Df Residuals:                      68   BIC:                             155.8\n",
       "Df Model:                           1                                         \n",
       "Covariance Type:            nonrobust                                         \n",
       "==============================================================================\n",
       "                 coef    std err          t      P>|t|      [0.025      0.975]\n",
       "------------------------------------------------------------------------------\n",
       "Intercept      0.6000      0.112      5.342      0.000       0.376       0.824\n",
       "Ganancias      0.0008      0.000      7.228      0.000       0.001       0.001\n",
       "==============================================================================\n",
       "Omnibus:                       21.745   Durbin-Watson:                   2.045\n",
       "Prob(Omnibus):                  0.000   Jarque-Bera (JB):               36.165\n",
       "Skew:                           1.136   Prob(JB):                     1.40e-08\n",
       "Kurtosis:                       5.691   Cond. No.                     1.29e+03\n",
       "==============================================================================\n",
       "\n",
       "Notes:\n",
       "[1] Standard Errors assume that the covariance matrix of the errors is correctly specified.\n",
       "[2] The condition number is large, 1.29e+03. This might indicate that there are\n",
       "strong multicollinearity or other numerical problems.\n",
       "\"\"\""
      ]
     },
     "execution_count": 33,
     "metadata": {},
     "output_type": "execute_result"
    }
   ],
   "source": [
    "regresion.summary()"
   ]
  },
  {
   "cell_type": "markdown",
   "metadata": {
    "id": "9x_8S9rWyZSz"
   },
   "source": [
    "### Standard Errors"
   ]
  },
  {
   "cell_type": "code",
   "execution_count": 34,
   "metadata": {
    "colab": {
     "base_uri": "https://localhost:8080/",
     "height": 147
    },
    "executionInfo": {
     "elapsed": 3,
     "status": "ok",
     "timestamp": 1752880126227,
     "user": {
      "displayName": "Daniela Verónica Villani",
      "userId": "00255085889186513064"
     },
     "user_tz": 180
    },
    "id": "qsvh3DfryZSz",
    "outputId": "ee90a2b9-9ed9-497b-95bb-f05c39d9133f"
   },
   "outputs": [
    {
     "data": {
      "text/plain": [
       "Intercept    0.112318\n",
       "Ganancias    0.000117\n",
       "dtype: float64"
      ]
     },
     "execution_count": 34,
     "metadata": {},
     "output_type": "execute_result"
    }
   ],
   "source": [
    "regresion.bse"
   ]
  },
  {
   "cell_type": "markdown",
   "metadata": {
    "id": "JvIlfSYzyZSz"
   },
   "source": [
    "### Y sombrero e intervalo de confianza para Y sombrero (Banda de confianza Y Banda de predicción)\n",
    "Cálculo de un IC para el y_hat $\\bar{y}$  y un IC para \"y\" (un \"y\" futuro)"
   ]
  },
  {
   "cell_type": "code",
   "execution_count": 35,
   "metadata": {
    "id": "iaTkHD_tyZSz"
   },
   "outputs": [],
   "source": [
    "pred = regresion.get_prediction()\n",
    "IC_pred = pred.summary_frame(alpha = 0.05)"
   ]
  },
  {
   "cell_type": "code",
   "execution_count": 36,
   "metadata": {
    "colab": {
     "base_uri": "https://localhost:8080/",
     "height": 206
    },
    "executionInfo": {
     "elapsed": 4,
     "status": "ok",
     "timestamp": 1752880126236,
     "user": {
      "displayName": "Daniela Verónica Villani",
      "userId": "00255085889186513064"
     },
     "user_tz": 180
    },
    "id": "0QfKeem7yZSz",
    "outputId": "8d2fad28-8b88-47a6-d636-ce917c25db75"
   },
   "outputs": [
    {
     "data": {
      "text/html": [
       "<div>\n",
       "<style scoped>\n",
       "    .dataframe tbody tr th:only-of-type {\n",
       "        vertical-align: middle;\n",
       "    }\n",
       "\n",
       "    .dataframe tbody tr th {\n",
       "        vertical-align: top;\n",
       "    }\n",
       "\n",
       "    .dataframe thead th {\n",
       "        text-align: right;\n",
       "    }\n",
       "</style>\n",
       "<table border=\"1\" class=\"dataframe\">\n",
       "  <thead>\n",
       "    <tr style=\"text-align: right;\">\n",
       "      <th></th>\n",
       "      <th>mean</th>\n",
       "      <th>mean_se</th>\n",
       "      <th>mean_ci_lower</th>\n",
       "      <th>mean_ci_upper</th>\n",
       "      <th>obs_ci_lower</th>\n",
       "      <th>obs_ci_upper</th>\n",
       "    </tr>\n",
       "  </thead>\n",
       "  <tbody>\n",
       "    <tr>\n",
       "      <th>0</th>\n",
       "      <td>0.900676</td>\n",
       "      <td>0.090254</td>\n",
       "      <td>0.720576</td>\n",
       "      <td>1.080776</td>\n",
       "      <td>-0.513895</td>\n",
       "      <td>2.315246</td>\n",
       "    </tr>\n",
       "    <tr>\n",
       "      <th>1</th>\n",
       "      <td>0.640397</td>\n",
       "      <td>0.108688</td>\n",
       "      <td>0.423514</td>\n",
       "      <td>0.857280</td>\n",
       "      <td>-0.779326</td>\n",
       "      <td>2.060119</td>\n",
       "    </tr>\n",
       "    <tr>\n",
       "      <th>2</th>\n",
       "      <td>1.385014</td>\n",
       "      <td>0.090692</td>\n",
       "      <td>1.204040</td>\n",
       "      <td>1.565987</td>\n",
       "      <td>-0.029668</td>\n",
       "      <td>2.799695</td>\n",
       "    </tr>\n",
       "    <tr>\n",
       "      <th>3</th>\n",
       "      <td>0.908257</td>\n",
       "      <td>0.089877</td>\n",
       "      <td>0.728909</td>\n",
       "      <td>1.087604</td>\n",
       "      <td>-0.506218</td>\n",
       "      <td>2.322731</td>\n",
       "    </tr>\n",
       "    <tr>\n",
       "      <th>4</th>\n",
       "      <td>0.669878</td>\n",
       "      <td>0.106148</td>\n",
       "      <td>0.458063</td>\n",
       "      <td>0.881693</td>\n",
       "      <td>-0.749079</td>\n",
       "      <td>2.088835</td>\n",
       "    </tr>\n",
       "  </tbody>\n",
       "</table>\n",
       "</div>"
      ],
      "text/plain": [
       "       mean   mean_se  mean_ci_lower  mean_ci_upper  obs_ci_lower  \\\n",
       "0  0.900676  0.090254       0.720576       1.080776     -0.513895   \n",
       "1  0.640397  0.108688       0.423514       0.857280     -0.779326   \n",
       "2  1.385014  0.090692       1.204040       1.565987     -0.029668   \n",
       "3  0.908257  0.089877       0.728909       1.087604     -0.506218   \n",
       "4  0.669878  0.106148       0.458063       0.881693     -0.749079   \n",
       "\n",
       "   obs_ci_upper  \n",
       "0      2.315246  \n",
       "1      2.060119  \n",
       "2      2.799695  \n",
       "3      2.322731  \n",
       "4      2.088835  "
      ]
     },
     "execution_count": 36,
     "metadata": {},
     "output_type": "execute_result"
    }
   ],
   "source": [
    "IC_pred.head()"
   ]
  },
  {
   "cell_type": "markdown",
   "metadata": {
    "id": "jsgI4E7tyZSz"
   },
   "source": [
    "Recordemos que `np.allclose` compara dos valores o arrays y devuelve `True` si están dentro de un umbral de tolerancia especificado. Por ejemplo, si cotejamos `IC_pred['mean]` del `summary_frame` con $\\bar{y}$:"
   ]
  },
  {
   "cell_type": "code",
   "execution_count": 37,
   "metadata": {
    "colab": {
     "base_uri": "https://localhost:8080/"
    },
    "executionInfo": {
     "elapsed": 11,
     "status": "ok",
     "timestamp": 1752880126249,
     "user": {
      "displayName": "Daniela Verónica Villani",
      "userId": "00255085889186513064"
     },
     "user_tz": 180
    },
    "id": "pdHB1kxhyZSz",
    "outputId": "5a6d014b-4965-48a0-afe7-f37b7e83edb9"
   },
   "outputs": [
    {
     "data": {
      "text/plain": [
       "True"
      ]
     },
     "execution_count": 37,
     "metadata": {},
     "output_type": "execute_result"
    }
   ],
   "source": [
    "np.allclose(IC_pred['mean'], y_hat)"
   ]
  },
  {
   "cell_type": "markdown",
   "metadata": {
    "id": "L21TcEQOyZSz"
   },
   "source": [
    "Replicamos _a mano_ cada columna del summary_frame. La primera columna es el $\\hat{y}$, el valor sobre la recta estimada dado x."
   ]
  },
  {
   "cell_type": "markdown",
   "metadata": {
    "id": "GdjBhrqhyZSz"
   },
   "source": [
    "La segunda columna será el Standard Error del $\\hat{y}$.\n",
    "Para obtenerlo:\n",
    "1. Obtenemos la varianza del $\\hat{y}$\n",
    "\n",
    "Sabemos que\n",
    "\n",
    "$\\hat{y} = \\hat{\\alpha} + \\hat{\\beta} x$\n",
    "\n",
    "Y que\n",
    "\n",
    "$\n",
    "\\operatorname{Var}(\\hat{y}) = \\operatorname{Var}(\\hat{\\alpha}) + x^2  \\operatorname{Var}(\\hat{\\beta}) + 2x  \\operatorname{Cov}(\\hat{\\alpha}, \\hat{\\beta})\n",
    "$\n"
   ]
  },
  {
   "cell_type": "code",
   "execution_count": 38,
   "metadata": {
    "colab": {
     "base_uri": "https://localhost:8080/",
     "height": 112
    },
    "executionInfo": {
     "elapsed": 4,
     "status": "ok",
     "timestamp": 1752880126254,
     "user": {
      "displayName": "Daniela Verónica Villani",
      "userId": "00255085889186513064"
     },
     "user_tz": 180
    },
    "id": "oGvMQFR1yZSz",
    "outputId": "5b806283-cf93-46c3-c1b3-e52a9a0acae7"
   },
   "outputs": [
    {
     "data": {
      "text/html": [
       "<div>\n",
       "<style scoped>\n",
       "    .dataframe tbody tr th:only-of-type {\n",
       "        vertical-align: middle;\n",
       "    }\n",
       "\n",
       "    .dataframe tbody tr th {\n",
       "        vertical-align: top;\n",
       "    }\n",
       "\n",
       "    .dataframe thead th {\n",
       "        text-align: right;\n",
       "    }\n",
       "</style>\n",
       "<table border=\"1\" class=\"dataframe\">\n",
       "  <thead>\n",
       "    <tr style=\"text-align: right;\">\n",
       "      <th></th>\n",
       "      <th>Intercept</th>\n",
       "      <th>Ganancias</th>\n",
       "    </tr>\n",
       "  </thead>\n",
       "  <tbody>\n",
       "    <tr>\n",
       "      <th>Intercept</th>\n",
       "      <td>0.012615</td>\n",
       "      <td>-8.684073e-06</td>\n",
       "    </tr>\n",
       "    <tr>\n",
       "      <th>Ganancias</th>\n",
       "      <td>-0.000009</td>\n",
       "      <td>1.358102e-08</td>\n",
       "    </tr>\n",
       "  </tbody>\n",
       "</table>\n",
       "</div>"
      ],
      "text/plain": [
       "           Intercept     Ganancias\n",
       "Intercept   0.012615 -8.684073e-06\n",
       "Ganancias  -0.000009  1.358102e-08"
      ]
     },
     "execution_count": 38,
     "metadata": {},
     "output_type": "execute_result"
    }
   ],
   "source": [
    "regresion.cov_params()"
   ]
  },
  {
   "cell_type": "code",
   "execution_count": 39,
   "metadata": {
    "colab": {
     "base_uri": "https://localhost:8080/"
    },
    "executionInfo": {
     "elapsed": 8,
     "status": "ok",
     "timestamp": 1752880126263,
     "user": {
      "displayName": "Daniela Verónica Villani",
      "userId": "00255085889186513064"
     },
     "user_tz": 180
    },
    "id": "jDGs6vnVyZSz",
    "outputId": "e0895952-2c4e-4d31-cb99-894e2deb5d1e"
   },
   "outputs": [
    {
     "data": {
      "text/plain": [
       "array([[ 1.26154123e-02, -8.68407339e-06],\n",
       "       [-8.68407339e-06,  1.35810239e-08]])"
      ]
     },
     "execution_count": 39,
     "metadata": {},
     "output_type": "execute_result"
    }
   ],
   "source": [
    "params = regresion.cov_params().values\n",
    "params"
   ]
  },
  {
   "cell_type": "code",
   "execution_count": 40,
   "metadata": {
    "colab": {
     "base_uri": "https://localhost:8080/",
     "height": 241
    },
    "executionInfo": {
     "elapsed": 16,
     "status": "ok",
     "timestamp": 1752880126289,
     "user": {
      "displayName": "Daniela Verónica Villani",
      "userId": "00255085889186513064"
     },
     "user_tz": 180
    },
    "id": "Eq6h6Xq3yZSz",
    "outputId": "75db0ce7-b334-4ffb-e6d8-feaeab3a429f"
   },
   "outputs": [
    {
     "data": {
      "text/plain": [
       "0    0.008146\n",
       "1    0.011813\n",
       "2    0.008225\n",
       "3    0.008078\n",
       "4    0.011267\n",
       "Name: Ganancias, dtype: float64"
      ]
     },
     "execution_count": 40,
     "metadata": {},
     "output_type": "execute_result"
    }
   ],
   "source": [
    "var_y_hat = params[0,0] + params[1,1]*(df['Ganancias']**2) + 2*df['Ganancias']*params[1,0]\n",
    "var_y_hat.head()"
   ]
  },
  {
   "cell_type": "markdown",
   "metadata": {
    "id": "0RqqWbMvyZS0"
   },
   "source": [
    "2. Calculo standard error (al $\\hat{y}$), correspondiente a la segunda columna `mean_se` del `summary_frame`. Luego, las cotejo:"
   ]
  },
  {
   "cell_type": "code",
   "execution_count": 41,
   "metadata": {
    "colab": {
     "base_uri": "https://localhost:8080/"
    },
    "executionInfo": {
     "elapsed": 31,
     "status": "ok",
     "timestamp": 1752880126322,
     "user": {
      "displayName": "Daniela Verónica Villani",
      "userId": "00255085889186513064"
     },
     "user_tz": 180
    },
    "id": "DMeo1I3myZS0",
    "outputId": "c0f27c9e-2fd1-4db7-e3f3-c37d2f11ec61"
   },
   "outputs": [
    {
     "data": {
      "text/plain": [
       "True"
      ]
     },
     "execution_count": 41,
     "metadata": {},
     "output_type": "execute_result"
    }
   ],
   "source": [
    "se_y_hat=var_y_hat**0.5\n",
    "np.allclose(IC_pred['mean_se'], se_y_hat)\n"
   ]
  },
  {
   "cell_type": "markdown",
   "metadata": {
    "id": "vRgO2InOyZS0"
   },
   "source": [
    "La tercera y cuarta columnas son la BANDA DE CONFIANZA de $\\hat{y}$ del 95%.\n",
    "\n",
    "Grados de libertad $n - k$:"
   ]
  },
  {
   "cell_type": "code",
   "execution_count": 42,
   "metadata": {
    "id": "2NAKjzOeyZS0"
   },
   "outputs": [],
   "source": [
    "dfreed = regresion.df_resid\n",
    "alpha = 0.05\n",
    "t_val = stats.t.ppf(1 - alpha/2, dfreed)\n",
    "IC_y_hat_low = y_hat - t_val * se_y_hat\n",
    "IC_y_hat_up  = y_hat + t_val * se_y_hat"
   ]
  },
  {
   "cell_type": "markdown",
   "metadata": {
    "id": "obT3l2DwyZS0"
   },
   "source": [
    "Cotejo las tercera y cuarta columnas:"
   ]
  },
  {
   "cell_type": "code",
   "execution_count": 43,
   "metadata": {
    "colab": {
     "base_uri": "https://localhost:8080/"
    },
    "executionInfo": {
     "elapsed": 9,
     "status": "ok",
     "timestamp": 1752880126347,
     "user": {
      "displayName": "Daniela Verónica Villani",
      "userId": "00255085889186513064"
     },
     "user_tz": 180
    },
    "id": "cKnlosghyZS0",
    "outputId": "6808b9aa-b230-407e-e6dc-cf26ab5fc935"
   },
   "outputs": [
    {
     "data": {
      "text/plain": [
       "True"
      ]
     },
     "execution_count": 43,
     "metadata": {},
     "output_type": "execute_result"
    }
   ],
   "source": [
    "np.allclose(IC_pred['mean_ci_lower'], IC_y_hat_low)"
   ]
  },
  {
   "cell_type": "code",
   "execution_count": 44,
   "metadata": {
    "colab": {
     "base_uri": "https://localhost:8080/"
    },
    "executionInfo": {
     "elapsed": 6,
     "status": "ok",
     "timestamp": 1752880126348,
     "user": {
      "displayName": "Daniela Verónica Villani",
      "userId": "00255085889186513064"
     },
     "user_tz": 180
    },
    "id": "1XnR-6BiyZS0",
    "outputId": "f8e0b227-7542-4852-9d12-d7de5bca79c5"
   },
   "outputs": [
    {
     "data": {
      "text/plain": [
       "True"
      ]
     },
     "execution_count": 44,
     "metadata": {},
     "output_type": "execute_result"
    }
   ],
   "source": [
    "np.allclose(IC_pred['mean_ci_upper'], IC_y_hat_up)"
   ]
  },
  {
   "cell_type": "markdown",
   "metadata": {
    "id": "QgECh2yuyZS0"
   },
   "source": [
    "Las últimas dos columnas, quinta y sexta, son LA BANDA DE PREDICCIÓN\n",
    "\n",
    "Agregan la varianza del residuo ($e$):\n",
    "\n",
    "$y = \\hat{y} + e$\n",
    "\n",
    "Y la varianza de $y$:\n",
    "\n",
    "$\\operatorname{Var}(y) = \\operatorname{Var}(\\hat{y}) + \\operatorname{Var}(e)$\n",
    "\n",
    "Donde $\\operatorname{Var}(e)$ es `regresion.mse_resid`, que es `regresion.scale` que es $s^2$, el estimador de sigma cuadrado) dividido ($n-k$)"
   ]
  },
  {
   "cell_type": "code",
   "execution_count": 45,
   "metadata": {
    "id": "WuzscI1IyZS0"
   },
   "outputs": [],
   "source": [
    "sigma2_hat = regresion.mse_resid\n",
    "se_pred = (var_y_hat + sigma2_hat) ** 0.5\n",
    "\n",
    "IC_y_pred_low = y_hat - t_val * se_pred\n",
    "IC_y_pred_up  = y_hat + t_val * se_pred"
   ]
  },
  {
   "cell_type": "markdown",
   "metadata": {
    "id": "E7egyoogyZS0"
   },
   "source": [
    "Cotejamos la quinta columna:"
   ]
  },
  {
   "cell_type": "code",
   "execution_count": 46,
   "metadata": {
    "colab": {
     "base_uri": "https://localhost:8080/"
    },
    "executionInfo": {
     "elapsed": 21,
     "status": "ok",
     "timestamp": 1752880126390,
     "user": {
      "displayName": "Daniela Verónica Villani",
      "userId": "00255085889186513064"
     },
     "user_tz": 180
    },
    "id": "JrY5z7GlyZS0",
    "outputId": "0a72d51c-70e7-4b42-ed65-6e50e14aaa32"
   },
   "outputs": [
    {
     "data": {
      "text/plain": [
       "True"
      ]
     },
     "execution_count": 46,
     "metadata": {},
     "output_type": "execute_result"
    }
   ],
   "source": [
    "np.allclose(IC_pred['obs_ci_lower'], IC_y_pred_low)"
   ]
  },
  {
   "cell_type": "markdown",
   "metadata": {
    "id": "KREcnPAnyZS1"
   },
   "source": [
    "Y la sexta columna:"
   ]
  },
  {
   "cell_type": "code",
   "execution_count": 47,
   "metadata": {
    "colab": {
     "base_uri": "https://localhost:8080/"
    },
    "executionInfo": {
     "elapsed": 12,
     "status": "ok",
     "timestamp": 1752880126391,
     "user": {
      "displayName": "Daniela Verónica Villani",
      "userId": "00255085889186513064"
     },
     "user_tz": 180
    },
    "id": "FtDmpP08yZS1",
    "outputId": "caed7294-40b3-4640-e0ca-b9dc3ff900ca"
   },
   "outputs": [
    {
     "data": {
      "text/plain": [
       "True"
      ]
     },
     "execution_count": 47,
     "metadata": {},
     "output_type": "execute_result"
    }
   ],
   "source": [
    "np.allclose(IC_pred['obs_ci_upper'], IC_y_pred_up)"
   ]
  },
  {
   "cell_type": "markdown",
   "metadata": {
    "id": "JUiKAttoyZS1"
   },
   "source": [
    "### Gráfico del IC de la BANDA DE CONFIANZA y de la BANDA DE PREDICCION"
   ]
  },
  {
   "cell_type": "code",
   "execution_count": 48,
   "metadata": {
    "id": "mFb4sc9xyZS1"
   },
   "outputs": [],
   "source": [
    "Y = df['Compensacion_CEO']\n",
    "X = sm.add_constant(df[['Ganancias']])\n",
    "\n",
    "pred = regresion.get_prediction()\n",
    "IC_pred = pred.summary_frame(alpha = 0.05)"
   ]
  },
  {
   "cell_type": "markdown",
   "metadata": {
    "id": "ZcmMnopNyZS1"
   },
   "source": [
    "Tomamos las columnas de interés:"
   ]
  },
  {
   "cell_type": "code",
   "execution_count": 49,
   "metadata": {
    "id": "Im8-v_JsyZS1"
   },
   "outputs": [],
   "source": [
    "yhat = IC_pred['mean']\n",
    "mean_ci_lower = IC_pred['mean_ci_lower']\n",
    "mean_ci_upper = IC_pred['mean_ci_upper']\n",
    "obs_ci_lower  = IC_pred['obs_ci_lower']\n",
    "obs_ci_upper  = IC_pred['obs_ci_upper']"
   ]
  },
  {
   "cell_type": "markdown",
   "metadata": {
    "id": "ByEz8y8AyZS1"
   },
   "source": [
    "Graficamos:"
   ]
  },
  {
   "cell_type": "code",
   "execution_count": 50,
   "metadata": {
    "colab": {
     "base_uri": "https://localhost:8080/",
     "height": 472
    },
    "executionInfo": {
     "elapsed": 542,
     "status": "ok",
     "timestamp": 1752880126963,
     "user": {
      "displayName": "Daniela Verónica Villani",
      "userId": "00255085889186513064"
     },
     "user_tz": 180
    },
    "id": "G4cOjFsHyZS1",
    "outputId": "22b91dcf-5f32-40ab-9043-a55523c5b947"
   },
   "outputs": [
    {
     "data": {
      "image/png": "[encoded data removed]",
      "text/plain": [
       "<Figure size 640x480 with 1 Axes>"
      ]
     },
     "metadata": {},
     "output_type": "display_data"
    }
   ],
   "source": [
    "plt.scatter(X['Ganancias'], Y, label='Datos observados', color='black', alpha=0.6)\n",
    "plt.plot(X['Ganancias'], yhat, color='red', label='Predicción puntual')\n",
    "plt.plot(X['Ganancias'], mean_ci_lower, color='green', linestyle='--', label='IC confianza (95%)')\n",
    "plt.plot(X['Ganancias'], mean_ci_upper, color='green', linestyle='--')\n",
    "plt.plot(X['Ganancias'], obs_ci_lower, color='magenta', linestyle='--', label='IC predicción (95%)')\n",
    "plt.plot(X['Ganancias'], obs_ci_upper, color='magenta', linestyle='--')\n",
    "\n",
    "plt.xlabel('Ganancias')\n",
    "plt.ylabel('Compensacion_CEO')\n",
    "plt.title('Bandas de confianza y de predicción')\n",
    "plt.legend()\n",
    "plt.grid(True)\n",
    "plt.show()"
   ]
  }
 ],
 "metadata": {
  "colab": {
   "provenance": []
  },
  "kernelspec": {
   "display_name": "env-udesa",
   "language": "python",
   "name": "python3"
  },
  "language_info": {
   "codemirror_mode": {
    "name": "ipython",
    "version": 3
   },
   "file_extension": ".py",
   "mimetype": "text/x-python",
   "name": "python",
   "nbconvert_exporter": "python",
   "pygments_lexer": "ipython3",
   "version": "3.13.3"
  }
 },
 "nbformat": 4,
 "nbformat_minor": 0
}
