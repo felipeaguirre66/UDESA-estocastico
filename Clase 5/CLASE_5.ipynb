{
  "cells": [
    {
      "cell_type": "markdown",
      "metadata": {
        "id": "S9WHp8oY2XyR"
      },
      "source": [
        "# Modelado Estocástico\n",
        "## Clase 5 - Introducción a Regresión Múltiple"
      ]
    },
    {
      "cell_type": "code",
      "execution_count": 1,
      "metadata": {
        "id": "UkFEUCFP2XyS"
      },
      "outputs": [],
      "source": [
        "import pandas as pd\n",
        "import numpy as np\n",
        "import statsmodels.api as sm\n",
        "import statsmodels.formula.api as smf\n",
        "import matplotlib.pyplot as plt\n",
        "from scipy import stats\n",
        "import statsmodels.stats.api as sms"
      ]
    },
    {
      "cell_type": "code",
      "execution_count": 2,
      "metadata": {
        "colab": {
          "base_uri": "https://localhost:8080/",
          "height": 206
        },
        "id": "TiF4dsXC2XyT",
        "outputId": "276c43e0-8339-40fb-cfa3-727755ed1faa"
      },
      "outputs": [
        {
          "data": {
            "text/html": [
              "<div>\n",
              "<style scoped>\n",
              "    .dataframe tbody tr th:only-of-type {\n",
              "        vertical-align: middle;\n",
              "    }\n",
              "\n",
              "    .dataframe tbody tr th {\n",
              "        vertical-align: top;\n",
              "    }\n",
              "\n",
              "    .dataframe thead th {\n",
              "        text-align: right;\n",
              "    }\n",
              "</style>\n",
              "<table border=\"1\" class=\"dataframe\">\n",
              "  <thead>\n",
              "    <tr style=\"text-align: right;\">\n",
              "      <th></th>\n",
              "      <th>PRECIO</th>\n",
              "      <th>LOTE</th>\n",
              "      <th>CUARTOS</th>\n",
              "      <th>BANOS</th>\n",
              "      <th>PISOS</th>\n",
              "      <th>ENTRADA</th>\n",
              "      <th>REC</th>\n",
              "      <th>SOTANO</th>\n",
              "      <th>CALEF</th>\n",
              "      <th>AIRE</th>\n",
              "      <th>GARAGE</th>\n",
              "      <th>NBHD</th>\n",
              "    </tr>\n",
              "  </thead>\n",
              "  <tbody>\n",
              "    <tr>\n",
              "      <th>0</th>\n",
              "      <td>42000</td>\n",
              "      <td>5850</td>\n",
              "      <td>3</td>\n",
              "      <td>1</td>\n",
              "      <td>2</td>\n",
              "      <td>1</td>\n",
              "      <td>0</td>\n",
              "      <td>1</td>\n",
              "      <td>0</td>\n",
              "      <td>0</td>\n",
              "      <td>1</td>\n",
              "      <td>0</td>\n",
              "    </tr>\n",
              "    <tr>\n",
              "      <th>1</th>\n",
              "      <td>38500</td>\n",
              "      <td>4000</td>\n",
              "      <td>2</td>\n",
              "      <td>1</td>\n",
              "      <td>1</td>\n",
              "      <td>1</td>\n",
              "      <td>0</td>\n",
              "      <td>0</td>\n",
              "      <td>0</td>\n",
              "      <td>0</td>\n",
              "      <td>0</td>\n",
              "      <td>0</td>\n",
              "    </tr>\n",
              "    <tr>\n",
              "      <th>2</th>\n",
              "      <td>49500</td>\n",
              "      <td>3060</td>\n",
              "      <td>3</td>\n",
              "      <td>1</td>\n",
              "      <td>1</td>\n",
              "      <td>1</td>\n",
              "      <td>0</td>\n",
              "      <td>0</td>\n",
              "      <td>0</td>\n",
              "      <td>0</td>\n",
              "      <td>0</td>\n",
              "      <td>0</td>\n",
              "    </tr>\n",
              "    <tr>\n",
              "      <th>3</th>\n",
              "      <td>60500</td>\n",
              "      <td>6650</td>\n",
              "      <td>3</td>\n",
              "      <td>1</td>\n",
              "      <td>2</td>\n",
              "      <td>1</td>\n",
              "      <td>1</td>\n",
              "      <td>0</td>\n",
              "      <td>0</td>\n",
              "      <td>0</td>\n",
              "      <td>0</td>\n",
              "      <td>0</td>\n",
              "    </tr>\n",
              "    <tr>\n",
              "      <th>4</th>\n",
              "      <td>61000</td>\n",
              "      <td>6360</td>\n",
              "      <td>2</td>\n",
              "      <td>1</td>\n",
              "      <td>1</td>\n",
              "      <td>1</td>\n",
              "      <td>0</td>\n",
              "      <td>0</td>\n",
              "      <td>0</td>\n",
              "      <td>0</td>\n",
              "      <td>0</td>\n",
              "      <td>0</td>\n",
              "    </tr>\n",
              "  </tbody>\n",
              "</table>\n",
              "</div>"
            ],
            "text/plain": [
              "   PRECIO  LOTE  CUARTOS  BANOS  PISOS  ENTRADA  REC  SOTANO  CALEF  AIRE  \\\n",
              "0   42000  5850        3      1      2        1    0       1      0     0   \n",
              "1   38500  4000        2      1      1        1    0       0      0     0   \n",
              "2   49500  3060        3      1      1        1    0       0      0     0   \n",
              "3   60500  6650        3      1      2        1    1       0      0     0   \n",
              "4   61000  6360        2      1      1        1    0       0      0     0   \n",
              "\n",
              "   GARAGE  NBHD  \n",
              "0       1     0  \n",
              "1       0     0  \n",
              "2       0     0  \n",
              "3       0     0  \n",
              "4       0     0  "
            ]
          },
          "execution_count": 2,
          "metadata": {},
          "output_type": "execute_result"
        }
      ],
      "source": [
        "dfcasa = pd.read_excel('Ejemplo_Casa.xls', sheet_name='HPRICE', usecols='A:L')\n",
        "dfcasa.head()"
      ]
    },
    {
      "cell_type": "markdown",
      "metadata": {
        "id": "W6fmOqWj2XyU"
      },
      "source": [
        "### Genero mis datos `y` y `X`, separando los PRECIOS de los valores restantes (y sumando la columna de constantes con unos)"
      ]
    },
    {
      "cell_type": "code",
      "execution_count": 3,
      "metadata": {
        "colab": {
          "base_uri": "https://localhost:8080/",
          "height": 206
        },
        "id": "4SwuVKz-2XyU",
        "outputId": "3513df9e-048d-486e-bb54-e05f1ff3e4ca"
      },
      "outputs": [
        {
          "data": {
            "text/html": [
              "<div>\n",
              "<style scoped>\n",
              "    .dataframe tbody tr th:only-of-type {\n",
              "        vertical-align: middle;\n",
              "    }\n",
              "\n",
              "    .dataframe tbody tr th {\n",
              "        vertical-align: top;\n",
              "    }\n",
              "\n",
              "    .dataframe thead th {\n",
              "        text-align: right;\n",
              "    }\n",
              "</style>\n",
              "<table border=\"1\" class=\"dataframe\">\n",
              "  <thead>\n",
              "    <tr style=\"text-align: right;\">\n",
              "      <th></th>\n",
              "      <th>const</th>\n",
              "      <th>LOTE</th>\n",
              "      <th>CUARTOS</th>\n",
              "      <th>BANOS</th>\n",
              "      <th>PISOS</th>\n",
              "      <th>ENTRADA</th>\n",
              "      <th>REC</th>\n",
              "      <th>SOTANO</th>\n",
              "      <th>CALEF</th>\n",
              "      <th>AIRE</th>\n",
              "      <th>GARAGE</th>\n",
              "      <th>NBHD</th>\n",
              "    </tr>\n",
              "  </thead>\n",
              "  <tbody>\n",
              "    <tr>\n",
              "      <th>0</th>\n",
              "      <td>1.0</td>\n",
              "      <td>5850</td>\n",
              "      <td>3</td>\n",
              "      <td>1</td>\n",
              "      <td>2</td>\n",
              "      <td>1</td>\n",
              "      <td>0</td>\n",
              "      <td>1</td>\n",
              "      <td>0</td>\n",
              "      <td>0</td>\n",
              "      <td>1</td>\n",
              "      <td>0</td>\n",
              "    </tr>\n",
              "    <tr>\n",
              "      <th>1</th>\n",
              "      <td>1.0</td>\n",
              "      <td>4000</td>\n",
              "      <td>2</td>\n",
              "      <td>1</td>\n",
              "      <td>1</td>\n",
              "      <td>1</td>\n",
              "      <td>0</td>\n",
              "      <td>0</td>\n",
              "      <td>0</td>\n",
              "      <td>0</td>\n",
              "      <td>0</td>\n",
              "      <td>0</td>\n",
              "    </tr>\n",
              "    <tr>\n",
              "      <th>2</th>\n",
              "      <td>1.0</td>\n",
              "      <td>3060</td>\n",
              "      <td>3</td>\n",
              "      <td>1</td>\n",
              "      <td>1</td>\n",
              "      <td>1</td>\n",
              "      <td>0</td>\n",
              "      <td>0</td>\n",
              "      <td>0</td>\n",
              "      <td>0</td>\n",
              "      <td>0</td>\n",
              "      <td>0</td>\n",
              "    </tr>\n",
              "    <tr>\n",
              "      <th>3</th>\n",
              "      <td>1.0</td>\n",
              "      <td>6650</td>\n",
              "      <td>3</td>\n",
              "      <td>1</td>\n",
              "      <td>2</td>\n",
              "      <td>1</td>\n",
              "      <td>1</td>\n",
              "      <td>0</td>\n",
              "      <td>0</td>\n",
              "      <td>0</td>\n",
              "      <td>0</td>\n",
              "      <td>0</td>\n",
              "    </tr>\n",
              "    <tr>\n",
              "      <th>4</th>\n",
              "      <td>1.0</td>\n",
              "      <td>6360</td>\n",
              "      <td>2</td>\n",
              "      <td>1</td>\n",
              "      <td>1</td>\n",
              "      <td>1</td>\n",
              "      <td>0</td>\n",
              "      <td>0</td>\n",
              "      <td>0</td>\n",
              "      <td>0</td>\n",
              "      <td>0</td>\n",
              "      <td>0</td>\n",
              "    </tr>\n",
              "  </tbody>\n",
              "</table>\n",
              "</div>"
            ],
            "text/plain": [
              "   const  LOTE  CUARTOS  BANOS  PISOS  ENTRADA  REC  SOTANO  CALEF  AIRE  \\\n",
              "0    1.0  5850        3      1      2        1    0       1      0     0   \n",
              "1    1.0  4000        2      1      1        1    0       0      0     0   \n",
              "2    1.0  3060        3      1      1        1    0       0      0     0   \n",
              "3    1.0  6650        3      1      2        1    1       0      0     0   \n",
              "4    1.0  6360        2      1      1        1    0       0      0     0   \n",
              "\n",
              "   GARAGE  NBHD  \n",
              "0       1     0  \n",
              "1       0     0  \n",
              "2       0     0  \n",
              "3       0     0  \n",
              "4       0     0  "
            ]
          },
          "execution_count": 3,
          "metadata": {},
          "output_type": "execute_result"
        }
      ],
      "source": [
        "y = dfcasa['PRECIO']\n",
        "X = dfcasa.drop(columns='PRECIO')\n",
        "X = sm.add_constant(X)\n",
        "X.head()"
      ]
    },
    {
      "cell_type": "markdown",
      "metadata": {
        "id": "7vRH_xCW2XyU"
      },
      "source": [
        "### Corremos la regresión múltiple y observamos los valores resultantes:"
      ]
    },
    {
      "cell_type": "code",
      "execution_count": 4,
      "metadata": {
        "colab": {
          "base_uri": "https://localhost:8080/",
          "height": 700
        },
        "id": "j0YvovC92XyU",
        "outputId": "775aa041-a452-46f4-f6cf-d9b697994aa3"
      },
      "outputs": [
        {
          "data": {
            "text/html": [
              "<table class=\"simpletable\">\n",
              "<caption>OLS Regression Results</caption>\n",
              "<tr>\n",
              "  <th>Dep. Variable:</th>         <td>PRECIO</td>      <th>  R-squared:         </th> <td>   0.673</td> \n",
              "</tr>\n",
              "<tr>\n",
              "  <th>Model:</th>                   <td>OLS</td>       <th>  Adj. R-squared:    </th> <td>   0.666</td> \n",
              "</tr>\n",
              "<tr>\n",
              "  <th>Method:</th>             <td>Least Squares</td>  <th>  F-statistic:       </th> <td>   99.97</td> \n",
              "</tr>\n",
              "<tr>\n",
              "  <th>Date:</th>             <td>Wed, 20 Aug 2025</td> <th>  Prob (F-statistic):</th> <td>6.18e-122</td>\n",
              "</tr>\n",
              "<tr>\n",
              "  <th>Time:</th>                 <td>20:58:25</td>     <th>  Log-Likelihood:    </th> <td> -6034.1</td> \n",
              "</tr>\n",
              "<tr>\n",
              "  <th>No. Observations:</th>      <td>   546</td>      <th>  AIC:               </th> <td>1.209e+04</td>\n",
              "</tr>\n",
              "<tr>\n",
              "  <th>Df Residuals:</th>          <td>   534</td>      <th>  BIC:               </th> <td>1.214e+04</td>\n",
              "</tr>\n",
              "<tr>\n",
              "  <th>Df Model:</th>              <td>    11</td>      <th>                     </th>     <td> </td>    \n",
              "</tr>\n",
              "<tr>\n",
              "  <th>Covariance Type:</th>      <td>nonrobust</td>    <th>                     </th>     <td> </td>    \n",
              "</tr>\n",
              "</table>\n",
              "<table class=\"simpletable\">\n",
              "<tr>\n",
              "     <td></td>        <th>coef</th>     <th>std err</th>      <th>t</th>      <th>P>|t|</th>  <th>[0.025</th>    <th>0.975]</th>  \n",
              "</tr>\n",
              "<tr>\n",
              "  <th>const</th>   <td>-4038.3504</td> <td> 3409.471</td> <td>   -1.184</td> <td> 0.237</td> <td>-1.07e+04</td> <td> 2659.271</td>\n",
              "</tr>\n",
              "<tr>\n",
              "  <th>LOTE</th>    <td>    3.5463</td> <td>    0.350</td> <td>   10.124</td> <td> 0.000</td> <td>    2.858</td> <td>    4.234</td>\n",
              "</tr>\n",
              "<tr>\n",
              "  <th>CUARTOS</th> <td> 1832.0035</td> <td> 1047.000</td> <td>    1.750</td> <td> 0.081</td> <td> -224.741</td> <td> 3888.748</td>\n",
              "</tr>\n",
              "<tr>\n",
              "  <th>BANOS</th>   <td> 1.434e+04</td> <td> 1489.921</td> <td>    9.622</td> <td> 0.000</td> <td> 1.14e+04</td> <td> 1.73e+04</td>\n",
              "</tr>\n",
              "<tr>\n",
              "  <th>PISOS</th>   <td> 6556.9457</td> <td>  925.290</td> <td>    7.086</td> <td> 0.000</td> <td> 4739.291</td> <td> 8374.600</td>\n",
              "</tr>\n",
              "<tr>\n",
              "  <th>ENTRADA</th> <td> 6687.7789</td> <td> 2045.246</td> <td>    3.270</td> <td> 0.001</td> <td> 2670.065</td> <td> 1.07e+04</td>\n",
              "</tr>\n",
              "<tr>\n",
              "  <th>REC</th>     <td> 4511.2838</td> <td> 1899.958</td> <td>    2.374</td> <td> 0.018</td> <td>  778.976</td> <td> 8243.592</td>\n",
              "</tr>\n",
              "<tr>\n",
              "  <th>SOTANO</th>  <td> 5452.3855</td> <td> 1588.024</td> <td>    3.433</td> <td> 0.001</td> <td> 2332.845</td> <td> 8571.926</td>\n",
              "</tr>\n",
              "<tr>\n",
              "  <th>CALEF</th>   <td> 1.283e+04</td> <td> 3217.597</td> <td>    3.988</td> <td> 0.000</td> <td> 6510.706</td> <td> 1.92e+04</td>\n",
              "</tr>\n",
              "<tr>\n",
              "  <th>AIRE</th>    <td> 1.263e+04</td> <td> 1555.021</td> <td>    8.124</td> <td> 0.000</td> <td> 9578.182</td> <td> 1.57e+04</td>\n",
              "</tr>\n",
              "<tr>\n",
              "  <th>GARAGE</th>  <td> 4244.8290</td> <td>  840.544</td> <td>    5.050</td> <td> 0.000</td> <td> 2593.650</td> <td> 5896.008</td>\n",
              "</tr>\n",
              "<tr>\n",
              "  <th>NBHD</th>    <td> 9369.5132</td> <td> 1669.091</td> <td>    5.614</td> <td> 0.000</td> <td> 6090.724</td> <td> 1.26e+04</td>\n",
              "</tr>\n",
              "</table>\n",
              "<table class=\"simpletable\">\n",
              "<tr>\n",
              "  <th>Omnibus:</th>       <td>93.454</td> <th>  Durbin-Watson:     </th> <td>   1.604</td>\n",
              "</tr>\n",
              "<tr>\n",
              "  <th>Prob(Omnibus):</th> <td> 0.000</td> <th>  Jarque-Bera (JB):  </th> <td> 247.620</td>\n",
              "</tr>\n",
              "<tr>\n",
              "  <th>Skew:</th>          <td> 0.853</td> <th>  Prob(JB):          </th> <td>1.70e-54</td>\n",
              "</tr>\n",
              "<tr>\n",
              "  <th>Kurtosis:</th>      <td> 5.824</td> <th>  Cond. No.          </th> <td>3.07e+04</td>\n",
              "</tr>\n",
              "</table><br/><br/>Notes:<br/>[1] Standard Errors assume that the covariance matrix of the errors is correctly specified.<br/>[2] The condition number is large, 3.07e+04. This might indicate that there are<br/>strong multicollinearity or other numerical problems."
            ],
            "text/latex": [
              "\\begin{center}\n",
              "\\begin{tabular}{lclc}\n",
              "\\toprule\n",
              "\\textbf{Dep. Variable:}    &      PRECIO      & \\textbf{  R-squared:         } &     0.673   \\\\\n",
              "\\textbf{Model:}            &       OLS        & \\textbf{  Adj. R-squared:    } &     0.666   \\\\\n",
              "\\textbf{Method:}           &  Least Squares   & \\textbf{  F-statistic:       } &     99.97   \\\\\n",
              "\\textbf{Date:}             & Wed, 20 Aug 2025 & \\textbf{  Prob (F-statistic):} & 6.18e-122   \\\\\n",
              "\\textbf{Time:}             &     20:58:25     & \\textbf{  Log-Likelihood:    } &   -6034.1   \\\\\n",
              "\\textbf{No. Observations:} &         546      & \\textbf{  AIC:               } & 1.209e+04   \\\\\n",
              "\\textbf{Df Residuals:}     &         534      & \\textbf{  BIC:               } & 1.214e+04   \\\\\n",
              "\\textbf{Df Model:}         &          11      & \\textbf{                     } &             \\\\\n",
              "\\textbf{Covariance Type:}  &    nonrobust     & \\textbf{                     } &             \\\\\n",
              "\\bottomrule\n",
              "\\end{tabular}\n",
              "\\begin{tabular}{lcccccc}\n",
              "                 & \\textbf{coef} & \\textbf{std err} & \\textbf{t} & \\textbf{P$> |$t$|$} & \\textbf{[0.025} & \\textbf{0.975]}  \\\\\n",
              "\\midrule\n",
              "\\textbf{const}   &   -4038.3504  &     3409.471     &    -1.184  &         0.237        &    -1.07e+04    &     2659.271     \\\\\n",
              "\\textbf{LOTE}    &       3.5463  &        0.350     &    10.124  &         0.000        &        2.858    &        4.234     \\\\\n",
              "\\textbf{CUARTOS} &    1832.0035  &     1047.000     &     1.750  &         0.081        &     -224.741    &     3888.748     \\\\\n",
              "\\textbf{BANOS}   &    1.434e+04  &     1489.921     &     9.622  &         0.000        &     1.14e+04    &     1.73e+04     \\\\\n",
              "\\textbf{PISOS}   &    6556.9457  &      925.290     &     7.086  &         0.000        &     4739.291    &     8374.600     \\\\\n",
              "\\textbf{ENTRADA} &    6687.7789  &     2045.246     &     3.270  &         0.001        &     2670.065    &     1.07e+04     \\\\\n",
              "\\textbf{REC}     &    4511.2838  &     1899.958     &     2.374  &         0.018        &      778.976    &     8243.592     \\\\\n",
              "\\textbf{SOTANO}  &    5452.3855  &     1588.024     &     3.433  &         0.001        &     2332.845    &     8571.926     \\\\\n",
              "\\textbf{CALEF}   &    1.283e+04  &     3217.597     &     3.988  &         0.000        &     6510.706    &     1.92e+04     \\\\\n",
              "\\textbf{AIRE}    &    1.263e+04  &     1555.021     &     8.124  &         0.000        &     9578.182    &     1.57e+04     \\\\\n",
              "\\textbf{GARAGE}  &    4244.8290  &      840.544     &     5.050  &         0.000        &     2593.650    &     5896.008     \\\\\n",
              "\\textbf{NBHD}    &    9369.5132  &     1669.091     &     5.614  &         0.000        &     6090.724    &     1.26e+04     \\\\\n",
              "\\bottomrule\n",
              "\\end{tabular}\n",
              "\\begin{tabular}{lclc}\n",
              "\\textbf{Omnibus:}       & 93.454 & \\textbf{  Durbin-Watson:     } &    1.604  \\\\\n",
              "\\textbf{Prob(Omnibus):} &  0.000 & \\textbf{  Jarque-Bera (JB):  } &  247.620  \\\\\n",
              "\\textbf{Skew:}          &  0.853 & \\textbf{  Prob(JB):          } & 1.70e-54  \\\\\n",
              "\\textbf{Kurtosis:}      &  5.824 & \\textbf{  Cond. No.          } & 3.07e+04  \\\\\n",
              "\\bottomrule\n",
              "\\end{tabular}\n",
              "%\\caption{OLS Regression Results}\n",
              "\\end{center}\n",
              "\n",
              "Notes: \\newline\n",
              " [1] Standard Errors assume that the covariance matrix of the errors is correctly specified. \\newline\n",
              " [2] The condition number is large, 3.07e+04. This might indicate that there are \\newline\n",
              " strong multicollinearity or other numerical problems."
            ],
            "text/plain": [
              "<class 'statsmodels.iolib.summary.Summary'>\n",
              "\"\"\"\n",
              "                            OLS Regression Results                            \n",
              "==============================================================================\n",
              "Dep. Variable:                 PRECIO   R-squared:                       0.673\n",
              "Model:                            OLS   Adj. R-squared:                  0.666\n",
              "Method:                 Least Squares   F-statistic:                     99.97\n",
              "Date:                Wed, 20 Aug 2025   Prob (F-statistic):          6.18e-122\n",
              "Time:                        20:58:25   Log-Likelihood:                -6034.1\n",
              "No. Observations:                 546   AIC:                         1.209e+04\n",
              "Df Residuals:                     534   BIC:                         1.214e+04\n",
              "Df Model:                          11                                         \n",
              "Covariance Type:            nonrobust                                         \n",
              "==============================================================================\n",
              "                 coef    std err          t      P>|t|      [0.025      0.975]\n",
              "------------------------------------------------------------------------------\n",
              "const      -4038.3504   3409.471     -1.184      0.237   -1.07e+04    2659.271\n",
              "LOTE           3.5463      0.350     10.124      0.000       2.858       4.234\n",
              "CUARTOS     1832.0035   1047.000      1.750      0.081    -224.741    3888.748\n",
              "BANOS       1.434e+04   1489.921      9.622      0.000    1.14e+04    1.73e+04\n",
              "PISOS       6556.9457    925.290      7.086      0.000    4739.291    8374.600\n",
              "ENTRADA     6687.7789   2045.246      3.270      0.001    2670.065    1.07e+04\n",
              "REC         4511.2838   1899.958      2.374      0.018     778.976    8243.592\n",
              "SOTANO      5452.3855   1588.024      3.433      0.001    2332.845    8571.926\n",
              "CALEF       1.283e+04   3217.597      3.988      0.000    6510.706    1.92e+04\n",
              "AIRE        1.263e+04   1555.021      8.124      0.000    9578.182    1.57e+04\n",
              "GARAGE      4244.8290    840.544      5.050      0.000    2593.650    5896.008\n",
              "NBHD        9369.5132   1669.091      5.614      0.000    6090.724    1.26e+04\n",
              "==============================================================================\n",
              "Omnibus:                       93.454   Durbin-Watson:                   1.604\n",
              "Prob(Omnibus):                  0.000   Jarque-Bera (JB):              247.620\n",
              "Skew:                           0.853   Prob(JB):                     1.70e-54\n",
              "Kurtosis:                       5.824   Cond. No.                     3.07e+04\n",
              "==============================================================================\n",
              "\n",
              "Notes:\n",
              "[1] Standard Errors assume that the covariance matrix of the errors is correctly specified.\n",
              "[2] The condition number is large, 3.07e+04. This might indicate that there are\n",
              "strong multicollinearity or other numerical problems.\n",
              "\"\"\""
            ]
          },
          "execution_count": 4,
          "metadata": {},
          "output_type": "execute_result"
        }
      ],
      "source": [
        "regmul = sm.OLS(y, X).fit()\n",
        "regmul.summary()"
      ]
    },
    {
      "cell_type": "markdown",
      "metadata": {
        "id": "pVYou30z2XyU"
      },
      "source": [
        "### Realizamos el Test t para $H_0: \\beta_{\\text{AIRE}} = 10000$"
      ]
    },
    {
      "cell_type": "code",
      "execution_count": 5,
      "metadata": {
        "colab": {
          "base_uri": "https://localhost:8080/"
        },
        "id": "yTixYvzw2XyV",
        "outputId": "c0835c72-e291-4008-da4a-e90bf2ab602a"
      },
      "outputs": [
        {
          "name": "stdout",
          "output_type": "stream",
          "text": [
            "                             Test for Constraints                             \n",
            "==============================================================================\n",
            "                 coef    std err          t      P>|t|      [0.025      0.975]\n",
            "------------------------------------------------------------------------------\n",
            "c0          1.263e+04   1555.021      1.693      0.091    9578.182    1.57e+04\n",
            "==============================================================================\n"
          ]
        }
      ],
      "source": [
        "print(regmul.t_test(\"AIRE = 10000\"))"
      ]
    },
    {
      "cell_type": "markdown",
      "metadata": {
        "id": "jK4ye3ag2XyV"
      },
      "source": [
        "### Realizamos el Test F para\n",
        "\n",
        "$H_0: \\text{CALEF} = 0 \\text{ y AIRE} = 0$"
      ]
    },
    {
      "cell_type": "code",
      "execution_count": 6,
      "metadata": {
        "colab": {
          "base_uri": "https://localhost:8080/"
        },
        "id": "FNh2CxKb2XyV",
        "outputId": "5c9fbbdd-5ff7-4cd9-f6e5-e0363305c1c6"
      },
      "outputs": [
        {
          "name": "stdout",
          "output_type": "stream",
          "text": [
            "<F test: F=36.88875086741611, p=9.856033740435902e-16, df_denom=534, df_num=2>\n"
          ]
        }
      ],
      "source": [
        "print(regmul.f_test(\"CALEF = 0, AIRE = 0\"))"
      ]
    },
    {
      "cell_type": "markdown",
      "metadata": {
        "id": "Yx0HjsXY2XyV"
      },
      "source": [
        "### Intervalo de confianza del 95% para $\\beta_{LOTE}$"
      ]
    },
    {
      "cell_type": "code",
      "execution_count": 7,
      "metadata": {
        "colab": {
          "base_uri": "https://localhost:8080/"
        },
        "id": "TICNEW2_2XyV",
        "outputId": "500ccb9a-c9e6-47bc-92d1-7ccf1d89a3d1"
      },
      "outputs": [
        {
          "name": "stdout",
          "output_type": "stream",
          "text": [
            "0    2.858168\n",
            "1    4.234438\n",
            "Name: LOTE, dtype: float64\n"
          ]
        }
      ],
      "source": [
        "print(regmul.conf_int(alpha=0.05).loc[\"LOTE\"])"
      ]
    },
    {
      "cell_type": "markdown",
      "metadata": {
        "id": "oMrchQu22XyV"
      },
      "source": [
        "Queremos saber cuáles son las casas con al menos cuatro baños:"
      ]
    },
    {
      "cell_type": "code",
      "execution_count": 8,
      "metadata": {
        "colab": {
          "base_uri": "https://localhost:8080/",
          "height": 81
        },
        "id": "7o4r5nJe2XyV",
        "outputId": "6f5702b8-a398-437c-e3a8-99f23c446d4a"
      },
      "outputs": [
        {
          "data": {
            "text/html": [
              "<div>\n",
              "<style scoped>\n",
              "    .dataframe tbody tr th:only-of-type {\n",
              "        vertical-align: middle;\n",
              "    }\n",
              "\n",
              "    .dataframe tbody tr th {\n",
              "        vertical-align: top;\n",
              "    }\n",
              "\n",
              "    .dataframe thead th {\n",
              "        text-align: right;\n",
              "    }\n",
              "</style>\n",
              "<table border=\"1\" class=\"dataframe\">\n",
              "  <thead>\n",
              "    <tr style=\"text-align: right;\">\n",
              "      <th></th>\n",
              "      <th>PRECIO</th>\n",
              "      <th>LOTE</th>\n",
              "      <th>CUARTOS</th>\n",
              "      <th>BANOS</th>\n",
              "      <th>PISOS</th>\n",
              "      <th>ENTRADA</th>\n",
              "      <th>REC</th>\n",
              "      <th>SOTANO</th>\n",
              "      <th>CALEF</th>\n",
              "      <th>AIRE</th>\n",
              "      <th>GARAGE</th>\n",
              "      <th>NBHD</th>\n",
              "    </tr>\n",
              "  </thead>\n",
              "  <tbody>\n",
              "    <tr>\n",
              "      <th>331</th>\n",
              "      <td>175000</td>\n",
              "      <td>8960</td>\n",
              "      <td>4</td>\n",
              "      <td>4</td>\n",
              "      <td>4</td>\n",
              "      <td>1</td>\n",
              "      <td>0</td>\n",
              "      <td>0</td>\n",
              "      <td>0</td>\n",
              "      <td>1</td>\n",
              "      <td>3</td>\n",
              "      <td>0</td>\n",
              "    </tr>\n",
              "  </tbody>\n",
              "</table>\n",
              "</div>"
            ],
            "text/plain": [
              "     PRECIO  LOTE  CUARTOS  BANOS  PISOS  ENTRADA  REC  SOTANO  CALEF  AIRE  \\\n",
              "331  175000  8960        4      4      4        1    0       0      0     1   \n",
              "\n",
              "     GARAGE  NBHD  \n",
              "331       3     0  "
            ]
          },
          "execution_count": 8,
          "metadata": {},
          "output_type": "execute_result"
        }
      ],
      "source": [
        "dfcasa[dfcasa[\"BANOS\"] >= 4]"
      ]
    },
    {
      "cell_type": "markdown",
      "metadata": {
        "id": "H1EwiNJ-2XyV"
      },
      "source": [
        "En este caso hay exactamente una, la quitamos de la muestra:"
      ]
    },
    {
      "cell_type": "code",
      "execution_count": 9,
      "metadata": {
        "colab": {
          "base_uri": "https://localhost:8080/",
          "height": 210
        },
        "id": "g6IhJwkV2XyV",
        "outputId": "ebf64813-1430-463d-fd69-d90844ae65c2"
      },
      "outputs": [
        {
          "data": {
            "text/plain": [
              "BANOS\n",
              "1    402\n",
              "2    133\n",
              "3     10\n",
              "Name: count, dtype: int64"
            ]
          },
          "execution_count": 9,
          "metadata": {},
          "output_type": "execute_result"
        }
      ],
      "source": [
        "df_filtrado = dfcasa[dfcasa[\"BANOS\"] != 4].copy()\n",
        "df_filtrado.BANOS.value_counts()"
      ]
    },
    {
      "cell_type": "markdown",
      "metadata": {
        "id": "qHDf6lYx2XyW"
      },
      "source": [
        "Volvemos a correr el modelo, pero sin considerar la fila de la casa de 4 baños al momento de armar `y1` y `X1`"
      ]
    },
    {
      "cell_type": "code",
      "execution_count": 10,
      "metadata": {
        "colab": {
          "base_uri": "https://localhost:8080/",
          "height": 700
        },
        "id": "QNIiJSuV2XyW",
        "outputId": "7a54dea0-fc9b-43a5-8e29-ed28d6086fc5"
      },
      "outputs": [
        {
          "data": {
            "text/html": [
              "<table class=\"simpletable\">\n",
              "<caption>OLS Regression Results</caption>\n",
              "<tr>\n",
              "  <th>Dep. Variable:</th>         <td>PRECIO</td>      <th>  R-squared:         </th> <td>   0.665</td> \n",
              "</tr>\n",
              "<tr>\n",
              "  <th>Model:</th>                   <td>OLS</td>       <th>  Adj. R-squared:    </th> <td>   0.658</td> \n",
              "</tr>\n",
              "<tr>\n",
              "  <th>Method:</th>             <td>Least Squares</td>  <th>  F-statistic:       </th> <td>   96.14</td> \n",
              "</tr>\n",
              "<tr>\n",
              "  <th>Date:</th>             <td>Wed, 20 Aug 2025</td> <th>  Prob (F-statistic):</th> <td>7.67e-119</td>\n",
              "</tr>\n",
              "<tr>\n",
              "  <th>Time:</th>                 <td>20:58:25</td>     <th>  Log-Likelihood:    </th> <td> -6022.2</td> \n",
              "</tr>\n",
              "<tr>\n",
              "  <th>No. Observations:</th>      <td>   545</td>      <th>  AIC:               </th> <td>1.207e+04</td>\n",
              "</tr>\n",
              "<tr>\n",
              "  <th>Df Residuals:</th>          <td>   533</td>      <th>  BIC:               </th> <td>1.212e+04</td>\n",
              "</tr>\n",
              "<tr>\n",
              "  <th>Df Model:</th>              <td>    11</td>      <th>                     </th>     <td> </td>    \n",
              "</tr>\n",
              "<tr>\n",
              "  <th>Covariance Type:</th>      <td>nonrobust</td>    <th>                     </th>     <td> </td>    \n",
              "</tr>\n",
              "</table>\n",
              "<table class=\"simpletable\">\n",
              "<tr>\n",
              "     <td></td>        <th>coef</th>     <th>std err</th>      <th>t</th>      <th>P>|t|</th>  <th>[0.025</th>    <th>0.975]</th>  \n",
              "</tr>\n",
              "<tr>\n",
              "  <th>const</th>   <td>-3509.7393</td> <td> 3419.390</td> <td>   -1.026</td> <td> 0.305</td> <td>-1.02e+04</td> <td> 3207.395</td>\n",
              "</tr>\n",
              "<tr>\n",
              "  <th>LOTE</th>    <td>    3.5341</td> <td>    0.350</td> <td>   10.102</td> <td> 0.000</td> <td>    2.847</td> <td>    4.221</td>\n",
              "</tr>\n",
              "<tr>\n",
              "  <th>CUARTOS</th> <td> 1909.3244</td> <td> 1046.422</td> <td>    1.825</td> <td> 0.069</td> <td> -146.293</td> <td> 3964.941</td>\n",
              "</tr>\n",
              "<tr>\n",
              "  <th>BANOS</th>   <td> 1.383e+04</td> <td> 1519.347</td> <td>    9.102</td> <td> 0.000</td> <td> 1.08e+04</td> <td> 1.68e+04</td>\n",
              "</tr>\n",
              "<tr>\n",
              "  <th>PISOS</th>   <td> 6492.6879</td> <td>  924.670</td> <td>    7.022</td> <td> 0.000</td> <td> 4676.244</td> <td> 8309.132</td>\n",
              "</tr>\n",
              "<tr>\n",
              "  <th>ENTRADA</th> <td> 6722.7877</td> <td> 2042.146</td> <td>    3.292</td> <td> 0.001</td> <td> 2711.146</td> <td> 1.07e+04</td>\n",
              "</tr>\n",
              "<tr>\n",
              "  <th>REC</th>     <td> 4623.2425</td> <td> 1898.206</td> <td>    2.436</td> <td> 0.015</td> <td>  894.360</td> <td> 8352.125</td>\n",
              "</tr>\n",
              "<tr>\n",
              "  <th>SOTANO</th>  <td> 5506.6270</td> <td> 1585.876</td> <td>    3.472</td> <td> 0.001</td> <td> 2391.293</td> <td> 8621.961</td>\n",
              "</tr>\n",
              "<tr>\n",
              "  <th>CALEF</th>   <td>   1.3e+04</td> <td> 3214.103</td> <td>    4.043</td> <td> 0.000</td> <td> 6681.465</td> <td> 1.93e+04</td>\n",
              "</tr>\n",
              "<tr>\n",
              "  <th>AIRE</th>    <td> 1.262e+04</td> <td> 1552.591</td> <td>    8.130</td> <td> 0.000</td> <td> 9572.753</td> <td> 1.57e+04</td>\n",
              "</tr>\n",
              "<tr>\n",
              "  <th>GARAGE</th>  <td> 4139.8173</td> <td>  841.671</td> <td>    4.919</td> <td> 0.000</td> <td> 2486.418</td> <td> 5793.216</td>\n",
              "</tr>\n",
              "<tr>\n",
              "  <th>NBHD</th>    <td> 9469.9610</td> <td> 1667.598</td> <td>    5.679</td> <td> 0.000</td> <td> 6194.090</td> <td> 1.27e+04</td>\n",
              "</tr>\n",
              "</table>\n",
              "<table class=\"simpletable\">\n",
              "<tr>\n",
              "  <th>Omnibus:</th>       <td>97.367</td> <th>  Durbin-Watson:     </th> <td>   1.595</td>\n",
              "</tr>\n",
              "<tr>\n",
              "  <th>Prob(Omnibus):</th> <td> 0.000</td> <th>  Jarque-Bera (JB):  </th> <td> 263.699</td>\n",
              "</tr>\n",
              "<tr>\n",
              "  <th>Skew:</th>          <td> 0.881</td> <th>  Prob(JB):          </th> <td>5.48e-58</td>\n",
              "</tr>\n",
              "<tr>\n",
              "  <th>Kurtosis:</th>      <td> 5.917</td> <th>  Cond. No.          </th> <td>3.08e+04</td>\n",
              "</tr>\n",
              "</table><br/><br/>Notes:<br/>[1] Standard Errors assume that the covariance matrix of the errors is correctly specified.<br/>[2] The condition number is large, 3.08e+04. This might indicate that there are<br/>strong multicollinearity or other numerical problems."
            ],
            "text/latex": [
              "\\begin{center}\n",
              "\\begin{tabular}{lclc}\n",
              "\\toprule\n",
              "\\textbf{Dep. Variable:}    &      PRECIO      & \\textbf{  R-squared:         } &     0.665   \\\\\n",
              "\\textbf{Model:}            &       OLS        & \\textbf{  Adj. R-squared:    } &     0.658   \\\\\n",
              "\\textbf{Method:}           &  Least Squares   & \\textbf{  F-statistic:       } &     96.14   \\\\\n",
              "\\textbf{Date:}             & Wed, 20 Aug 2025 & \\textbf{  Prob (F-statistic):} & 7.67e-119   \\\\\n",
              "\\textbf{Time:}             &     20:58:25     & \\textbf{  Log-Likelihood:    } &   -6022.2   \\\\\n",
              "\\textbf{No. Observations:} &         545      & \\textbf{  AIC:               } & 1.207e+04   \\\\\n",
              "\\textbf{Df Residuals:}     &         533      & \\textbf{  BIC:               } & 1.212e+04   \\\\\n",
              "\\textbf{Df Model:}         &          11      & \\textbf{                     } &             \\\\\n",
              "\\textbf{Covariance Type:}  &    nonrobust     & \\textbf{                     } &             \\\\\n",
              "\\bottomrule\n",
              "\\end{tabular}\n",
              "\\begin{tabular}{lcccccc}\n",
              "                 & \\textbf{coef} & \\textbf{std err} & \\textbf{t} & \\textbf{P$> |$t$|$} & \\textbf{[0.025} & \\textbf{0.975]}  \\\\\n",
              "\\midrule\n",
              "\\textbf{const}   &   -3509.7393  &     3419.390     &    -1.026  &         0.305        &    -1.02e+04    &     3207.395     \\\\\n",
              "\\textbf{LOTE}    &       3.5341  &        0.350     &    10.102  &         0.000        &        2.847    &        4.221     \\\\\n",
              "\\textbf{CUARTOS} &    1909.3244  &     1046.422     &     1.825  &         0.069        &     -146.293    &     3964.941     \\\\\n",
              "\\textbf{BANOS}   &    1.383e+04  &     1519.347     &     9.102  &         0.000        &     1.08e+04    &     1.68e+04     \\\\\n",
              "\\textbf{PISOS}   &    6492.6879  &      924.670     &     7.022  &         0.000        &     4676.244    &     8309.132     \\\\\n",
              "\\textbf{ENTRADA} &    6722.7877  &     2042.146     &     3.292  &         0.001        &     2711.146    &     1.07e+04     \\\\\n",
              "\\textbf{REC}     &    4623.2425  &     1898.206     &     2.436  &         0.015        &      894.360    &     8352.125     \\\\\n",
              "\\textbf{SOTANO}  &    5506.6270  &     1585.876     &     3.472  &         0.001        &     2391.293    &     8621.961     \\\\\n",
              "\\textbf{CALEF}   &      1.3e+04  &     3214.103     &     4.043  &         0.000        &     6681.465    &     1.93e+04     \\\\\n",
              "\\textbf{AIRE}    &    1.262e+04  &     1552.591     &     8.130  &         0.000        &     9572.753    &     1.57e+04     \\\\\n",
              "\\textbf{GARAGE}  &    4139.8173  &      841.671     &     4.919  &         0.000        &     2486.418    &     5793.216     \\\\\n",
              "\\textbf{NBHD}    &    9469.9610  &     1667.598     &     5.679  &         0.000        &     6194.090    &     1.27e+04     \\\\\n",
              "\\bottomrule\n",
              "\\end{tabular}\n",
              "\\begin{tabular}{lclc}\n",
              "\\textbf{Omnibus:}       & 97.367 & \\textbf{  Durbin-Watson:     } &    1.595  \\\\\n",
              "\\textbf{Prob(Omnibus):} &  0.000 & \\textbf{  Jarque-Bera (JB):  } &  263.699  \\\\\n",
              "\\textbf{Skew:}          &  0.881 & \\textbf{  Prob(JB):          } & 5.48e-58  \\\\\n",
              "\\textbf{Kurtosis:}      &  5.917 & \\textbf{  Cond. No.          } & 3.08e+04  \\\\\n",
              "\\bottomrule\n",
              "\\end{tabular}\n",
              "%\\caption{OLS Regression Results}\n",
              "\\end{center}\n",
              "\n",
              "Notes: \\newline\n",
              " [1] Standard Errors assume that the covariance matrix of the errors is correctly specified. \\newline\n",
              " [2] The condition number is large, 3.08e+04. This might indicate that there are \\newline\n",
              " strong multicollinearity or other numerical problems."
            ],
            "text/plain": [
              "<class 'statsmodels.iolib.summary.Summary'>\n",
              "\"\"\"\n",
              "                            OLS Regression Results                            \n",
              "==============================================================================\n",
              "Dep. Variable:                 PRECIO   R-squared:                       0.665\n",
              "Model:                            OLS   Adj. R-squared:                  0.658\n",
              "Method:                 Least Squares   F-statistic:                     96.14\n",
              "Date:                Wed, 20 Aug 2025   Prob (F-statistic):          7.67e-119\n",
              "Time:                        20:58:25   Log-Likelihood:                -6022.2\n",
              "No. Observations:                 545   AIC:                         1.207e+04\n",
              "Df Residuals:                     533   BIC:                         1.212e+04\n",
              "Df Model:                          11                                         \n",
              "Covariance Type:            nonrobust                                         \n",
              "==============================================================================\n",
              "                 coef    std err          t      P>|t|      [0.025      0.975]\n",
              "------------------------------------------------------------------------------\n",
              "const      -3509.7393   3419.390     -1.026      0.305   -1.02e+04    3207.395\n",
              "LOTE           3.5341      0.350     10.102      0.000       2.847       4.221\n",
              "CUARTOS     1909.3244   1046.422      1.825      0.069    -146.293    3964.941\n",
              "BANOS       1.383e+04   1519.347      9.102      0.000    1.08e+04    1.68e+04\n",
              "PISOS       6492.6879    924.670      7.022      0.000    4676.244    8309.132\n",
              "ENTRADA     6722.7877   2042.146      3.292      0.001    2711.146    1.07e+04\n",
              "REC         4623.2425   1898.206      2.436      0.015     894.360    8352.125\n",
              "SOTANO      5506.6270   1585.876      3.472      0.001    2391.293    8621.961\n",
              "CALEF         1.3e+04   3214.103      4.043      0.000    6681.465    1.93e+04\n",
              "AIRE        1.262e+04   1552.591      8.130      0.000    9572.753    1.57e+04\n",
              "GARAGE      4139.8173    841.671      4.919      0.000    2486.418    5793.216\n",
              "NBHD        9469.9610   1667.598      5.679      0.000    6194.090    1.27e+04\n",
              "==============================================================================\n",
              "Omnibus:                       97.367   Durbin-Watson:                   1.595\n",
              "Prob(Omnibus):                  0.000   Jarque-Bera (JB):              263.699\n",
              "Skew:                           0.881   Prob(JB):                     5.48e-58\n",
              "Kurtosis:                       5.917   Cond. No.                     3.08e+04\n",
              "==============================================================================\n",
              "\n",
              "Notes:\n",
              "[1] Standard Errors assume that the covariance matrix of the errors is correctly specified.\n",
              "[2] The condition number is large, 3.08e+04. This might indicate that there are\n",
              "strong multicollinearity or other numerical problems.\n",
              "\"\"\""
            ]
          },
          "execution_count": 10,
          "metadata": {},
          "output_type": "execute_result"
        }
      ],
      "source": [
        "y1 = df_filtrado['PRECIO']\n",
        "X1 = sm.add_constant(df_filtrado.drop(columns='PRECIO'))\n",
        "regMenos4 = sm.OLS(y1, X1).fit()\n",
        "regMenos4.summary()"
      ]
    },
    {
      "cell_type": "markdown",
      "metadata": {
        "id": "O2iewVoL2XyW"
      },
      "source": [
        "### Creamos _dummies_ para exactamente 2 y exactamente 3 baños.\n",
        "\n",
        "(Al convertir un valor booleano como ¿Tiene exactamente 2 baños? o `df_filtrado['BANOS'] == 2` a un valor de tipo int con `.astype(int)`, vamos a obtener 1 si es verdadero y 0 si no.)"
      ]
    },
    {
      "cell_type": "code",
      "execution_count": 11,
      "metadata": {
        "colab": {
          "base_uri": "https://localhost:8080/",
          "height": 300
        },
        "id": "dRvT1-Nv2XyW",
        "outputId": "ca97a247-4452-4040-bc53-4384af3df255"
      },
      "outputs": [
        {
          "data": {
            "text/html": [
              "<div>\n",
              "<style scoped>\n",
              "    .dataframe tbody tr th:only-of-type {\n",
              "        vertical-align: middle;\n",
              "    }\n",
              "\n",
              "    .dataframe tbody tr th {\n",
              "        vertical-align: top;\n",
              "    }\n",
              "\n",
              "    .dataframe thead th {\n",
              "        text-align: right;\n",
              "    }\n",
              "</style>\n",
              "<table border=\"1\" class=\"dataframe\">\n",
              "  <thead>\n",
              "    <tr style=\"text-align: right;\">\n",
              "      <th></th>\n",
              "      <th>PRECIO</th>\n",
              "      <th>LOTE</th>\n",
              "      <th>CUARTOS</th>\n",
              "      <th>BANOS</th>\n",
              "      <th>PISOS</th>\n",
              "      <th>ENTRADA</th>\n",
              "      <th>REC</th>\n",
              "      <th>SOTANO</th>\n",
              "      <th>CALEF</th>\n",
              "      <th>AIRE</th>\n",
              "      <th>GARAGE</th>\n",
              "      <th>NBHD</th>\n",
              "      <th>DB2</th>\n",
              "      <th>DB3</th>\n",
              "    </tr>\n",
              "  </thead>\n",
              "  <tbody>\n",
              "    <tr>\n",
              "      <th>0</th>\n",
              "      <td>42000</td>\n",
              "      <td>5850</td>\n",
              "      <td>3</td>\n",
              "      <td>1</td>\n",
              "      <td>2</td>\n",
              "      <td>1</td>\n",
              "      <td>0</td>\n",
              "      <td>1</td>\n",
              "      <td>0</td>\n",
              "      <td>0</td>\n",
              "      <td>1</td>\n",
              "      <td>0</td>\n",
              "      <td>0</td>\n",
              "      <td>0</td>\n",
              "    </tr>\n",
              "    <tr>\n",
              "      <th>1</th>\n",
              "      <td>38500</td>\n",
              "      <td>4000</td>\n",
              "      <td>2</td>\n",
              "      <td>1</td>\n",
              "      <td>1</td>\n",
              "      <td>1</td>\n",
              "      <td>0</td>\n",
              "      <td>0</td>\n",
              "      <td>0</td>\n",
              "      <td>0</td>\n",
              "      <td>0</td>\n",
              "      <td>0</td>\n",
              "      <td>0</td>\n",
              "      <td>0</td>\n",
              "    </tr>\n",
              "    <tr>\n",
              "      <th>2</th>\n",
              "      <td>49500</td>\n",
              "      <td>3060</td>\n",
              "      <td>3</td>\n",
              "      <td>1</td>\n",
              "      <td>1</td>\n",
              "      <td>1</td>\n",
              "      <td>0</td>\n",
              "      <td>0</td>\n",
              "      <td>0</td>\n",
              "      <td>0</td>\n",
              "      <td>0</td>\n",
              "      <td>0</td>\n",
              "      <td>0</td>\n",
              "      <td>0</td>\n",
              "    </tr>\n",
              "    <tr>\n",
              "      <th>3</th>\n",
              "      <td>60500</td>\n",
              "      <td>6650</td>\n",
              "      <td>3</td>\n",
              "      <td>1</td>\n",
              "      <td>2</td>\n",
              "      <td>1</td>\n",
              "      <td>1</td>\n",
              "      <td>0</td>\n",
              "      <td>0</td>\n",
              "      <td>0</td>\n",
              "      <td>0</td>\n",
              "      <td>0</td>\n",
              "      <td>0</td>\n",
              "      <td>0</td>\n",
              "    </tr>\n",
              "    <tr>\n",
              "      <th>4</th>\n",
              "      <td>61000</td>\n",
              "      <td>6360</td>\n",
              "      <td>2</td>\n",
              "      <td>1</td>\n",
              "      <td>1</td>\n",
              "      <td>1</td>\n",
              "      <td>0</td>\n",
              "      <td>0</td>\n",
              "      <td>0</td>\n",
              "      <td>0</td>\n",
              "      <td>0</td>\n",
              "      <td>0</td>\n",
              "      <td>0</td>\n",
              "      <td>0</td>\n",
              "    </tr>\n",
              "    <tr>\n",
              "      <th>5</th>\n",
              "      <td>66000</td>\n",
              "      <td>4160</td>\n",
              "      <td>3</td>\n",
              "      <td>1</td>\n",
              "      <td>1</td>\n",
              "      <td>1</td>\n",
              "      <td>1</td>\n",
              "      <td>1</td>\n",
              "      <td>0</td>\n",
              "      <td>1</td>\n",
              "      <td>0</td>\n",
              "      <td>0</td>\n",
              "      <td>0</td>\n",
              "      <td>0</td>\n",
              "    </tr>\n",
              "    <tr>\n",
              "      <th>6</th>\n",
              "      <td>66000</td>\n",
              "      <td>3880</td>\n",
              "      <td>3</td>\n",
              "      <td>2</td>\n",
              "      <td>2</td>\n",
              "      <td>1</td>\n",
              "      <td>0</td>\n",
              "      <td>1</td>\n",
              "      <td>0</td>\n",
              "      <td>0</td>\n",
              "      <td>2</td>\n",
              "      <td>0</td>\n",
              "      <td>1</td>\n",
              "      <td>0</td>\n",
              "    </tr>\n",
              "    <tr>\n",
              "      <th>7</th>\n",
              "      <td>69000</td>\n",
              "      <td>4160</td>\n",
              "      <td>3</td>\n",
              "      <td>1</td>\n",
              "      <td>3</td>\n",
              "      <td>1</td>\n",
              "      <td>0</td>\n",
              "      <td>0</td>\n",
              "      <td>0</td>\n",
              "      <td>0</td>\n",
              "      <td>0</td>\n",
              "      <td>0</td>\n",
              "      <td>0</td>\n",
              "      <td>0</td>\n",
              "    </tr>\n",
              "  </tbody>\n",
              "</table>\n",
              "</div>"
            ],
            "text/plain": [
              "   PRECIO  LOTE  CUARTOS  BANOS  PISOS  ENTRADA  REC  SOTANO  CALEF  AIRE  \\\n",
              "0   42000  5850        3      1      2        1    0       1      0     0   \n",
              "1   38500  4000        2      1      1        1    0       0      0     0   \n",
              "2   49500  3060        3      1      1        1    0       0      0     0   \n",
              "3   60500  6650        3      1      2        1    1       0      0     0   \n",
              "4   61000  6360        2      1      1        1    0       0      0     0   \n",
              "5   66000  4160        3      1      1        1    1       1      0     1   \n",
              "6   66000  3880        3      2      2        1    0       1      0     0   \n",
              "7   69000  4160        3      1      3        1    0       0      0     0   \n",
              "\n",
              "   GARAGE  NBHD  DB2  DB3  \n",
              "0       1     0    0    0  \n",
              "1       0     0    0    0  \n",
              "2       0     0    0    0  \n",
              "3       0     0    0    0  \n",
              "4       0     0    0    0  \n",
              "5       0     0    0    0  \n",
              "6       2     0    1    0  \n",
              "7       0     0    0    0  "
            ]
          },
          "execution_count": 11,
          "metadata": {},
          "output_type": "execute_result"
        }
      ],
      "source": [
        "df_filtrado['DB2'] = (df_filtrado['BANOS'] == 2).astype(int)\n",
        "df_filtrado['DB3'] = (df_filtrado['BANOS'] == 3).astype(int)\n",
        "df_filtrado.head(8)"
      ]
    },
    {
      "cell_type": "markdown",
      "metadata": {
        "id": "hnzFyevp2XyW"
      },
      "source": [
        "- Construyo mi `X` con la columna de unos y sin el acumulado de baños ni el Precio (`y`) para correr nuevamente el modelo con las dummies."
      ]
    },
    {
      "cell_type": "code",
      "execution_count": 12,
      "metadata": {
        "colab": {
          "base_uri": "https://localhost:8080/"
        },
        "id": "xIRJG3jh2XyW",
        "outputId": "ceca85c1-1a00-4982-8e6c-0e986125cc45"
      },
      "outputs": [
        {
          "name": "stdout",
          "output_type": "stream",
          "text": [
            "                            OLS Regression Results                            \n",
            "==============================================================================\n",
            "Dep. Variable:                 PRECIO   R-squared:                       0.665\n",
            "Model:                            OLS   Adj. R-squared:                  0.657\n",
            "Method:                 Least Squares   F-statistic:                     88.01\n",
            "Date:                Wed, 20 Aug 2025   Prob (F-statistic):          7.04e-118\n",
            "Time:                        20:58:25   Log-Likelihood:                -6022.1\n",
            "No. Observations:                 545   AIC:                         1.207e+04\n",
            "Df Residuals:                     532   BIC:                         1.213e+04\n",
            "Df Model:                          12                                         \n",
            "Covariance Type:            nonrobust                                         \n",
            "==============================================================================\n",
            "                 coef    std err          t      P>|t|      [0.025      0.975]\n",
            "------------------------------------------------------------------------------\n",
            "const       1.031e+04   3464.573      2.976      0.003    3503.032    1.71e+04\n",
            "LOTE           3.5268      0.351     10.062      0.000       2.838       4.215\n",
            "CUARTOS     1902.8737   1047.336      1.817      0.070    -154.547    3960.295\n",
            "PISOS       6527.3156    928.943      7.027      0.000    4702.469    8352.162\n",
            "ENTRADA     6747.2925   2044.525      3.300      0.001    2730.960    1.08e+04\n",
            "REC         4623.6067   1899.665      2.434      0.015     891.842    8355.371\n",
            "SOTANO      5521.0982   1587.458      3.478      0.001    2402.642    8639.554\n",
            "CALEF       1.302e+04   3217.108      4.047      0.000    6700.508    1.93e+04\n",
            "AIRE         1.27e+04   1563.394      8.121      0.000    9625.256    1.58e+04\n",
            "GARAGE      4141.7535    842.330      4.917      0.000    2487.052    5796.455\n",
            "NBHD        9496.8991   1670.077      5.687      0.000    6216.144    1.28e+04\n",
            "DB2         1.348e+04   1726.361      7.809      0.000    1.01e+04    1.69e+04\n",
            "DB3         2.939e+04   5079.824      5.786      0.000    1.94e+04    3.94e+04\n",
            "==============================================================================\n",
            "Omnibus:                       97.932   Durbin-Watson:                   1.597\n",
            "Prob(Omnibus):                  0.000   Jarque-Bera (JB):              268.530\n",
            "Skew:                           0.882   Prob(JB):                     4.89e-59\n",
            "Kurtosis:                       5.952   Cond. No.                     4.35e+04\n",
            "==============================================================================\n",
            "\n",
            "Notes:\n",
            "[1] Standard Errors assume that the covariance matrix of the errors is correctly specified.\n",
            "[2] The condition number is large, 4.35e+04. This might indicate that there are\n",
            "strong multicollinearity or other numerical problems.\n"
          ]
        }
      ],
      "source": [
        "X2 = sm.add_constant(df_filtrado.drop(columns=['PRECIO', 'BANOS']))\n",
        "regdummy = sm.OLS(y1, X2).fit()\n",
        "print(regdummy.summary())"
      ]
    },
    {
      "cell_type": "markdown",
      "metadata": {
        "id": "REc1yksn2XyW"
      },
      "source": [
        "Test F para `DB3` $= 2 *$ `DB2`"
      ]
    },
    {
      "cell_type": "code",
      "execution_count": 13,
      "metadata": {
        "colab": {
          "base_uri": "https://localhost:8080/"
        },
        "id": "XFpeUpSb2XyW",
        "outputId": "b935167e-ef4a-4b5d-b576-8d497f4034ee"
      },
      "outputs": [
        {
          "name": "stdout",
          "output_type": "stream",
          "text": [
            "<F test: F=0.18151291728592758, p=0.6702485908495301, df_denom=532, df_num=1>\n"
          ]
        }
      ],
      "source": [
        "print(regdummy.f_test(\"DB3 = 2 * DB2\"))"
      ]
    },
    {
      "cell_type": "markdown",
      "metadata": {
        "id": "kQftT4a42XyW"
      },
      "source": [
        "### Utilizando la sintaxis de `statsmodel.formula.api`:"
      ]
    },
    {
      "cell_type": "code",
      "execution_count": 14,
      "metadata": {
        "colab": {
          "base_uri": "https://localhost:8080/"
        },
        "id": "_IU5O3Y42XyW",
        "outputId": "896adce1-507c-4d8b-8258-6a5ef7fa0254"
      },
      "outputs": [
        {
          "name": "stdout",
          "output_type": "stream",
          "text": [
            "                            OLS Regression Results                            \n",
            "==============================================================================\n",
            "Dep. Variable:                 PRECIO   R-squared:                       0.665\n",
            "Model:                            OLS   Adj. R-squared:                  0.657\n",
            "Method:                 Least Squares   F-statistic:                     88.01\n",
            "Date:                Wed, 20 Aug 2025   Prob (F-statistic):          7.04e-118\n",
            "Time:                        20:58:25   Log-Likelihood:                -6022.1\n",
            "No. Observations:                 545   AIC:                         1.207e+04\n",
            "Df Residuals:                     532   BIC:                         1.213e+04\n",
            "Df Model:                          12                                         \n",
            "Covariance Type:            nonrobust                                         \n",
            "=================================================================================\n",
            "                    coef    std err          t      P>|t|      [0.025      0.975]\n",
            "---------------------------------------------------------------------------------\n",
            "Intercept      1.031e+04   3464.573      2.976      0.003    3503.032    1.71e+04\n",
            "C(BANOS)[T.2]  1.348e+04   1726.361      7.809      0.000    1.01e+04    1.69e+04\n",
            "C(BANOS)[T.3]  2.939e+04   5079.824      5.786      0.000    1.94e+04    3.94e+04\n",
            "LOTE              3.5268      0.351     10.062      0.000       2.838       4.215\n",
            "CUARTOS        1902.8737   1047.336      1.817      0.070    -154.547    3960.295\n",
            "PISOS          6527.3156    928.943      7.027      0.000    4702.469    8352.162\n",
            "ENTRADA        6747.2925   2044.525      3.300      0.001    2730.960    1.08e+04\n",
            "REC            4623.6067   1899.665      2.434      0.015     891.842    8355.371\n",
            "SOTANO         5521.0982   1587.458      3.478      0.001    2402.642    8639.554\n",
            "CALEF          1.302e+04   3217.108      4.047      0.000    6700.508    1.93e+04\n",
            "AIRE            1.27e+04   1563.394      8.121      0.000    9625.256    1.58e+04\n",
            "GARAGE         4141.7535    842.330      4.917      0.000    2487.052    5796.455\n",
            "NBHD           9496.8991   1670.077      5.687      0.000    6216.144    1.28e+04\n",
            "==============================================================================\n",
            "Omnibus:                       97.932   Durbin-Watson:                   1.597\n",
            "Prob(Omnibus):                  0.000   Jarque-Bera (JB):              268.530\n",
            "Skew:                           0.882   Prob(JB):                     4.89e-59\n",
            "Kurtosis:                       5.952   Cond. No.                     4.35e+04\n",
            "==============================================================================\n",
            "\n",
            "Notes:\n",
            "[1] Standard Errors assume that the covariance matrix of the errors is correctly specified.\n",
            "[2] The condition number is large, 4.35e+04. This might indicate that there are\n",
            "strong multicollinearity or other numerical problems.\n"
          ]
        }
      ],
      "source": [
        "regsmf = smf.ols('PRECIO ~ LOTE + CUARTOS + C(BANOS) + PISOS + ENTRADA + REC + SOTANO + CALEF + AIRE + GARAGE + NBHD', data=df_filtrado).fit()\n",
        "print(regsmf.summary())"
      ]
    },
    {
      "cell_type": "code",
      "execution_count": 15,
      "metadata": {
        "colab": {
          "base_uri": "https://localhost:8080/"
        },
        "id": "pu3FJIwy2XyW",
        "outputId": "913f1a18-266f-4e93-c304-264921c73ba7"
      },
      "outputs": [
        {
          "name": "stdout",
          "output_type": "stream",
          "text": [
            "<F test: F=60.98075593837508, p=3.087247239772811e-14, df_denom=532, df_num=1>\n",
            "['Intercept', 'C(BANOS)[T.2]', 'C(BANOS)[T.3]', 'LOTE', 'CUARTOS', 'PISOS', 'ENTRADA', 'REC', 'SOTANO', 'CALEF', 'AIRE', 'GARAGE', 'NBHD']\n",
            "<F test: F=0.18151291728666552, p=0.6702485908488229, df_denom=532, df_num=1>\n"
          ]
        }
      ],
      "source": [
        "print(regsmf.f_test('C(BANOS)[T.2] = 0'))\n",
        "\n",
        "print(regsmf.params.index.tolist())\n",
        "\n",
        "print(regsmf.f_test(\"C(BANOS)[T.3] = 2 * C(BANOS)[T.2]\"))"
      ]
    },
    {
      "cell_type": "markdown",
      "metadata": {
        "id": "AoTtFMqC2XyX"
      },
      "source": [
        "En `stats.formula.api` los operadores tienen fines específicos:\n",
        "- `x1:x2` incluye solo la interacción pura entre `x1` y `x2`.\n",
        "\n",
        "- `x1*x2` incluye `x1`, `x2` y `x1:x2` (interacción)\n",
        "\n",
        "- `x1 + x2` incluye efectos principales de `x1` y `x2`.\n",
        "\n",
        "Entonces si hacemos la regresión con `PRECIO ~ LOTE + CUARTOS + LOTE:NBHD`\n",
        "\n",
        "`PRECIO` será la variable dependiente y `LOTE + CUARTOS` los efectos de esas variables junto a los de `LOTE:NBHD`, que es la interacción pura de `LOTE` y `NBHD`. Veamos sus resultados:"
      ]
    },
    {
      "cell_type": "code",
      "execution_count": 16,
      "metadata": {
        "colab": {
          "base_uri": "https://localhost:8080/"
        },
        "id": "PBfppSPw2XyX",
        "outputId": "ef9e7438-c4d2-4b01-b45c-391a9349f788"
      },
      "outputs": [
        {
          "name": "stdout",
          "output_type": "stream",
          "text": [
            "                            OLS Regression Results                            \n",
            "==============================================================================\n",
            "Dep. Variable:                 PRECIO   R-squared:                       0.406\n",
            "Model:                            OLS   Adj. R-squared:                  0.403\n",
            "Method:                 Least Squares   F-statistic:                     123.6\n",
            "Date:                Wed, 20 Aug 2025   Prob (F-statistic):           5.15e-61\n",
            "Time:                        20:58:25   Log-Likelihood:                -6197.0\n",
            "No. Observations:                 546   AIC:                         1.240e+04\n",
            "Df Residuals:                     542   BIC:                         1.242e+04\n",
            "Df Model:                           3                                         \n",
            "Covariance Type:            nonrobust                                         \n",
            "==============================================================================\n",
            "                 coef    std err          t      P>|t|      [0.025      0.975]\n",
            "------------------------------------------------------------------------------\n",
            "Intercept   9043.5973   4032.019      2.243      0.025    1123.298     1.7e+04\n",
            "LOTE           4.9498      0.455     10.877      0.000       4.056       5.844\n",
            "CUARTOS     1.037e+04   1213.063      8.549      0.000    7987.189    1.28e+04\n",
            "LOTE:NBHD      1.9931      0.348      5.735      0.000       1.310       2.676\n",
            "==============================================================================\n",
            "Omnibus:                       81.380   Durbin-Watson:                   1.189\n",
            "Prob(Omnibus):                  0.000   Jarque-Bera (JB):              143.275\n",
            "Skew:                           0.896   Prob(JB):                     7.73e-32\n",
            "Kurtosis:                       4.757   Cond. No.                     2.79e+04\n",
            "==============================================================================\n",
            "\n",
            "Notes:\n",
            "[1] Standard Errors assume that the covariance matrix of the errors is correctly specified.\n",
            "[2] The condition number is large, 2.79e+04. This might indicate that there are\n",
            "strong multicollinearity or other numerical problems.\n",
            "<F test: F=32.892542793429904, p=1.6200080563654516e-08, df_denom=542, df_num=1>\n"
          ]
        }
      ],
      "source": [
        "regpura = smf.ols('PRECIO ~ LOTE + CUARTOS + LOTE:NBHD ', data= dfcasa).fit()\n",
        "print(regpura.summary())\n",
        "print(regpura.f_test('LOTE:NBHD = 0'))"
      ]
    },
    {
      "cell_type": "markdown",
      "metadata": {
        "id": "unYihkmT2XyX"
      },
      "source": [
        "La fórmula `PRECIO ~  CUARTOS + LOTE*NBHD` incorpora el operador `*` en `LOTE*NBHD`, que significa las variables y las interacciones."
      ]
    },
    {
      "cell_type": "code",
      "execution_count": 17,
      "metadata": {
        "colab": {
          "base_uri": "https://localhost:8080/"
        },
        "id": "pIg5mhOh2XyX",
        "outputId": "9b05faaa-47a5-4b63-f6e7-a10d75d5ff3f"
      },
      "outputs": [
        {
          "name": "stdout",
          "output_type": "stream",
          "text": [
            "                            OLS Regression Results                            \n",
            "==============================================================================\n",
            "Dep. Variable:                 PRECIO   R-squared:                       0.409\n",
            "Model:                            OLS   Adj. R-squared:                  0.405\n",
            "Method:                 Least Squares   F-statistic:                     93.70\n",
            "Date:                Wed, 20 Aug 2025   Prob (F-statistic):           1.62e-60\n",
            "Time:                        20:58:25   Log-Likelihood:                -6195.6\n",
            "No. Observations:                 546   AIC:                         1.240e+04\n",
            "Df Residuals:                     541   BIC:                         1.242e+04\n",
            "Df Model:                           4                                         \n",
            "Covariance Type:            nonrobust                                         \n",
            "==============================================================================\n",
            "                 coef    std err          t      P>|t|      [0.025      0.975]\n",
            "------------------------------------------------------------------------------\n",
            "Intercept   7294.7262   4163.014      1.752      0.080    -882.925    1.55e+04\n",
            "CUARTOS     1.027e+04   1212.646      8.470      0.000    7888.478    1.27e+04\n",
            "LOTE           5.3083      0.504     10.539      0.000       4.319       6.298\n",
            "NBHD        9343.4224   5666.371      1.649      0.100   -1787.362    2.05e+04\n",
            "LOTE:NBHD      0.5926      0.917      0.646      0.519      -1.210       2.395\n",
            "==============================================================================\n",
            "Omnibus:                       84.951   Durbin-Watson:                   1.188\n",
            "Prob(Omnibus):                  0.000   Jarque-Bera (JB):              151.614\n",
            "Skew:                           0.925   Prob(JB):                     1.20e-33\n",
            "Kurtosis:                       4.801   Cond. No.                     3.94e+04\n",
            "==============================================================================\n",
            "\n",
            "Notes:\n",
            "[1] Standard Errors assume that the covariance matrix of the errors is correctly specified.\n",
            "[2] The condition number is large, 3.94e+04. This might indicate that there are\n",
            "strong multicollinearity or other numerical problems.\n",
            "<F test: F=17.85790812392248, p=3.0879947302894795e-08, df_denom=541, df_num=2>\n"
          ]
        }
      ],
      "source": [
        "regprod = smf.ols('PRECIO ~  CUARTOS + LOTE*NBHD ', data= dfcasa).fit()\n",
        "print(regprod.summary())\n",
        "print(regprod.f_test('NBHD=0 , LOTE:NBHD = 0'))"
      ]
    },
    {
      "cell_type": "code",
      "execution_count": 18,
      "metadata": {
        "colab": {
          "base_uri": "https://localhost:8080/"
        },
        "id": "Nae08xzZ2XyY",
        "outputId": "82dc35f3-6330-43b2-e324-d089abddeb7f"
      },
      "outputs": [
        {
          "name": "stdout",
          "output_type": "stream",
          "text": [
            "                            OLS Regression Results                            \n",
            "==============================================================================\n",
            "Dep. Variable:                 PRECIO   R-squared:                       0.554\n",
            "Model:                            OLS   Adj. R-squared:                  0.542\n",
            "Method:                 Least Squares   F-statistic:                     43.95\n",
            "Date:                Wed, 20 Aug 2025   Prob (F-statistic):           7.00e-83\n",
            "Time:                        20:58:25   Log-Likelihood:                -6118.7\n",
            "No. Observations:                 546   AIC:                         1.227e+04\n",
            "Df Residuals:                     530   BIC:                         1.234e+04\n",
            "Df Model:                          15                                         \n",
            "Covariance Type:            nonrobust                                         \n",
            "===========================================================================================\n",
            "                              coef    std err          t      P>|t|      [0.025      0.975]\n",
            "-------------------------------------------------------------------------------------------\n",
            "Intercept                4.846e+04    2.5e+04      1.941      0.053    -588.528    9.75e+04\n",
            "LOTE                       -9.0943      4.594     -1.980      0.048     -18.119      -0.069\n",
            "CUARTOS                 -1554.6727   7522.147     -0.207      0.836   -1.63e+04    1.32e+04\n",
            "LOTE:CUARTOS                2.7230      1.355      2.009      0.045       0.061       5.385\n",
            "BANOS                   -2.519e+04    1.9e+04     -1.324      0.186   -6.26e+04    1.22e+04\n",
            "LOTE:BANOS                 12.3728      3.319      3.728      0.000       5.852      18.893\n",
            "CUARTOS:BANOS            6857.7073   5023.797      1.365      0.173   -3011.291    1.67e+04\n",
            "LOTE:CUARTOS:BANOS         -2.4788      0.806     -3.076      0.002      -4.062      -0.896\n",
            "NBHD                     1.078e+05   9.22e+04      1.169      0.243   -7.34e+04    2.89e+05\n",
            "LOTE:NBHD                 -15.9586     13.773     -1.159      0.247     -43.015      11.097\n",
            "CUARTOS:NBHD            -3.351e+04   2.85e+04     -1.176      0.240   -8.95e+04    2.25e+04\n",
            "LOTE:CUARTOS:NBHD           5.6795      4.216      1.347      0.179      -2.603      13.962\n",
            "BANOS:NBHD              -6.859e+04   7.72e+04     -0.889      0.375    -2.2e+05    8.31e+04\n",
            "LOTE:BANOS:NBHD             9.4800     11.333      0.836      0.403     -12.783      31.744\n",
            "CUARTOS:BANOS:NBHD       2.271e+04   2.25e+04      1.011      0.313   -2.14e+04    6.68e+04\n",
            "LOTE:CUARTOS:BANOS:NBHD    -3.2479      3.249     -1.000      0.318      -9.630       3.134\n",
            "==============================================================================\n",
            "Omnibus:                       87.663   Durbin-Watson:                   1.465\n",
            "Prob(Omnibus):                  0.000   Jarque-Bera (JB):              200.477\n",
            "Skew:                           0.852   Prob(JB):                     2.93e-44\n",
            "Kurtosis:                       5.430   Cond. No.                     5.87e+06\n",
            "==============================================================================\n",
            "\n",
            "Notes:\n",
            "[1] Standard Errors assume that the covariance matrix of the errors is correctly specified.\n",
            "[2] The condition number is large, 5.87e+06. This might indicate that there are\n",
            "strong multicollinearity or other numerical problems.\n"
          ]
        }
      ],
      "source": [
        "regprod2 = smf.ols('PRECIO ~  LOTE*CUARTOS*BANOS*NBHD ', data= dfcasa).fit()\n",
        "print(regprod2.summary())"
      ]
    },
    {
      "cell_type": "markdown",
      "metadata": {
        "id": "cDti4Gng2XyY"
      },
      "source": [
        "## Análisis general de los valores de otra regresión:"
      ]
    },
    {
      "cell_type": "code",
      "execution_count": 19,
      "metadata": {
        "colab": {
          "base_uri": "https://localhost:8080/"
        },
        "id": "9-y5vOdF2XyY",
        "outputId": "e0626521-6e2d-4aa7-8bb5-e1601e990362"
      },
      "outputs": [
        {
          "name": "stdout",
          "output_type": "stream",
          "text": [
            "                            OLS Regression Results                            \n",
            "==============================================================================\n",
            "Dep. Variable:                 PRECIO   R-squared:                       0.673\n",
            "Model:                            OLS   Adj. R-squared:                  0.666\n",
            "Method:                 Least Squares   F-statistic:                     99.97\n",
            "Date:                Wed, 20 Aug 2025   Prob (F-statistic):          6.18e-122\n",
            "Time:                        20:58:25   Log-Likelihood:                -6034.1\n",
            "No. Observations:                 546   AIC:                         1.209e+04\n",
            "Df Residuals:                     534   BIC:                         1.214e+04\n",
            "Df Model:                          11                                         \n",
            "Covariance Type:            nonrobust                                         \n",
            "==============================================================================\n",
            "                 coef    std err          t      P>|t|      [0.025      0.975]\n",
            "------------------------------------------------------------------------------\n",
            "Intercept  -4038.3504   3409.471     -1.184      0.237   -1.07e+04    2659.271\n",
            "LOTE           3.5463      0.350     10.124      0.000       2.858       4.234\n",
            "CUARTOS     1832.0035   1047.000      1.750      0.081    -224.741    3888.748\n",
            "BANOS       1.434e+04   1489.921      9.622      0.000    1.14e+04    1.73e+04\n",
            "PISOS       6556.9457    925.290      7.086      0.000    4739.291    8374.600\n",
            "ENTRADA     6687.7789   2045.246      3.270      0.001    2670.065    1.07e+04\n",
            "REC         4511.2838   1899.958      2.374      0.018     778.976    8243.592\n",
            "SOTANO      5452.3855   1588.024      3.433      0.001    2332.845    8571.926\n",
            "CALEF       1.283e+04   3217.597      3.988      0.000    6510.706    1.92e+04\n",
            "AIRE        1.263e+04   1555.021      8.124      0.000    9578.182    1.57e+04\n",
            "GARAGE      4244.8290    840.544      5.050      0.000    2593.650    5896.008\n",
            "NBHD        9369.5132   1669.091      5.614      0.000    6090.724    1.26e+04\n",
            "==============================================================================\n",
            "Omnibus:                       93.454   Durbin-Watson:                   1.604\n",
            "Prob(Omnibus):                  0.000   Jarque-Bera (JB):              247.620\n",
            "Skew:                           0.853   Prob(JB):                     1.70e-54\n",
            "Kurtosis:                       5.824   Cond. No.                     3.07e+04\n",
            "==============================================================================\n",
            "\n",
            "Notes:\n",
            "[1] Standard Errors assume that the covariance matrix of the errors is correctly specified.\n",
            "[2] The condition number is large, 3.07e+04. This might indicate that there are\n",
            "strong multicollinearity or other numerical problems.\n"
          ]
        }
      ],
      "source": [
        "regsums = smf.ols('PRECIO ~ LOTE + CUARTOS + BANOS + PISOS + ENTRADA + REC + SOTANO + CALEF + AIRE + GARAGE + NBHD', data=dfcasa).fit()\n",
        "print(regsums.summary())"
      ]
    },
    {
      "cell_type": "markdown",
      "metadata": {
        "id": "wHSH5nyd2XyY"
      },
      "source": [
        "### Intercepto y pendientes"
      ]
    },
    {
      "cell_type": "code",
      "execution_count": 20,
      "metadata": {
        "colab": {
          "base_uri": "https://localhost:8080/",
          "height": 460
        },
        "id": "P--2PFZD2XyY",
        "outputId": "1c6c0785-7e6c-4cef-8d07-74374ca308c5"
      },
      "outputs": [
        {
          "data": {
            "text/plain": [
              "Intercept    -4038.350425\n",
              "LOTE             3.546303\n",
              "CUARTOS       1832.003466\n",
              "BANOS        14335.558468\n",
              "PISOS         6556.945711\n",
              "ENTRADA       6687.778890\n",
              "REC           4511.283826\n",
              "SOTANO        5452.385539\n",
              "CALEF        12831.406266\n",
              "AIRE         12632.890405\n",
              "GARAGE        4244.829004\n",
              "NBHD          9369.513239\n",
              "dtype: float64"
            ]
          },
          "execution_count": 20,
          "metadata": {},
          "output_type": "execute_result"
        }
      ],
      "source": [
        "intercepto = regsums.params['Intercept']\n",
        "pendiente_LOTE = regsums.params['LOTE']\n",
        "regsums.params"
      ]
    },
    {
      "cell_type": "markdown",
      "metadata": {
        "id": "w9CcUFh92XyY"
      },
      "source": [
        "### Descomposición de la suma de cuadrados\n",
        "\n",
        "$\n",
        "\\text{RSS} = \\text{TSS} - \\text{ESS}\n",
        "$"
      ]
    },
    {
      "cell_type": "code",
      "execution_count": 21,
      "metadata": {
        "colab": {
          "base_uri": "https://localhost:8080/"
        },
        "id": "h8TjNJZb2XyY",
        "outputId": "9280d522-4d05-4845-eb9d-3b2de06b6748"
      },
      "outputs": [
        {
          "name": "stdout",
          "output_type": "stream",
          "text": [
            "TSS: 388602785841.3553 \n",
            "ESS: 261577714196.8873 \n",
            "RSS: 127025071644.46799 \n",
            "Suma ESS+RSS = 388602785841.3553\n"
          ]
        }
      ],
      "source": [
        "tss = regsums.centered_tss\n",
        "ess = regsums.ess\n",
        "rss = regsums.ssr\n",
        "print(f\"TSS: {tss} \\nESS: {ess} \\nRSS: {rss} \\nSuma ESS+RSS = {ess + rss}\")"
      ]
    },
    {
      "cell_type": "markdown",
      "metadata": {
        "id": "p-Jxhem12XyY"
      },
      "source": [
        "### $R^2$"
      ]
    },
    {
      "cell_type": "code",
      "execution_count": 22,
      "metadata": {
        "colab": {
          "base_uri": "https://localhost:8080/"
        },
        "id": "kXCJK2C92XyY",
        "outputId": "327e0a0c-1f32-42ce-8cdc-aab0214741b1"
      },
      "outputs": [
        {
          "data": {
            "text/plain": [
              "np.float64(0.6731236206414506)"
            ]
          },
          "execution_count": 22,
          "metadata": {},
          "output_type": "execute_result"
        }
      ],
      "source": [
        "regsums.rsquared"
      ]
    },
    {
      "cell_type": "code",
      "execution_count": 23,
      "metadata": {
        "colab": {
          "base_uri": "https://localhost:8080/"
        },
        "id": "eSBCa19i2XyZ",
        "outputId": "1d518fd4-4079-46fd-8d17-47221d3b5433"
      },
      "outputs": [
        {
          "data": {
            "text/plain": [
              "np.float64(0.6731236206414506)"
            ]
          },
          "execution_count": 23,
          "metadata": {},
          "output_type": "execute_result"
        }
      ],
      "source": [
        "ess/tss"
      ]
    },
    {
      "cell_type": "code",
      "execution_count": 24,
      "metadata": {
        "colab": {
          "base_uri": "https://localhost:8080/"
        },
        "id": "sKYEmatZ2XyZ",
        "outputId": "ff20e374-a743-4241-f92e-bcce58a51ec2"
      },
      "outputs": [
        {
          "data": {
            "text/plain": [
              "np.float64(0.6731236206414506)"
            ]
          },
          "execution_count": 24,
          "metadata": {},
          "output_type": "execute_result"
        }
      ],
      "source": [
        "1 - rss / tss"
      ]
    },
    {
      "cell_type": "markdown",
      "metadata": {
        "id": "sxVPhYGO2XyZ"
      },
      "source": [
        "### Estimador $s^2$ del parámetro $\\sigma^2$"
      ]
    },
    {
      "cell_type": "code",
      "execution_count": 25,
      "metadata": {
        "colab": {
          "base_uri": "https://localhost:8080/"
        },
        "id": "cvTygO3Z2XyZ",
        "outputId": "dc6951b5-ac1a-48e9-caff-b76dd84faf52"
      },
      "outputs": [
        {
          "data": {
            "text/plain": [
              "np.float64(237874666.00087637)"
            ]
          },
          "execution_count": 25,
          "metadata": {},
          "output_type": "execute_result"
        }
      ],
      "source": [
        "regsums.scale"
      ]
    },
    {
      "cell_type": "code",
      "execution_count": 26,
      "metadata": {
        "colab": {
          "base_uri": "https://localhost:8080/"
        },
        "id": "T34b-yt92XyZ",
        "outputId": "bf0f92fa-e84c-4600-c3f7-edb8796a547b"
      },
      "outputs": [
        {
          "data": {
            "text/plain": [
              "np.float64(237874666.00087637)"
            ]
          },
          "execution_count": 26,
          "metadata": {},
          "output_type": "execute_result"
        }
      ],
      "source": [
        "rss/regsums.df_resid"
      ]
    },
    {
      "cell_type": "markdown",
      "metadata": {
        "id": "asP-sAFq2XyZ"
      },
      "source": [
        "Solemos usar la raiz cuadrada de este estadistico, i.e., el desvio estandar estimado de los errores $\\sigma$:"
      ]
    },
    {
      "cell_type": "code",
      "execution_count": 27,
      "metadata": {
        "colab": {
          "base_uri": "https://localhost:8080/"
        },
        "id": "O06GBstF2XyZ",
        "outputId": "fab1af6c-3c01-4edc-e523-8f184ecb112e"
      },
      "outputs": [
        {
          "data": {
            "text/plain": [
              "np.float64(15423.185987365787)"
            ]
          },
          "execution_count": 27,
          "metadata": {},
          "output_type": "execute_result"
        }
      ],
      "source": [
        "np.sqrt(regsums.scale)"
      ]
    },
    {
      "cell_type": "markdown",
      "metadata": {
        "id": "vZ3Eopra2XyZ"
      },
      "source": [
        "Verificamos que los residuos suman (aproximadamente) cero"
      ]
    },
    {
      "cell_type": "code",
      "execution_count": 28,
      "metadata": {
        "colab": {
          "base_uri": "https://localhost:8080/"
        },
        "id": "h-nunBAj2XyZ",
        "outputId": "9ec0e144-6883-4b1d-be2e-bc2a873ea6e1"
      },
      "outputs": [
        {
          "data": {
            "text/plain": [
              "np.float64(1.82189978659153e-08)"
            ]
          },
          "execution_count": 28,
          "metadata": {},
          "output_type": "execute_result"
        }
      ],
      "source": [
        "regsums.resid.sum()"
      ]
    },
    {
      "cell_type": "code",
      "execution_count": 29,
      "metadata": {
        "colab": {
          "base_uri": "https://localhost:8080/"
        },
        "id": "Ykhng5Tq2XyZ",
        "outputId": "51f86c0e-aa63-4a0f-b38c-9a983cc29cdc"
      },
      "outputs": [
        {
          "name": "stdout",
          "output_type": "stream",
          "text": [
            "0.00015275180339813232\n",
            "4.9156369641423225e-08\n",
            "2.2439053282141685e-08\n"
          ]
        }
      ],
      "source": [
        "print(np.dot(regsums.model.exog[:, 1], regsums.resid))\n",
        "print(np.dot(regsums.model.exog[:, 2], regsums.resid))\n",
        "print(np.dot(regsums.model.exog[:, 3], regsums.resid))"
      ]
    },
    {
      "cell_type": "markdown",
      "metadata": {
        "id": "04laYw8a2XyZ"
      },
      "source": [
        "###  Matriz de varianzas y Covarianzas de los beta_sombrero $\\hat{\\beta}$"
      ]
    },
    {
      "cell_type": "code",
      "execution_count": 30,
      "metadata": {
        "colab": {
          "base_uri": "https://localhost:8080/"
        },
        "id": "aFLVTfQj2XyZ",
        "outputId": "da73bc56-a48f-4229-d744-0b70d631cfd2"
      },
      "outputs": [
        {
          "data": {
            "text/plain": [
              "np.float64(-37257.28943368957)"
            ]
          },
          "execution_count": 30,
          "metadata": {},
          "output_type": "execute_result"
        }
      ],
      "source": [
        "var_beta = regsums.cov_params()\n",
        "regsums.cov_params().iloc[2,11]\n",
        "regsums.cov_params().loc['CUARTOS','NBHD']"
      ]
    },
    {
      "cell_type": "markdown",
      "metadata": {
        "id": "lCZAJPsV2Xya"
      },
      "source": [
        "Los valores de la segunda columna los invocamos com `regsums.bse`"
      ]
    },
    {
      "cell_type": "code",
      "execution_count": 31,
      "metadata": {
        "colab": {
          "base_uri": "https://localhost:8080/",
          "height": 460
        },
        "id": "VcmiEBm-2Xya",
        "outputId": "395b12db-4a4a-4403-fa12-1c01c1c90f66"
      },
      "outputs": [
        {
          "data": {
            "text/plain": [
              "Intercept    3409.471300\n",
              "LOTE            0.350300\n",
              "CUARTOS      1047.000220\n",
              "BANOS        1489.920852\n",
              "PISOS         925.289906\n",
              "ENTRADA      2045.245829\n",
              "REC          1899.957691\n",
              "SOTANO       1588.023899\n",
              "CALEF        3217.597061\n",
              "AIRE         1555.021065\n",
              "GARAGE        840.544182\n",
              "NBHD         1669.090660\n",
              "dtype: float64"
            ]
          },
          "execution_count": 31,
          "metadata": {},
          "output_type": "execute_result"
        }
      ],
      "source": [
        "regsums.bse"
      ]
    },
    {
      "cell_type": "code",
      "execution_count": 32,
      "metadata": {
        "colab": {
          "base_uri": "https://localhost:8080/"
        },
        "id": "BCLQOBVn2Xya",
        "outputId": "1fbec57b-6e15-4e3e-a4dd-c4d5af64541b"
      },
      "outputs": [
        {
          "data": {
            "text/plain": [
              "np.float64(0.3502999554477839)"
            ]
          },
          "execution_count": 32,
          "metadata": {},
          "output_type": "execute_result"
        }
      ],
      "source": [
        "regsums.bse['LOTE']"
      ]
    },
    {
      "cell_type": "code",
      "execution_count": 33,
      "metadata": {
        "colab": {
          "base_uri": "https://localhost:8080/"
        },
        "id": "omWGSzXq2Xya",
        "outputId": "7af46ea4-16d8-4714-9ff8-2098fc6f70bf"
      },
      "outputs": [
        {
          "data": {
            "text/plain": [
              "np.float64(0.3502999554477839)"
            ]
          },
          "execution_count": 33,
          "metadata": {},
          "output_type": "execute_result"
        }
      ],
      "source": [
        "regsums.cov_params().iloc[1,1]**0.5"
      ]
    },
    {
      "cell_type": "markdown",
      "metadata": {
        "id": "ePt724ay2Xya"
      },
      "source": [
        "### t-stats y P values IC para los parámetros"
      ]
    },
    {
      "cell_type": "code",
      "execution_count": 34,
      "metadata": {
        "colab": {
          "base_uri": "https://localhost:8080/",
          "height": 460
        },
        "id": "gkpI1s9c2Xyb",
        "outputId": "144a237f-d71d-4905-ee9a-19234019e256"
      },
      "outputs": [
        {
          "data": {
            "text/plain": [
              "Intercept    -1.184451\n",
              "LOTE         10.123618\n",
              "CUARTOS       1.749764\n",
              "BANOS         9.621691\n",
              "PISOS         7.086369\n",
              "ENTRADA       3.269914\n",
              "REC           2.374413\n",
              "SOTANO        3.433440\n",
              "CALEF         3.987885\n",
              "AIRE          8.123935\n",
              "GARAGE        5.050096\n",
              "NBHD          5.613544\n",
              "dtype: float64"
            ]
          },
          "execution_count": 34,
          "metadata": {},
          "output_type": "execute_result"
        }
      ],
      "source": [
        "regsums.tvalues"
      ]
    },
    {
      "cell_type": "code",
      "execution_count": 35,
      "metadata": {
        "colab": {
          "base_uri": "https://localhost:8080/",
          "height": 460
        },
        "id": "IJAWbDUG2Xyb",
        "outputId": "bcf31ff0-c205-40d1-8f8e-ff9e0a6835ed"
      },
      "outputs": [
        {
          "data": {
            "text/plain": [
              "Intercept    2.367616e-01\n",
              "LOTE         3.732442e-22\n",
              "CUARTOS      8.073341e-02\n",
              "BANOS        2.570369e-20\n",
              "PISOS        4.374046e-12\n",
              "ENTRADA      1.145151e-03\n",
              "REC          1.792936e-02\n",
              "SOTANO       6.422381e-04\n",
              "CALEF        7.595575e-05\n",
              "AIRE         3.150681e-15\n",
              "GARAGE       6.069790e-07\n",
              "NBHD         3.189602e-08\n",
              "dtype: float64"
            ]
          },
          "execution_count": 35,
          "metadata": {},
          "output_type": "execute_result"
        }
      ],
      "source": [
        "regsums.pvalues"
      ]
    },
    {
      "cell_type": "markdown",
      "metadata": {
        "id": "CgdMDVxV2Xyb"
      },
      "source": [
        "IC 95%"
      ]
    },
    {
      "cell_type": "code",
      "execution_count": 36,
      "metadata": {
        "colab": {
          "base_uri": "https://localhost:8080/",
          "height": 426
        },
        "id": "_DjbGlEG2Xyb",
        "outputId": "722d582f-726f-4d8d-d96f-d343bf13b743"
      },
      "outputs": [
        {
          "data": {
            "text/html": [
              "<div>\n",
              "<style scoped>\n",
              "    .dataframe tbody tr th:only-of-type {\n",
              "        vertical-align: middle;\n",
              "    }\n",
              "\n",
              "    .dataframe tbody tr th {\n",
              "        vertical-align: top;\n",
              "    }\n",
              "\n",
              "    .dataframe thead th {\n",
              "        text-align: right;\n",
              "    }\n",
              "</style>\n",
              "<table border=\"1\" class=\"dataframe\">\n",
              "  <thead>\n",
              "    <tr style=\"text-align: right;\">\n",
              "      <th></th>\n",
              "      <th>0</th>\n",
              "      <th>1</th>\n",
              "    </tr>\n",
              "  </thead>\n",
              "  <tbody>\n",
              "    <tr>\n",
              "      <th>Intercept</th>\n",
              "      <td>-10735.971609</td>\n",
              "      <td>2659.270758</td>\n",
              "    </tr>\n",
              "    <tr>\n",
              "      <th>LOTE</th>\n",
              "      <td>2.858168</td>\n",
              "      <td>4.234438</td>\n",
              "    </tr>\n",
              "    <tr>\n",
              "      <th>CUARTOS</th>\n",
              "      <td>-224.740890</td>\n",
              "      <td>3888.747822</td>\n",
              "    </tr>\n",
              "    <tr>\n",
              "      <th>BANOS</th>\n",
              "      <td>11408.733579</td>\n",
              "      <td>17262.383357</td>\n",
              "    </tr>\n",
              "    <tr>\n",
              "      <th>PISOS</th>\n",
              "      <td>4739.291087</td>\n",
              "      <td>8374.600336</td>\n",
              "    </tr>\n",
              "    <tr>\n",
              "      <th>ENTRADA</th>\n",
              "      <td>2670.064534</td>\n",
              "      <td>10705.493247</td>\n",
              "    </tr>\n",
              "    <tr>\n",
              "      <th>REC</th>\n",
              "      <td>778.975864</td>\n",
              "      <td>8243.591788</td>\n",
              "    </tr>\n",
              "    <tr>\n",
              "      <th>SOTANO</th>\n",
              "      <td>2332.845419</td>\n",
              "      <td>8571.925660</td>\n",
              "    </tr>\n",
              "    <tr>\n",
              "      <th>CALEF</th>\n",
              "      <td>6510.705975</td>\n",
              "      <td>19152.106558</td>\n",
              "    </tr>\n",
              "    <tr>\n",
              "      <th>AIRE</th>\n",
              "      <td>9578.181593</td>\n",
              "      <td>15687.599216</td>\n",
              "    </tr>\n",
              "    <tr>\n",
              "      <th>GARAGE</th>\n",
              "      <td>2593.650266</td>\n",
              "      <td>5896.007742</td>\n",
              "    </tr>\n",
              "    <tr>\n",
              "      <th>NBHD</th>\n",
              "      <td>6090.724248</td>\n",
              "      <td>12648.302230</td>\n",
              "    </tr>\n",
              "  </tbody>\n",
              "</table>\n",
              "</div>"
            ],
            "text/plain": [
              "                      0             1\n",
              "Intercept -10735.971609   2659.270758\n",
              "LOTE           2.858168      4.234438\n",
              "CUARTOS     -224.740890   3888.747822\n",
              "BANOS      11408.733579  17262.383357\n",
              "PISOS       4739.291087   8374.600336\n",
              "ENTRADA     2670.064534  10705.493247\n",
              "REC          778.975864   8243.591788\n",
              "SOTANO      2332.845419   8571.925660\n",
              "CALEF       6510.705975  19152.106558\n",
              "AIRE        9578.181593  15687.599216\n",
              "GARAGE      2593.650266   5896.007742\n",
              "NBHD        6090.724248  12648.302230"
            ]
          },
          "execution_count": 36,
          "metadata": {},
          "output_type": "execute_result"
        }
      ],
      "source": [
        "regsums.conf_int(alpha=0.05)"
      ]
    },
    {
      "cell_type": "code",
      "execution_count": 37,
      "metadata": {
        "colab": {
          "base_uri": "https://localhost:8080/",
          "height": 147
        },
        "id": "Hikv04tk2Xyb",
        "outputId": "a6218500-805b-4204-901c-440b1119b658"
      },
      "outputs": [
        {
          "data": {
            "text/plain": [
              "0    2.858168\n",
              "1    4.234438\n",
              "Name: LOTE, dtype: float64"
            ]
          },
          "execution_count": 37,
          "metadata": {},
          "output_type": "execute_result"
        }
      ],
      "source": [
        "regsums.conf_int(alpha=0.05).loc['LOTE']"
      ]
    },
    {
      "cell_type": "markdown",
      "metadata": {
        "id": "BrbLLL1P2Xyc"
      },
      "source": [
        "### Fitted values y Residuos"
      ]
    },
    {
      "cell_type": "code",
      "execution_count": 38,
      "metadata": {
        "colab": {
          "base_uri": "https://localhost:8080/",
          "height": 345
        },
        "id": "grsZCP2S2Xyc",
        "outputId": "59eaf09b-d19a-48ba-e9be-103230f11842"
      },
      "outputs": [
        {
          "name": "stdout",
          "output_type": "stream",
          "text": [
            "0    66037.975672\n",
            "1    41391.151457\n",
            "2    39889.630131\n",
            "3    63689.087331\n",
            "4    49760.426466\n",
            "dtype: float64\n"
          ]
        },
        {
          "data": {
            "text/plain": [
              "0   -24037.975672\n",
              "1    -2891.151457\n",
              "2     9610.369869\n",
              "3    -3189.087331\n",
              "4    11239.573534\n",
              "dtype: float64"
            ]
          },
          "execution_count": 38,
          "metadata": {},
          "output_type": "execute_result"
        }
      ],
      "source": [
        "y_hat7 = regsums.fittedvalues\n",
        "print(y_hat7.head())\n",
        "regsums.resid.head()"
      ]
    },
    {
      "cell_type": "markdown",
      "metadata": {
        "id": "cPhwi7zz2Xyc"
      },
      "source": [
        "###  Corroboramos que\n",
        "\n",
        "$R^2 = (corr(y,\\hat{y})^2)$"
      ]
    },
    {
      "cell_type": "code",
      "execution_count": 39,
      "metadata": {
        "colab": {
          "base_uri": "https://localhost:8080/"
        },
        "id": "2LmLPRX42Xyc",
        "outputId": "d05c4775-1fae-4bdc-db55-7d7334b1a5f7"
      },
      "outputs": [
        {
          "data": {
            "text/plain": [
              "np.float64(0.8204411134514473)"
            ]
          },
          "execution_count": 39,
          "metadata": {},
          "output_type": "execute_result"
        }
      ],
      "source": [
        "np.corrcoef(y, y_hat7)[0, 1]"
      ]
    },
    {
      "cell_type": "code",
      "execution_count": 40,
      "metadata": {
        "colab": {
          "base_uri": "https://localhost:8080/"
        },
        "id": "BEJ8idWv2Xyc",
        "outputId": "ab6c2f24-6940-4fad-cc87-bacd76c36af5"
      },
      "outputs": [
        {
          "data": {
            "text/plain": [
              "np.float64(0.6731236206414507)"
            ]
          },
          "execution_count": 40,
          "metadata": {},
          "output_type": "execute_result"
        }
      ],
      "source": [
        "np.corrcoef(y, y_hat7)[0, 1] ** 2"
      ]
    },
    {
      "cell_type": "code",
      "execution_count": 41,
      "metadata": {
        "colab": {
          "base_uri": "https://localhost:8080/"
        },
        "id": "1JhBEBio2Xyc",
        "outputId": "c0141c42-da0f-40fb-f091-b670775c6cfc"
      },
      "outputs": [
        {
          "data": {
            "text/plain": [
              "np.float64(0.6731236206414506)"
            ]
          },
          "execution_count": 41,
          "metadata": {},
          "output_type": "execute_result"
        }
      ],
      "source": [
        "regsums.rsquared"
      ]
    },
    {
      "cell_type": "markdown",
      "metadata": {
        "id": "Lxnm7vY_2Xyc"
      },
      "source": [
        "### $R^2$ ajustado"
      ]
    },
    {
      "cell_type": "code",
      "execution_count": 42,
      "metadata": {
        "colab": {
          "base_uri": "https://localhost:8080/"
        },
        "id": "TwsZBh332Xyc",
        "outputId": "a68f918c-b509-48c1-8277-43ffefb5d4fc"
      },
      "outputs": [
        {
          "data": {
            "text/plain": [
              "np.float64(0.6663902120778851)"
            ]
          },
          "execution_count": 42,
          "metadata": {},
          "output_type": "execute_result"
        }
      ],
      "source": [
        "regsums.rsquared_adj"
      ]
    },
    {
      "cell_type": "code",
      "execution_count": 43,
      "metadata": {
        "colab": {
          "base_uri": "https://localhost:8080/"
        },
        "id": "6iC1yrZR2Xyc",
        "outputId": "9a7684e0-6b35-4f0b-802e-f04c4833ddea"
      },
      "outputs": [
        {
          "data": {
            "text/plain": [
              "np.float64(0.666390212077885)"
            ]
          },
          "execution_count": 43,
          "metadata": {},
          "output_type": "execute_result"
        }
      ],
      "source": [
        "1 - (regsums.ssr / regsums.df_resid) / (regsums.centered_tss / (regsums.df_model + regsums.df_resid))"
      ]
    },
    {
      "cell_type": "markdown",
      "metadata": {
        "id": "Rf08L7LI2Xyc"
      },
      "source": [
        "### Gráfico:\n",
        "\n",
        "$\\hat{y}$ y resid tienen correlación CERO"
      ]
    },
    {
      "cell_type": "code",
      "execution_count": 44,
      "metadata": {
        "colab": {
          "base_uri": "https://localhost:8080/",
          "height": 472
        },
        "id": "-w0PPSjY2Xyc",
        "outputId": "628438fd-517d-4df2-c684-85be818ca198"
      },
      "outputs": [
        {
          "data": {
            "image/png": "[encoded data removed]",
            "text/plain": [
              "<Figure size 640x480 with 1 Axes>"
            ]
          },
          "metadata": {},
          "output_type": "display_data"
        }
      ],
      "source": [
        "plt.scatter(regsums.fittedvalues, regsums.resid)\n",
        "plt.axhline(0, color='gray', linestyle='--')\n",
        "plt.xlabel(\"Fitted Values\")\n",
        "plt.ylabel(\"Residuos\")\n",
        "plt.title(\"Residuos vs. Valores Predichos\")\n",
        "plt.show()"
      ]
    },
    {
      "cell_type": "code",
      "execution_count": 45,
      "metadata": {},
      "outputs": [
        {
          "name": "stdout",
          "output_type": "stream",
          "text": [
            "LM p-value (el estadístico): 168.27932387737295     F p-value: 7.14472980045462e-10\n"
          ]
        }
      ],
      "source": [
        "# Test de heterocedasticidad de White. \n",
        "# H0 = homoscedasticidad\n",
        "import statsmodels.stats.api as sms\n",
        "white_test = sms.het_white(regsums.resid, regsums.model.exog)\n",
        "print(f\"LM p-value (el estadístico): {white_test[0]}     F p-value: {white_test[1]}\")"
      ]
    },
    {
      "cell_type": "markdown",
      "metadata": {
        "id": "ji1ADH8X2Xyc"
      },
      "source": [
        "### Banda de Confianza y de Prediccion\n",
        "\n",
        "Intervalo de confianza para $\\hat{Y}$ (Banda de confianza)\n",
        "\n",
        "INtervalo de confianza para $Y$ (Banda de predicción)"
      ]
    },
    {
      "cell_type": "markdown",
      "metadata": {},
      "source": [
        "**Banda de confianza**\n",
        "$$\n",
        "\\hat y\\ \\pm\\ t\\, SE\\big(\\hat y\\big)\n",
        "$$\n",
        "\n",
        "**Banda de predicción**\n",
        "$$\n",
        "\\hat y\\ \\pm\\ t\\, SE\\big(Y \\big)\n",
        "$$\n",
        "\n",
        "**Relación**\n",
        "$$\n",
        "SE\\big(Y \\big)=\\sqrt{SE\\big(\\hat y\\big)^2+s^2},\n",
        "\\qquad\n",
        "t=t_{1-\\alpha/2,\\;n-k},\\quad s=\\sqrt{\\tfrac{SSE}{n-k}}\n",
        "$$\n"
      ]
    },
    {
      "cell_type": "code",
      "execution_count": 46,
      "metadata": {
        "colab": {
          "base_uri": "https://localhost:8080/",
          "height": 206
        },
        "id": "uqiXPoub2Xyc",
        "outputId": "1abd35d0-664f-44e9-d99d-ab0ff966c25e"
      },
      "outputs": [
        {
          "data": {
            "text/html": [
              "<div>\n",
              "<style scoped>\n",
              "    .dataframe tbody tr th:only-of-type {\n",
              "        vertical-align: middle;\n",
              "    }\n",
              "\n",
              "    .dataframe tbody tr th {\n",
              "        vertical-align: top;\n",
              "    }\n",
              "\n",
              "    .dataframe thead th {\n",
              "        text-align: right;\n",
              "    }\n",
              "</style>\n",
              "<table border=\"1\" class=\"dataframe\">\n",
              "  <thead>\n",
              "    <tr style=\"text-align: right;\">\n",
              "      <th></th>\n",
              "      <th>mean</th>\n",
              "      <th>mean_se</th>\n",
              "      <th>mean_ci_lower</th>\n",
              "      <th>mean_ci_upper</th>\n",
              "      <th>obs_ci_lower</th>\n",
              "      <th>obs_ci_upper</th>\n",
              "    </tr>\n",
              "  </thead>\n",
              "  <tbody>\n",
              "    <tr>\n",
              "      <th>0</th>\n",
              "      <td>66037.975672</td>\n",
              "      <td>1790.507321</td>\n",
              "      <td>62520.673808</td>\n",
              "      <td>69555.277537</td>\n",
              "      <td>35536.935009</td>\n",
              "      <td>96539.016336</td>\n",
              "    </tr>\n",
              "    <tr>\n",
              "      <th>1</th>\n",
              "      <td>41391.151457</td>\n",
              "      <td>1406.499937</td>\n",
              "      <td>38628.199977</td>\n",
              "      <td>44154.102936</td>\n",
              "      <td>10967.871390</td>\n",
              "      <td>71814.431524</td>\n",
              "    </tr>\n",
              "    <tr>\n",
              "      <th>2</th>\n",
              "      <td>39889.630131</td>\n",
              "      <td>1534.101619</td>\n",
              "      <td>36876.015820</td>\n",
              "      <td>42903.244441</td>\n",
              "      <td>9442.562285</td>\n",
              "      <td>70336.697976</td>\n",
              "    </tr>\n",
              "    <tr>\n",
              "      <th>3</th>\n",
              "      <td>63689.087331</td>\n",
              "      <td>2262.055723</td>\n",
              "      <td>59245.468074</td>\n",
              "      <td>68132.706588</td>\n",
              "      <td>33067.398591</td>\n",
              "      <td>94310.776070</td>\n",
              "    </tr>\n",
              "    <tr>\n",
              "      <th>4</th>\n",
              "      <td>49760.426466</td>\n",
              "      <td>1567.689375</td>\n",
              "      <td>46680.831819</td>\n",
              "      <td>52840.021113</td>\n",
              "      <td>19306.757191</td>\n",
              "      <td>80214.095742</td>\n",
              "    </tr>\n",
              "  </tbody>\n",
              "</table>\n",
              "</div>"
            ],
            "text/plain": [
              "           mean      mean_se  mean_ci_lower  mean_ci_upper  obs_ci_lower  \\\n",
              "0  66037.975672  1790.507321   62520.673808   69555.277537  35536.935009   \n",
              "1  41391.151457  1406.499937   38628.199977   44154.102936  10967.871390   \n",
              "2  39889.630131  1534.101619   36876.015820   42903.244441   9442.562285   \n",
              "3  63689.087331  2262.055723   59245.468074   68132.706588  33067.398591   \n",
              "4  49760.426466  1567.689375   46680.831819   52840.021113  19306.757191   \n",
              "\n",
              "   obs_ci_upper  \n",
              "0  96539.016336  \n",
              "1  71814.431524  \n",
              "2  70336.697976  \n",
              "3  94310.776070  \n",
              "4  80214.095742  "
            ]
          },
          "execution_count": 46,
          "metadata": {},
          "output_type": "execute_result"
        }
      ],
      "source": [
        "predc = regsums.get_prediction()\n",
        "IC_predc = predc.summary_frame(alpha = 0.05)\n",
        "IC_predc.head()"
      ]
    },
    {
      "cell_type": "markdown",
      "metadata": {
        "id": "KuefIIye2Xyd"
      },
      "source": [
        "Bandas de confianza y prediccion para un valor especifico: la media de c/u"
      ]
    },
    {
      "cell_type": "code",
      "execution_count": 47,
      "metadata": {
        "colab": {
          "base_uri": "https://localhost:8080/",
          "height": 89
        },
        "id": "BZEXStZb2Xyd",
        "outputId": "f1ab052c-f0ca-4f4a-9b64-2093507a7986"
      },
      "outputs": [
        {
          "data": {
            "text/html": [
              "<div>\n",
              "<style scoped>\n",
              "    .dataframe tbody tr th:only-of-type {\n",
              "        vertical-align: middle;\n",
              "    }\n",
              "\n",
              "    .dataframe tbody tr th {\n",
              "        vertical-align: top;\n",
              "    }\n",
              "\n",
              "    .dataframe thead th {\n",
              "        text-align: right;\n",
              "    }\n",
              "</style>\n",
              "<table border=\"1\" class=\"dataframe\">\n",
              "  <thead>\n",
              "    <tr style=\"text-align: right;\">\n",
              "      <th></th>\n",
              "      <th>Intercept</th>\n",
              "      <th>LOTE</th>\n",
              "      <th>CUARTOS</th>\n",
              "      <th>BANOS</th>\n",
              "      <th>PISOS</th>\n",
              "      <th>ENTRADA</th>\n",
              "      <th>REC</th>\n",
              "      <th>SOTANO</th>\n",
              "      <th>CALEF</th>\n",
              "      <th>AIRE</th>\n",
              "      <th>GARAGE</th>\n",
              "      <th>NBHD</th>\n",
              "    </tr>\n",
              "  </thead>\n",
              "  <tbody>\n",
              "    <tr>\n",
              "      <th>0</th>\n",
              "      <td>1</td>\n",
              "      <td>5150.265568</td>\n",
              "      <td>2.965201</td>\n",
              "      <td>1.285714</td>\n",
              "      <td>1.807692</td>\n",
              "      <td>0.858974</td>\n",
              "      <td>0.177656</td>\n",
              "      <td>0.349817</td>\n",
              "      <td>0.045788</td>\n",
              "      <td>0.31685</td>\n",
              "      <td>0.692308</td>\n",
              "      <td>0.234432</td>\n",
              "    </tr>\n",
              "  </tbody>\n",
              "</table>\n",
              "</div>"
            ],
            "text/plain": [
              "   Intercept         LOTE   CUARTOS     BANOS     PISOS   ENTRADA       REC  \\\n",
              "0          1  5150.265568  2.965201  1.285714  1.807692  0.858974  0.177656   \n",
              "\n",
              "     SOTANO     CALEF     AIRE    GARAGE      NBHD  \n",
              "0  0.349817  0.045788  0.31685  0.692308  0.234432  "
            ]
          },
          "execution_count": 47,
          "metadata": {},
          "output_type": "execute_result"
        }
      ],
      "source": [
        "media_variables = pd.DataFrame(\n",
        "    [[1] + dfcasa[regsums.model.exog_names[1:]].mean().tolist()],\n",
        "    columns=regsums.model.exog_names\n",
        ")\n",
        "media_variables"
      ]
    },
    {
      "cell_type": "code",
      "execution_count": 48,
      "metadata": {
        "colab": {
          "base_uri": "https://localhost:8080/",
          "height": 89
        },
        "id": "f1bQhLM52Xyd",
        "outputId": "7f1a4f05-88b2-4025-9f01-7b6a896058fb"
      },
      "outputs": [
        {
          "data": {
            "text/html": [
              "<div>\n",
              "<style scoped>\n",
              "    .dataframe tbody tr th:only-of-type {\n",
              "        vertical-align: middle;\n",
              "    }\n",
              "\n",
              "    .dataframe tbody tr th {\n",
              "        vertical-align: top;\n",
              "    }\n",
              "\n",
              "    .dataframe thead th {\n",
              "        text-align: right;\n",
              "    }\n",
              "</style>\n",
              "<table border=\"1\" class=\"dataframe\">\n",
              "  <thead>\n",
              "    <tr style=\"text-align: right;\">\n",
              "      <th></th>\n",
              "      <th>mean</th>\n",
              "      <th>mean_se</th>\n",
              "      <th>mean_ci_lower</th>\n",
              "      <th>mean_ci_upper</th>\n",
              "      <th>obs_ci_lower</th>\n",
              "      <th>obs_ci_upper</th>\n",
              "    </tr>\n",
              "  </thead>\n",
              "  <tbody>\n",
              "    <tr>\n",
              "      <th>0</th>\n",
              "      <td>68121.59707</td>\n",
              "      <td>660.051427</td>\n",
              "      <td>66824.981251</td>\n",
              "      <td>69418.212888</td>\n",
              "      <td>37796.305946</td>\n",
              "      <td>98446.888193</td>\n",
              "    </tr>\n",
              "  </tbody>\n",
              "</table>\n",
              "</div>"
            ],
            "text/plain": [
              "          mean     mean_se  mean_ci_lower  mean_ci_upper  obs_ci_lower  \\\n",
              "0  68121.59707  660.051427   66824.981251   69418.212888  37796.305946   \n",
              "\n",
              "   obs_ci_upper  \n",
              "0  98446.888193  "
            ]
          },
          "execution_count": 48,
          "metadata": {},
          "output_type": "execute_result"
        }
      ],
      "source": [
        "pred_media = regsums.get_prediction(media_variables)\n",
        "IC_media = pred_media.summary_frame(alpha=0.05)\n",
        "IC_media"
      ]
    },
    {
      "cell_type": "markdown",
      "metadata": {
        "id": "dndlJqd62Xyd"
      },
      "source": [
        "Bandas para un valor específico"
      ]
    },
    {
      "cell_type": "code",
      "execution_count": 49,
      "metadata": {
        "colab": {
          "base_uri": "https://localhost:8080/"
        },
        "id": "f3V-S4GO2Xyd",
        "outputId": "bc7cb614-b406-4f02-bc4f-6a8e9492baa3"
      },
      "outputs": [
        {
          "name": "stdout",
          "output_type": "stream",
          "text": [
            "            mean      mean_se  mean_ci_lower  mean_ci_upper  obs_ci_lower  \\\n",
            "0  113411.589583  3852.264663  105844.137876  120979.041291  82183.262787   \n",
            "\n",
            "   obs_ci_upper  \n",
            "0  144639.91638  \n"
          ]
        }
      ],
      "source": [
        "valores = pd.DataFrame([[1, 5000, 4, 2, 2, 1, 1, 1, 1, 1, 2, 0]], columns=regsums.model.exog_names)\n",
        "pred = regsums.get_prediction(valores)\n",
        "summary = pred.summary_frame(alpha=0.05)\n",
        "print(summary)"
      ]
    },
    {
      "cell_type": "markdown",
      "metadata": {
        "id": "8YzSnwlL2Xyd"
      },
      "source": [
        "###  Test de Heteroscedasticidad de White"
      ]
    },
    {
      "cell_type": "code",
      "execution_count": 64,
      "metadata": {
        "colab": {
          "base_uri": "https://localhost:8080/"
        },
        "id": "tLCX46QD2Xyd",
        "outputId": "e7ca26e9-add7-4ff4-f35c-c151fff2b45e"
      },
      "outputs": [
        {
          "name": "stdout",
          "output_type": "stream",
          "text": [
            "LM p-value (el estadístico): 168.27932387737295     F p-value: 7.14472980045462e-10\n"
          ]
        }
      ],
      "source": [
        "white_test = sms.het_white(regsums.resid, regsums.model.exog)\n",
        "print(f\"LM p-value (el estadístico): {white_test[0]}     F p-value: {white_test[1]}\")"
      ]
    },
    {
      "cell_type": "code",
      "execution_count": null,
      "metadata": {},
      "outputs": [
        {
          "name": "stdout",
          "output_type": "stream",
          "text": [
            "LM p-value (estadístico de Breusch-Pagan): 4.013761948788031e-09     F p-value: 6.213267868698657\n"
          ]
        }
      ],
      "source": [
        "# Otro test de heteroestaticidad: Breusch-Pagan\n",
        "import statsmodels.stats.api as sms\n",
        "bp_test = sms.het_breuschpagan(regsums.resid, regsums.model.exog)\n",
        "print(f\"LM p-value (estadístico de Breusch-Pagan): {bp_test[1]}     F p-value: {bp_test[2]}\")"
      ]
    },
    {
      "cell_type": "markdown",
      "metadata": {
        "id": "5ephR4HW2Xyd"
      },
      "source": [
        "Corrección de la heterocedasticidad (corrige la segunda columna)\n",
        "\n",
        "Resultados con errores estándar robustos (tipo White / HC1)"
      ]
    },
    {
      "cell_type": "code",
      "execution_count": 65,
      "metadata": {
        "colab": {
          "base_uri": "https://localhost:8080/"
        },
        "id": "kuYZwnO32Xyd",
        "outputId": "66009874-6efe-4a34-cc25-db8e6a411f69"
      },
      "outputs": [
        {
          "name": "stdout",
          "output_type": "stream",
          "text": [
            "                            OLS Regression Results                            \n",
            "==============================================================================\n",
            "Dep. Variable:                 PRECIO   R-squared:                       0.673\n",
            "Model:                            OLS   Adj. R-squared:                  0.666\n",
            "Method:                 Least Squares   F-statistic:                     87.32\n",
            "Date:                Wed, 20 Aug 2025   Prob (F-statistic):          1.05e-111\n",
            "Time:                        21:03:48   Log-Likelihood:                -6034.1\n",
            "No. Observations:                 546   AIC:                         1.209e+04\n",
            "Df Residuals:                     534   BIC:                         1.214e+04\n",
            "Df Model:                          11                                         \n",
            "Covariance Type:                  HC1                                         \n",
            "==============================================================================\n",
            "                 coef    std err          t      P>|t|      [0.025      0.975]\n",
            "------------------------------------------------------------------------------\n",
            "Intercept  -4038.3504   3182.329     -1.269      0.205   -1.03e+04    2213.069\n",
            "LOTE           3.5463      0.394      9.004      0.000       2.773       4.320\n",
            "CUARTOS     1832.0035   1038.158      1.765      0.078    -207.371    3871.378\n",
            "BANOS       1.434e+04   1899.664      7.546      0.000    1.06e+04    1.81e+04\n",
            "PISOS       6556.9457    869.607      7.540      0.000    4848.676    8265.215\n",
            "ENTRADA     6687.7789   1657.457      4.035      0.000    3431.843    9943.715\n",
            "REC         4511.2838   2144.416      2.104      0.036     298.757    8723.810\n",
            "SOTANO      5452.3855   1769.054      3.082      0.002    1977.227    8927.544\n",
            "CALEF       1.283e+04   4242.979      3.024      0.003    4496.428    2.12e+04\n",
            "AIRE        1.263e+04   1666.225      7.582      0.000    9359.731    1.59e+04\n",
            "GARAGE      4244.8290    946.285      4.486      0.000    2385.930    6103.728\n",
            "NBHD        9369.5132   1870.884      5.008      0.000    5694.319     1.3e+04\n",
            "==============================================================================\n",
            "Omnibus:                       93.454   Durbin-Watson:                   1.604\n",
            "Prob(Omnibus):                  0.000   Jarque-Bera (JB):              247.620\n",
            "Skew:                           0.853   Prob(JB):                     1.70e-54\n",
            "Kurtosis:                       5.824   Cond. No.                     3.07e+04\n",
            "==============================================================================\n",
            "\n",
            "Notes:\n",
            "[1] Standard Errors are heteroscedasticity robust (HC1)\n",
            "[2] The condition number is large, 3.07e+04. This might indicate that there are\n",
            "strong multicollinearity or other numerical problems.\n"
          ]
        }
      ],
      "source": [
        "regsums_robusto = regsums.get_robustcov_results(cov_type='HC1')\n",
        "print(regsums_robusto.summary())"
      ]
    },
    {
      "cell_type": "markdown",
      "metadata": {
        "id": "wdQc1x9Q2Xyd"
      },
      "source": [
        "## Ejemplo de Multicolinealidad"
      ]
    },
    {
      "cell_type": "code",
      "execution_count": 52,
      "metadata": {
        "colab": {
          "base_uri": "https://localhost:8080/",
          "height": 677
        },
        "id": "k7vwc2qq2Xyd",
        "outputId": "fb59ef38-3023-48e4-c865-265b3221c3cb"
      },
      "outputs": [
        {
          "data": {
            "text/html": [
              "<div>\n",
              "<style scoped>\n",
              "    .dataframe tbody tr th:only-of-type {\n",
              "        vertical-align: middle;\n",
              "    }\n",
              "\n",
              "    .dataframe tbody tr th {\n",
              "        vertical-align: top;\n",
              "    }\n",
              "\n",
              "    .dataframe thead th {\n",
              "        text-align: right;\n",
              "    }\n",
              "</style>\n",
              "<table border=\"1\" class=\"dataframe\">\n",
              "  <thead>\n",
              "    <tr style=\"text-align: right;\">\n",
              "      <th></th>\n",
              "      <th>Gan</th>\n",
              "      <th>Gan_10</th>\n",
              "      <th>Comp</th>\n",
              "    </tr>\n",
              "  </thead>\n",
              "  <tbody>\n",
              "    <tr>\n",
              "      <th>0</th>\n",
              "      <td>357.0</td>\n",
              "      <td>35</td>\n",
              "      <td>0.7</td>\n",
              "    </tr>\n",
              "    <tr>\n",
              "      <th>1</th>\n",
              "      <td>48.0</td>\n",
              "      <td>4</td>\n",
              "      <td>0.7</td>\n",
              "    </tr>\n",
              "    <tr>\n",
              "      <th>2</th>\n",
              "      <td>932.0</td>\n",
              "      <td>93</td>\n",
              "      <td>0.8</td>\n",
              "    </tr>\n",
              "    <tr>\n",
              "      <th>3</th>\n",
              "      <td>366.0</td>\n",
              "      <td>36</td>\n",
              "      <td>0.7</td>\n",
              "    </tr>\n",
              "    <tr>\n",
              "      <th>4</th>\n",
              "      <td>83.0</td>\n",
              "      <td>8</td>\n",
              "      <td>0.8</td>\n",
              "    </tr>\n",
              "    <tr>\n",
              "      <th>5</th>\n",
              "      <td>22.0</td>\n",
              "      <td>2</td>\n",
              "      <td>0.0</td>\n",
              "    </tr>\n",
              "    <tr>\n",
              "      <th>6</th>\n",
              "      <td>67.0</td>\n",
              "      <td>6</td>\n",
              "      <td>0.0</td>\n",
              "    </tr>\n",
              "    <tr>\n",
              "      <th>7</th>\n",
              "      <td>413.0</td>\n",
              "      <td>41</td>\n",
              "      <td>0.6</td>\n",
              "    </tr>\n",
              "    <tr>\n",
              "      <th>8</th>\n",
              "      <td>496.0</td>\n",
              "      <td>49</td>\n",
              "      <td>0.3</td>\n",
              "    </tr>\n",
              "    <tr>\n",
              "      <th>9</th>\n",
              "      <td>458.0</td>\n",
              "      <td>45</td>\n",
              "      <td>0.5</td>\n",
              "    </tr>\n",
              "    <tr>\n",
              "      <th>10</th>\n",
              "      <td>152.0</td>\n",
              "      <td>15</td>\n",
              "      <td>0.4</td>\n",
              "    </tr>\n",
              "    <tr>\n",
              "      <th>11</th>\n",
              "      <td>115.0</td>\n",
              "      <td>11</td>\n",
              "      <td>1.0</td>\n",
              "    </tr>\n",
              "    <tr>\n",
              "      <th>12</th>\n",
              "      <td>964.0</td>\n",
              "      <td>96</td>\n",
              "      <td>0.9</td>\n",
              "    </tr>\n",
              "    <tr>\n",
              "      <th>13</th>\n",
              "      <td>459.0</td>\n",
              "      <td>45</td>\n",
              "      <td>1.2</td>\n",
              "    </tr>\n",
              "    <tr>\n",
              "      <th>14</th>\n",
              "      <td>421.0</td>\n",
              "      <td>42</td>\n",
              "      <td>1.0</td>\n",
              "    </tr>\n",
              "    <tr>\n",
              "      <th>15</th>\n",
              "      <td>723.0</td>\n",
              "      <td>72</td>\n",
              "      <td>1.3</td>\n",
              "    </tr>\n",
              "    <tr>\n",
              "      <th>16</th>\n",
              "      <td>256.0</td>\n",
              "      <td>25</td>\n",
              "      <td>1.1</td>\n",
              "    </tr>\n",
              "    <tr>\n",
              "      <th>17</th>\n",
              "      <td>294.0</td>\n",
              "      <td>29</td>\n",
              "      <td>0.5</td>\n",
              "    </tr>\n",
              "    <tr>\n",
              "      <th>18</th>\n",
              "      <td>1310.0</td>\n",
              "      <td>131</td>\n",
              "      <td>0.7</td>\n",
              "    </tr>\n",
              "    <tr>\n",
              "      <th>19</th>\n",
              "      <td>627.0</td>\n",
              "      <td>62</td>\n",
              "      <td>0.6</td>\n",
              "    </tr>\n",
              "  </tbody>\n",
              "</table>\n",
              "</div>"
            ],
            "text/plain": [
              "       Gan  Gan_10  Comp\n",
              "0    357.0      35   0.7\n",
              "1     48.0       4   0.7\n",
              "2    932.0      93   0.8\n",
              "3    366.0      36   0.7\n",
              "4     83.0       8   0.8\n",
              "5     22.0       2   0.0\n",
              "6     67.0       6   0.0\n",
              "7    413.0      41   0.6\n",
              "8    496.0      49   0.3\n",
              "9    458.0      45   0.5\n",
              "10   152.0      15   0.4\n",
              "11   115.0      11   1.0\n",
              "12   964.0      96   0.9\n",
              "13   459.0      45   1.2\n",
              "14   421.0      42   1.0\n",
              "15   723.0      72   1.3\n",
              "16   256.0      25   1.1\n",
              "17   294.0      29   0.5\n",
              "18  1310.0     131   0.7\n",
              "19   627.0      62   0.6"
            ]
          },
          "execution_count": 52,
          "metadata": {},
          "output_type": "execute_result"
        }
      ],
      "source": [
        "dfmulti = pd.read_excel('CEO_ejemplo_multicolinealidad.xlsx', sheet_name='Hoja1', usecols='A:C')\n",
        "dfmulti.head(20)"
      ]
    },
    {
      "cell_type": "markdown",
      "metadata": {
        "id": "ZKk5nbdM2Xyd"
      },
      "source": [
        "### p-values de betas Gan y Gan_10 grandes, indicando que no rechazamos $H_0: b=0$"
      ]
    },
    {
      "cell_type": "code",
      "execution_count": 53,
      "metadata": {
        "colab": {
          "base_uri": "https://localhost:8080/"
        },
        "id": "JWPRRFm92Xye",
        "outputId": "214569f7-ce12-4e63-ce24-784ff19f2bc4"
      },
      "outputs": [
        {
          "name": "stdout",
          "output_type": "stream",
          "text": [
            "                            OLS Regression Results                            \n",
            "==============================================================================\n",
            "Dep. Variable:                   Comp   R-squared:                       0.436\n",
            "Model:                            OLS   Adj. R-squared:                  0.419\n",
            "Method:                 Least Squares   F-statistic:                     25.92\n",
            "Date:                Wed, 20 Aug 2025   Prob (F-statistic):           4.59e-09\n",
            "Time:                        20:58:25   Log-Likelihood:                -73.546\n",
            "No. Observations:                  70   AIC:                             153.1\n",
            "Df Residuals:                      67   BIC:                             159.8\n",
            "Df Model:                           2                                         \n",
            "Covariance Type:            nonrobust                                         \n",
            "==============================================================================\n",
            "                 coef    std err          t      P>|t|      [0.025      0.975]\n",
            "------------------------------------------------------------------------------\n",
            "const          0.6558      0.166      3.941      0.000       0.324       0.988\n",
            "Gan           -0.0131      0.031     -0.430      0.669      -0.074       0.048\n",
            "Gan_10         0.1396      0.305      0.457      0.649      -0.470       0.749\n",
            "==============================================================================\n",
            "Omnibus:                       22.010   Durbin-Watson:                   2.016\n",
            "Prob(Omnibus):                  0.000   Jarque-Bera (JB):               36.313\n",
            "Skew:                           1.156   Prob(JB):                     1.30e-08\n",
            "Kurtosis:                       5.665   Cond. No.                     3.82e+03\n",
            "==============================================================================\n",
            "\n",
            "Notes:\n",
            "[1] Standard Errors assume that the covariance matrix of the errors is correctly specified.\n",
            "[2] The condition number is large, 3.82e+03. This might indicate that there are\n",
            "strong multicollinearity or other numerical problems.\n"
          ]
        }
      ],
      "source": [
        "X_mult = sm.add_constant(dfmulti.drop(columns='Comp'))\n",
        "y = dfmulti[\"Comp\"]\n",
        "regre_multico = sm.OLS(y, X_mult).fit()\n",
        "print(regre_multico.summary())"
      ]
    },
    {
      "cell_type": "code",
      "execution_count": 54,
      "metadata": {
        "colab": {
          "base_uri": "https://localhost:8080/"
        },
        "id": "4BRxArRb2Xye",
        "outputId": "d4103362-dddd-44b5-92c8-c185406c45bd"
      },
      "outputs": [
        {
          "name": "stdout",
          "output_type": "stream",
          "text": [
            "                            OLS Regression Results                            \n",
            "==============================================================================\n",
            "Dep. Variable:                   Comp   R-squared:                       0.434\n",
            "Model:                            OLS   Adj. R-squared:                  0.426\n",
            "Method:                 Least Squares   F-statistic:                     52.24\n",
            "Date:                Wed, 20 Aug 2025   Prob (F-statistic):           5.50e-10\n",
            "Time:                        20:58:25   Log-Likelihood:                -73.655\n",
            "No. Observations:                  70   AIC:                             151.3\n",
            "Df Residuals:                      68   BIC:                             155.8\n",
            "Df Model:                           1                                         \n",
            "Covariance Type:            nonrobust                                         \n",
            "==============================================================================\n",
            "                 coef    std err          t      P>|t|      [0.025      0.975]\n",
            "------------------------------------------------------------------------------\n",
            "const          0.6000      0.112      5.342      0.000       0.376       0.824\n",
            "Gan            0.0008      0.000      7.228      0.000       0.001       0.001\n",
            "==============================================================================\n",
            "Omnibus:                       21.745   Durbin-Watson:                   2.045\n",
            "Prob(Omnibus):                  0.000   Jarque-Bera (JB):               36.165\n",
            "Skew:                           1.136   Prob(JB):                     1.40e-08\n",
            "Kurtosis:                       5.691   Cond. No.                     1.29e+03\n",
            "==============================================================================\n",
            "\n",
            "Notes:\n",
            "[1] Standard Errors assume that the covariance matrix of the errors is correctly specified.\n",
            "[2] The condition number is large, 1.29e+03. This might indicate that there are\n",
            "strong multicollinearity or other numerical problems.\n"
          ]
        }
      ],
      "source": [
        "X = sm.add_constant(dfmulti[\"Gan\"])\n",
        "regre_normal = sm.OLS(y, X).fit()\n",
        "print(regre_normal.summary())"
      ]
    }
  ],
  "metadata": {
    "colab": {
      "provenance": [],
      "toc_visible": true
    },
    "kernelspec": {
      "display_name": "env-udesa",
      "language": "python",
      "name": "python3"
    },
    "language_info": {
      "codemirror_mode": {
        "name": "ipython",
        "version": 3
      },
      "file_extension": ".py",
      "mimetype": "text/x-python",
      "name": "python",
      "nbconvert_exporter": "python",
      "pygments_lexer": "ipython3",
      "version": "3.13.3"
    }
  },
  "nbformat": 4,
  "nbformat_minor": 0
}
